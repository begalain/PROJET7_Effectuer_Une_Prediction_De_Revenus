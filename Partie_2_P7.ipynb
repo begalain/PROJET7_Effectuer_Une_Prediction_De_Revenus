{
 "cells": [
  {
   "cell_type": "markdown",
   "metadata": {},
   "source": [
    "<a id='sommaire'></a>\n",
    "<h1 style='text-align:center;border:5px double;border-color:gray;'>\n",
    "    <br/>\n",
    "    PROJET 7<br/>\n",
    "    <br/>\n",
    "    \"Effectuez une prédiction de revenus\"\n",
    "    <br/>\n",
    "    <br/>\n",
    "    Partie 2: Etude de modèles<br/>\n",
    "</h1>\n",
    "\n",
    "## [ANOVA de la variable revenus des enfants en fonction du pays](#anova)  \n",
    "* [Préparation et représentation des données](#prepa)  \n",
    "* [Vérification de l'hypothèse gaussienne](#verif)  \n",
    "\n",
    "## [Régression linéaire du revenu enfant sur le revenu moyen du pays et l'indice de Gini](#reg1)  \n",
    "* [Tests de significativité](#test1)  \n",
    "* [Passage au logarithme du revenu enfant](#log1)  \n",
    "* [Analyses de $R^2$](#rsq1)  \n",
    "* [Analyse de l'atypicité sur les variables explicatives](#atyp1)  \n",
    "* [Analyse de l'atypicité sur la variable à expliquer (residus studentisés)](#atyp1bis)  \n",
    "* [Analyse de l'influence des observations](#infl1)  \n",
    "* [Mesures atypiques et influentes](#atyp_infl1)  \n",
    "* [Détection des problèmes de colinéarité](#vif1)  \n",
    "* [Test d'homoscédasticité](#breu1)  \n",
    "* [Test de normalité des résidus](#norm1)  \n",
    "\n",
    "\n",
    "## [Régression linéaire du revenu enfant sur le revenu moyen du pays, l'indice de Gini et la classe de revenus des parents](#reg2)  \n",
    "* [Tests de significativité](#test2)  \n",
    "* [Passage au logarithme du revenu enfant](#log2)  \n",
    "* [Analyses de $R^2$](#rsq2)  \n",
    "* [Détection des problèmes de colinéarité](#vif2)  \n",
    "* [Test d'homoscédasticité](#breu2)  \n",
    "* [Test de normalité des résidus](#norm2)  \n",
    "  \n",
    "\n",
    "## [Conclusion](#ccl)  "
   ]
  },
  {
   "cell_type": "code",
   "execution_count": 1,
   "metadata": {},
   "outputs": [
    {
     "name": "stdout",
     "output_type": "stream",
     "text": [
      "0.23.4\n"
     ]
    }
   ],
   "source": [
    "#! coding:utf-8\n",
    "import pandas as pd\n",
    "print(pd.__version__)"
   ]
  },
  {
   "cell_type": "code",
   "execution_count": 2,
   "metadata": {},
   "outputs": [
    {
     "name": "stdout",
     "output_type": "stream",
     "text": [
      "1.15.4\n"
     ]
    }
   ],
   "source": [
    "import numpy as np\n",
    "print(np.__version__)"
   ]
  },
  {
   "cell_type": "code",
   "execution_count": 3,
   "metadata": {},
   "outputs": [
    {
     "name": "stdout",
     "output_type": "stream",
     "text": [
      "3.0.3\n"
     ]
    }
   ],
   "source": [
    "import matplotlib\n",
    "import matplotlib.pyplot as plt\n",
    "\n",
    "plt.style.use('ggplot')\n",
    "\n",
    "print(matplotlib.__version__)"
   ]
  },
  {
   "cell_type": "code",
   "execution_count": 4,
   "metadata": {},
   "outputs": [
    {
     "name": "stdout",
     "output_type": "stream",
     "text": [
      "0.9.0\n"
     ]
    }
   ],
   "source": [
    "import seaborn as sns\n",
    "\n",
    "print(sns.__version__)"
   ]
  },
  {
   "cell_type": "code",
   "execution_count": 5,
   "metadata": {},
   "outputs": [
    {
     "name": "stdout",
     "output_type": "stream",
     "text": [
      "0.9.0\n"
     ]
    }
   ],
   "source": [
    "import statsmodels\n",
    "\n",
    "import statsmodels.api as sm\n",
    "import statsmodels.formula.api as smf\n",
    "from statsmodels.stats.outliers_influence import variance_inflation_factor\n",
    "\n",
    "print(statsmodels.__version__)"
   ]
  },
  {
   "cell_type": "code",
   "execution_count": 6,
   "metadata": {},
   "outputs": [
    {
     "name": "stdout",
     "output_type": "stream",
     "text": [
      "1.1.0\n"
     ]
    }
   ],
   "source": [
    "import scipy\n",
    "\n",
    "import scipy.stats as st\n",
    "from scipy.stats import t, shapiro, ks_2samp\n",
    "\n",
    "print(scipy.__version__)"
   ]
  },
  {
   "cell_type": "code",
   "execution_count": 7,
   "metadata": {},
   "outputs": [],
   "source": [
    "from functions2 import *"
   ]
  },
  {
   "cell_type": "code",
   "execution_count": 8,
   "metadata": {},
   "outputs": [],
   "source": [
    "import os\n",
    "os.makedirs('graph', exist_ok=True)"
   ]
  },
  {
   "cell_type": "markdown",
   "metadata": {},
   "source": [
    "### Mission: Créer un modèle permettant de déterminer le revenu potentiel d'une personne  \n",
    "  \n",
    "\n",
    "* Etude retrospective  \n",
    "* Variable d'intérêt (dépendante, à expliquer): 'y_child' ou 'ln_y_child'  \n",
    "* Facteur (variables indépendantes, explicatives): 'Pays', 'mj', 'ln_mj', 'Gj', 'c_i_parent'  \n",
    "  \n",
    "#### Description des variable:  \n",
    "  \n",
    "**y_child**: revenu  \n",
    "**ln_y_child**: logarithme de y_child  \n",
    "**Pays**: Pays d'appartenance d'un individus  \n",
    "**mj**: revenu moyen par pays  \n",
    "**ln_mj**: logarithme de mj  \n",
    "**Gj**: Indice de Gini du pays  \n",
    "**c_i_parent**: classe de revenu des parent"
   ]
  },
  {
   "cell_type": "markdown",
   "metadata": {},
   "source": [
    "<a id='anova'></a>\n",
    "## ANOVA de la variable revenus des enfants en fonction du pays"
   ]
  },
  {
   "cell_type": "markdown",
   "metadata": {},
   "source": [
    "<a id='prepa'></a>\n",
    "<h3 style='color:#8677b2'>Préparation et représentation des données</h3>"
   ]
  },
  {
   "cell_type": "markdown",
   "metadata": {},
   "source": [
    "[Haut de page](#sommaire)"
   ]
  },
  {
   "cell_type": "code",
   "execution_count": 9,
   "metadata": {},
   "outputs": [
    {
     "data": {
      "text/html": [
       "<div>\n",
       "<style scoped>\n",
       "    .dataframe tbody tr th:only-of-type {\n",
       "        vertical-align: middle;\n",
       "    }\n",
       "\n",
       "    .dataframe tbody tr th {\n",
       "        vertical-align: top;\n",
       "    }\n",
       "\n",
       "    .dataframe thead th {\n",
       "        text-align: right;\n",
       "    }\n",
       "</style>\n",
       "<table border=\"1\" class=\"dataframe\">\n",
       "  <thead>\n",
       "    <tr style=\"text-align: right;\">\n",
       "      <th></th>\n",
       "      <th>Pays</th>\n",
       "      <th>y_child</th>\n",
       "      <th>Gj</th>\n",
       "      <th>pj</th>\n",
       "      <th>c_i_parent</th>\n",
       "      <th>mj</th>\n",
       "      <th>ln_y_child</th>\n",
       "      <th>ln_mj</th>\n",
       "    </tr>\n",
       "  </thead>\n",
       "  <tbody>\n",
       "    <tr>\n",
       "      <th>0</th>\n",
       "      <td>Albania</td>\n",
       "      <td>728.89795</td>\n",
       "      <td>0.32141</td>\n",
       "      <td>0.815874</td>\n",
       "      <td>1</td>\n",
       "      <td>2994.829902</td>\n",
       "      <td>6.591534</td>\n",
       "      <td>8.004643</td>\n",
       "    </tr>\n",
       "    <tr>\n",
       "      <th>1</th>\n",
       "      <td>Albania</td>\n",
       "      <td>728.89795</td>\n",
       "      <td>0.32141</td>\n",
       "      <td>0.815874</td>\n",
       "      <td>1</td>\n",
       "      <td>2994.829902</td>\n",
       "      <td>6.591534</td>\n",
       "      <td>8.004643</td>\n",
       "    </tr>\n",
       "    <tr>\n",
       "      <th>2</th>\n",
       "      <td>Albania</td>\n",
       "      <td>728.89795</td>\n",
       "      <td>0.32141</td>\n",
       "      <td>0.815874</td>\n",
       "      <td>1</td>\n",
       "      <td>2994.829902</td>\n",
       "      <td>6.591534</td>\n",
       "      <td>8.004643</td>\n",
       "    </tr>\n",
       "    <tr>\n",
       "      <th>3</th>\n",
       "      <td>Albania</td>\n",
       "      <td>728.89795</td>\n",
       "      <td>0.32141</td>\n",
       "      <td>0.815874</td>\n",
       "      <td>1</td>\n",
       "      <td>2994.829902</td>\n",
       "      <td>6.591534</td>\n",
       "      <td>8.004643</td>\n",
       "    </tr>\n",
       "    <tr>\n",
       "      <th>4</th>\n",
       "      <td>Albania</td>\n",
       "      <td>728.89795</td>\n",
       "      <td>0.32141</td>\n",
       "      <td>0.815874</td>\n",
       "      <td>1</td>\n",
       "      <td>2994.829902</td>\n",
       "      <td>6.591534</td>\n",
       "      <td>8.004643</td>\n",
       "    </tr>\n",
       "  </tbody>\n",
       "</table>\n",
       "</div>"
      ],
      "text/plain": [
       "      Pays    y_child       Gj        pj  c_i_parent           mj  ln_y_child  \\\n",
       "0  Albania  728.89795  0.32141  0.815874           1  2994.829902    6.591534   \n",
       "1  Albania  728.89795  0.32141  0.815874           1  2994.829902    6.591534   \n",
       "2  Albania  728.89795  0.32141  0.815874           1  2994.829902    6.591534   \n",
       "3  Albania  728.89795  0.32141  0.815874           1  2994.829902    6.591534   \n",
       "4  Albania  728.89795  0.32141  0.815874           1  2994.829902    6.591534   \n",
       "\n",
       "      ln_mj  \n",
       "0  8.004643  \n",
       "1  8.004643  \n",
       "2  8.004643  \n",
       "3  8.004643  \n",
       "4  8.004643  "
      ]
     },
     "execution_count": 9,
     "metadata": {},
     "output_type": "execute_result"
    }
   ],
   "source": [
    "# Chargement des données\n",
    "ready_db1 = pd.read_csv('analyse.csv')\n",
    "\n",
    "ready_db1.head()"
   ]
  },
  {
   "cell_type": "code",
   "execution_count": 10,
   "metadata": {},
   "outputs": [],
   "source": [
    "# Pour l'ensemble des tests, notre niveau de test sera:\n",
    "alpha = 0.05"
   ]
  },
  {
   "cell_type": "markdown",
   "metadata": {},
   "source": [
    "* Le pays d'origine a-t-il une influence sur le revenu?  "
   ]
  },
  {
   "cell_type": "markdown",
   "metadata": {},
   "source": [
    "H0: Tous les pays ont le même revenu (tous les alpha_i sont nuls)  \n",
    "Le pays n'a pas d'influence sur le revenu enfant moyen  \n",
    "  \n",
    "H1: Les revenus dépendent du pays (les alpha_i sont différents de 0)  \n",
    "Le pays a une influence sur le revenu"
   ]
  },
  {
   "cell_type": "code",
   "execution_count": 11,
   "metadata": {},
   "outputs": [
    {
     "data": {
      "text/html": [
       "<div>\n",
       "<style scoped>\n",
       "    .dataframe tbody tr th:only-of-type {\n",
       "        vertical-align: middle;\n",
       "    }\n",
       "\n",
       "    .dataframe tbody tr th {\n",
       "        vertical-align: top;\n",
       "    }\n",
       "\n",
       "    .dataframe thead th {\n",
       "        text-align: right;\n",
       "    }\n",
       "</style>\n",
       "<table border=\"1\" class=\"dataframe\">\n",
       "  <thead>\n",
       "    <tr style=\"text-align: right;\">\n",
       "      <th></th>\n",
       "      <th>Pays</th>\n",
       "      <th>y_child</th>\n",
       "      <th>mj</th>\n",
       "      <th>Gj</th>\n",
       "      <th>pj</th>\n",
       "      <th>ln_mj</th>\n",
       "      <th>ln_y_child</th>\n",
       "    </tr>\n",
       "  </thead>\n",
       "  <tbody>\n",
       "    <tr>\n",
       "      <th>11595</th>\n",
       "      <td>Yemen</td>\n",
       "      <td>2568.6511</td>\n",
       "      <td>1042.63587</td>\n",
       "      <td>0.390259</td>\n",
       "      <td>0.916461</td>\n",
       "      <td>6.949507</td>\n",
       "      <td>7.851136</td>\n",
       "    </tr>\n",
       "    <tr>\n",
       "      <th>11596</th>\n",
       "      <td>Yemen</td>\n",
       "      <td>2893.9040</td>\n",
       "      <td>1042.63587</td>\n",
       "      <td>0.390259</td>\n",
       "      <td>0.916461</td>\n",
       "      <td>6.949507</td>\n",
       "      <td>7.970362</td>\n",
       "    </tr>\n",
       "    <tr>\n",
       "      <th>11597</th>\n",
       "      <td>Yemen</td>\n",
       "      <td>3307.2722</td>\n",
       "      <td>1042.63587</td>\n",
       "      <td>0.390259</td>\n",
       "      <td>0.916461</td>\n",
       "      <td>6.949507</td>\n",
       "      <td>8.103879</td>\n",
       "    </tr>\n",
       "    <tr>\n",
       "      <th>11598</th>\n",
       "      <td>Yemen</td>\n",
       "      <td>4137.0264</td>\n",
       "      <td>1042.63587</td>\n",
       "      <td>0.390259</td>\n",
       "      <td>0.916461</td>\n",
       "      <td>6.949507</td>\n",
       "      <td>8.327733</td>\n",
       "    </tr>\n",
       "    <tr>\n",
       "      <th>11599</th>\n",
       "      <td>Yemen</td>\n",
       "      <td>9050.4375</td>\n",
       "      <td>1042.63587</td>\n",
       "      <td>0.390259</td>\n",
       "      <td>0.916461</td>\n",
       "      <td>6.949507</td>\n",
       "      <td>9.110568</td>\n",
       "    </tr>\n",
       "  </tbody>\n",
       "</table>\n",
       "</div>"
      ],
      "text/plain": [
       "        Pays    y_child          mj        Gj        pj     ln_mj  ln_y_child\n",
       "11595  Yemen  2568.6511  1042.63587  0.390259  0.916461  6.949507    7.851136\n",
       "11596  Yemen  2893.9040  1042.63587  0.390259  0.916461  6.949507    7.970362\n",
       "11597  Yemen  3307.2722  1042.63587  0.390259  0.916461  6.949507    8.103879\n",
       "11598  Yemen  4137.0264  1042.63587  0.390259  0.916461  6.949507    8.327733\n",
       "11599  Yemen  9050.4375  1042.63587  0.390259  0.916461  6.949507    9.110568"
      ]
     },
     "execution_count": 11,
     "metadata": {},
     "output_type": "execute_result"
    }
   ],
   "source": [
    "# Agrégation pour gagner en temps de calculs\n",
    "ready_db2 = ready_db1.groupby(by=['Pays',\n",
    "                                  'y_child',\n",
    "                                  'mj',\n",
    "                                  'Gj',\n",
    "                                  'pj',\n",
    "                                  'ln_mj',\n",
    "                                  'ln_y_child']).mean()\n",
    "ready_db2.reset_index(inplace=True)\n",
    "ready_db2.drop(columns=['c_i_parent'], inplace=True)\n",
    "\n",
    "ready_db2.tail()"
   ]
  },
  {
   "cell_type": "code",
   "execution_count": 12,
   "metadata": {},
   "outputs": [
    {
     "data": {
      "text/plain": [
       "((5800000, 8), (11600, 7))"
      ]
     },
     "execution_count": 12,
     "metadata": {},
     "output_type": "execute_result"
    }
   ],
   "source": [
    "ready_db1.shape, ready_db2.shape"
   ]
  },
  {
   "cell_type": "code",
   "execution_count": 13,
   "metadata": {},
   "outputs": [
    {
     "data": {
      "image/png": "[encoded data removed]",
      "text/plain": [
       "<Figure size 1080x1080 with 1 Axes>"
      ]
     },
     "metadata": {
      "needs_background": "light"
     },
     "output_type": "display_data"
    }
   ],
   "source": [
    "# Affichage des pays suivis\n",
    "ready_db3 = ready_db2.loc[(ready_db2['Pays'] == 'France') | (ready_db2['Pays'] == 'Congo Democratic Republic of the') |\n",
    "                          (ready_db2['Pays'] == 'Viet Nam') | (ready_db2['Pays'] == 'Chile') |\n",
    "                          (ready_db2['Pays'] == 'Iceland') | (ready_db2['Pays'] == 'Paraguay')]\n",
    "\n",
    "plt.figure(figsize=(15,15))\n",
    "\n",
    "ax = sns.boxplot(x='Pays', y='y_child', data=ready_db3)\n",
    "\n",
    "plt.ylabel('Revenu', fontsize=18)\n",
    "plt.yticks(fontsize=16)\n",
    "plt.xlabel('')\n",
    "plt.xticks(fontsize=16)\n",
    "plt.title('Boîtes à moustaches des pays suivis', fontsize=22)\n",
    "\n",
    "plt.tight_layout()\n",
    "\n",
    "plt.savefig('graph/boxplot_annova.png')\n",
    "plt.show()"
   ]
  },
  {
   "cell_type": "code",
   "execution_count": 14,
   "metadata": {
    "scrolled": false
   },
   "outputs": [
    {
     "data": {
      "text/html": [
       "<table class=\"simpletable\">\n",
       "<caption>OLS Regression Results</caption>\n",
       "<tr>\n",
       "  <th>Dep. Variable:</th>         <td>y_child</td>     <th>  R-squared:         </th>  <td>   0.496</td>  \n",
       "</tr>\n",
       "<tr>\n",
       "  <th>Model:</th>                   <td>OLS</td>       <th>  Adj. R-squared:    </th>  <td>   0.491</td>  \n",
       "</tr>\n",
       "<tr>\n",
       "  <th>Method:</th>             <td>Least Squares</td>  <th>  F-statistic:       </th>  <td>   98.43</td>  \n",
       "</tr>\n",
       "<tr>\n",
       "  <th>Date:</th>             <td>Wed, 22 May 2019</td> <th>  Prob (F-statistic):</th>   <td>  0.00</td>   \n",
       "</tr>\n",
       "<tr>\n",
       "  <th>Time:</th>                 <td>14:50:20</td>     <th>  Log-Likelihood:    </th> <td>-1.1862e+05</td>\n",
       "</tr>\n",
       "<tr>\n",
       "  <th>No. Observations:</th>      <td> 11600</td>      <th>  AIC:               </th>  <td>2.375e+05</td> \n",
       "</tr>\n",
       "<tr>\n",
       "  <th>Df Residuals:</th>          <td> 11484</td>      <th>  BIC:               </th>  <td>2.383e+05</td> \n",
       "</tr>\n",
       "<tr>\n",
       "  <th>Df Model:</th>              <td>   115</td>      <th>                     </th>      <td> </td>     \n",
       "</tr>\n",
       "<tr>\n",
       "  <th>Covariance Type:</th>      <td>nonrobust</td>    <th>                     </th>      <td> </td>     \n",
       "</tr>\n",
       "</table>"
      ],
      "text/plain": [
       "<class 'statsmodels.iolib.table.SimpleTable'>"
      ]
     },
     "execution_count": 14,
     "metadata": {},
     "output_type": "execute_result"
    }
   ],
   "source": [
    "# Réalisation de l'ANOVA\n",
    "#Plan d'expérience complet et équilibré car  n_1 = ... = n_i = 100\n",
    "\n",
    "anova_pays = smf.ols('y_child~Pays', data=ready_db2).fit(alpha=alpha)\n",
    "\n",
    "anova_pays.summary().tables[0]"
   ]
  },
  {
   "cell_type": "markdown",
   "metadata": {},
   "source": [
    "R<sup>2</sup> = 0.496  \n",
    "R<sup>2</sup><sub>ajusté</sub> = 0.491  \n",
    "La variable pays explique près de 50% de la variance du revenu  \n",
    "Les autres facteurs non considérés dans le modèle expliquent l'autre moitié de la variance du revenu"
   ]
  },
  {
   "cell_type": "code",
   "execution_count": 15,
   "metadata": {},
   "outputs": [
    {
     "data": {
      "text/html": [
       "<div>\n",
       "<style scoped>\n",
       "    .dataframe tbody tr th:only-of-type {\n",
       "        vertical-align: middle;\n",
       "    }\n",
       "\n",
       "    .dataframe tbody tr th {\n",
       "        vertical-align: top;\n",
       "    }\n",
       "\n",
       "    .dataframe thead th {\n",
       "        text-align: right;\n",
       "    }\n",
       "</style>\n",
       "<table border=\"1\" class=\"dataframe\">\n",
       "  <thead>\n",
       "    <tr style=\"text-align: right;\">\n",
       "      <th></th>\n",
       "      <th>df</th>\n",
       "      <th>sum_sq</th>\n",
       "      <th>mean_sq</th>\n",
       "      <th>F</th>\n",
       "      <th>PR(&gt;F)</th>\n",
       "    </tr>\n",
       "  </thead>\n",
       "  <tbody>\n",
       "    <tr>\n",
       "      <th>Pays</th>\n",
       "      <td>115.0</td>\n",
       "      <td>5.102375e+11</td>\n",
       "      <td>4.436848e+09</td>\n",
       "      <td>98.429271</td>\n",
       "      <td>0.0</td>\n",
       "    </tr>\n",
       "    <tr>\n",
       "      <th>Residual</th>\n",
       "      <td>11484.0</td>\n",
       "      <td>5.176586e+11</td>\n",
       "      <td>4.507651e+07</td>\n",
       "      <td>NaN</td>\n",
       "      <td>NaN</td>\n",
       "    </tr>\n",
       "  </tbody>\n",
       "</table>\n",
       "</div>"
      ],
      "text/plain": [
       "               df        sum_sq       mean_sq          F  PR(>F)\n",
       "Pays        115.0  5.102375e+11  4.436848e+09  98.429271     0.0\n",
       "Residual  11484.0  5.176586e+11  4.507651e+07        NaN     NaN"
      ]
     },
     "execution_count": 15,
     "metadata": {},
     "output_type": "execute_result"
    }
   ],
   "source": [
    "# Affichage des resultats du test de Fisher  (influence de la variable pays)\n",
    "test = sm.stats.anova_lm(anova_pays, typ=1)\n",
    "test"
   ]
  },
  {
   "cell_type": "markdown",
   "metadata": {},
   "source": [
    "H0: alpha_argentine = ... = alpha_yemen = 0 (Le pays n'a pas d'influence)  \n",
    "H1: alpha_argentine = ... = alpha_yemen != 0 (Le pays a une influence)  \n",
    "La p-valeur du Test de Fischer est: ~0.0  \n",
    "p-valeur <<< 0.05  \n",
    "On rejette donc l'hypothèse H0 et on conclut que le pays a une influence sur le revenu"
   ]
  },
  {
   "cell_type": "code",
   "execution_count": 16,
   "metadata": {},
   "outputs": [
    {
     "data": {
      "text/plain": [
       "(510237524303.9017, 4436848037.425232)"
      ]
     },
     "execution_count": 16,
     "metadata": {},
     "output_type": "execute_result"
    }
   ],
   "source": [
    "#CME = SCE / (I - 1) variance expliquée\n",
    "I = 116\n",
    "SCE = test.iloc[0,1]\n",
    "CME = SCE / (I - 1)\n",
    "SCE, CME"
   ]
  },
  {
   "cell_type": "code",
   "execution_count": 17,
   "metadata": {},
   "outputs": [
    {
     "data": {
      "text/plain": [
       "(517658642063.21796, 45076510.106514975)"
      ]
     },
     "execution_count": 17,
     "metadata": {},
     "output_type": "execute_result"
    }
   ],
   "source": [
    "#CMR = SCR /  (I - n) variance inexpliquée\n",
    "n = 11600\n",
    "SCR = test.iloc[1,1]\n",
    "CMR = SCR / (n - I)\n",
    "SCR, CMR"
   ]
  },
  {
   "cell_type": "code",
   "execution_count": 18,
   "metadata": {},
   "outputs": [
    {
     "data": {
      "text/plain": [
       "98.42927118672321"
      ]
     },
     "execution_count": 18,
     "metadata": {},
     "output_type": "execute_result"
    }
   ],
   "source": [
    "# F = CME / CMR\n",
    "F = CME / CMR\n",
    "F"
   ]
  },
  {
   "cell_type": "code",
   "execution_count": 19,
   "metadata": {},
   "outputs": [
    {
     "data": {
      "text/plain": [
       "0.49639014231099593"
      ]
     },
     "execution_count": 19,
     "metadata": {},
     "output_type": "execute_result"
    }
   ],
   "source": [
    "# R_2 = SCE/ SCT = SCE / (SCE + SCR)\n",
    "R_2 = SCE / (SCE + SCR)\n",
    "R_2"
   ]
  },
  {
   "cell_type": "code",
   "execution_count": 20,
   "metadata": {},
   "outputs": [
    {
     "data": {
      "text/plain": [
       "0.4913027310515756"
      ]
     },
     "execution_count": 20,
     "metadata": {},
     "output_type": "execute_result"
    }
   ],
   "source": [
    "# R_2_ajusté = 1 - (n/(n - p)(1-R_2))\n",
    "R_2_Aj = 1 - ((1 - R_2)*(n - 1)/(n - I -1))\n",
    "\n",
    "R_2_Aj"
   ]
  },
  {
   "cell_type": "markdown",
   "metadata": {},
   "source": [
    "<a id='verif'></a>\n",
    "<h3 style='color:#8677b2'>Vérification de l'hypothèse gaussienne</h3>"
   ]
  },
  {
   "cell_type": "markdown",
   "metadata": {},
   "source": [
    "[Haut de page](#sommaire)"
   ]
  },
  {
   "cell_type": "code",
   "execution_count": 21,
   "metadata": {},
   "outputs": [
    {
     "data": {
      "image/png": "[encoded data removed]",
      "text/plain": [
       "<Figure size 720x720 with 1 Axes>"
      ]
     },
     "metadata": {
      "needs_background": "light"
     },
     "output_type": "display_data"
    }
   ],
   "source": [
    "# Préparation des données\n",
    "X = anova_pays.resid\n",
    "Xbar = np.mean(X)\n",
    "Xsprime = np.std(X)\n",
    "\n",
    "#Représentation de la distribution marginale\n",
    "plt.figure(figsize=(10,10))\n",
    "\n",
    "plt.hist(X, 100, facecolor='g')\n",
    "plt.axvline(Xbar, color='r', linewidth=2)\n",
    "\n",
    "plt.title(f'Distribution marginale des residus', fontsize=22)\n",
    "plt.ylabel('Nombre',fontsize=18)\n",
    "plt.yticks(fontsize=16)\n",
    "plt.xlabel('Residus',fontsize=18)\n",
    "plt.yticks(fontsize=16)\n",
    "\n",
    "plt.tight_layout()\n",
    "\n",
    "plt.savefig('graph/dist_marg_resid_anova.png')\n",
    "plt.show()"
   ]
  },
  {
   "cell_type": "code",
   "execution_count": 22,
   "metadata": {},
   "outputs": [
    {
     "name": "stderr",
     "output_type": "stream",
     "text": [
      "/home/begalain/anaconda3/lib/python3.7/site-packages/scipy/stats/morestats.py:1309: UserWarning: p-value may not be accurate for N > 5000.\n",
      "  warnings.warn(\"p-value may not be accurate for N > 5000.\")\n"
     ]
    },
    {
     "data": {
      "text/plain": [
       "(0.56099933385849, 0.0)"
      ]
     },
     "execution_count": 22,
     "metadata": {},
     "output_type": "execute_result"
    }
   ],
   "source": [
    "# Test de normalité Shapiro-Wilk\n",
    "shapiro(X)"
   ]
  },
  {
   "cell_type": "markdown",
   "metadata": {},
   "source": [
    "Le test Shapiro-Wilk n'est pas adapté à nos données, trop nombreuses"
   ]
  },
  {
   "cell_type": "code",
   "execution_count": 23,
   "metadata": {},
   "outputs": [
    {
     "data": {
      "text/plain": [
       "Ks_2sampResult(statistic=0.2442241379310346, pvalue=7.231728264173499e-302)"
      ]
     },
     "execution_count": 23,
     "metadata": {},
     "output_type": "execute_result"
    }
   ],
   "source": [
    "# Test d'adequation à une loi (ici Normale) avec le test Kolmogorv-Smirnov\n",
    "ks_2samp(X,list(np.random.normal(Xbar, Xsprime, 11600)))"
   ]
  },
  {
   "cell_type": "markdown",
   "metadata": {},
   "source": [
    "H0: Les données suivent une loi normale  \n",
    "H1: Les données ne suivent pas une loi normale  \n",
    "p-value <<< 0.05, on rejette h0, y_child ne suit pas la loi normale(Xbar, XSprime)"
   ]
  },
  {
   "cell_type": "code",
   "execution_count": 24,
   "metadata": {},
   "outputs": [
    {
     "data": {
      "text/plain": [
       "(4207431.542160293, 0.0, 6.739339356074607, 95.32202335877405)"
      ]
     },
     "execution_count": 24,
     "metadata": {},
     "output_type": "execute_result"
    }
   ],
   "source": [
    "# Test de Jarque-Bera\n",
    "JB1, JBpv1, skw1, kurt1 = sm.stats.stattools.jarque_bera(X)\n",
    "JB1, JBpv1, skw1, kurt1"
   ]
  },
  {
   "cell_type": "markdown",
   "metadata": {},
   "source": [
    "H0: Les données suivent une loi normale  \n",
    "H1: Les données ne suivent pas une loi normale  \n",
    "JBpv ~ 0, on rejette H0, d'après le test, les données ne suivent pas une loi normale"
   ]
  },
  {
   "cell_type": "code",
   "execution_count": 25,
   "metadata": {},
   "outputs": [
    {
     "data": {
      "image/png": "[encoded data removed]",
      "text/plain": [
       "<Figure size 1080x1080 with 1 Axes>"
      ]
     },
     "metadata": {
      "needs_background": "light"
     },
     "output_type": "display_data"
    }
   ],
   "source": [
    "# Droite de Henry\n",
    "fig, ax = plt.subplots(figsize=(15, 15))\n",
    "\n",
    "sm.qqplot(X, line='45', fit=True, ax=ax)\n",
    "\n",
    "plt.ylabel('Quantiles de notre échantillon', fontsize=18)\n",
    "plt.yticks(fontsize=16)\n",
    "plt.xlabel('Quantiles d\\'une loi Normale',fontsize=18)\n",
    "plt.xticks(fontsize=16)\n",
    "plt.title('Droite de Henry', fontsize=22)\n",
    "\n",
    "plt.tight_layout()\n",
    "\n",
    "plt.savefig('graph/droite_henry_anova.png')\n",
    "plt.show()"
   ]
  },
  {
   "cell_type": "markdown",
   "metadata": {},
   "source": [
    "<a id='reg1'></a>\n",
    "## Régression linéaire du revenu enfant sur le revenu moyen du pays et l'indice de Gini"
   ]
  },
  {
   "cell_type": "markdown",
   "metadata": {},
   "source": [
    "<a id='test1'></a>\n",
    "<h3 style='color:#8677b2'>Tests de significativité</h3>"
   ]
  },
  {
   "cell_type": "markdown",
   "metadata": {},
   "source": [
    "[Haut de page](#sommaire)"
   ]
  },
  {
   "cell_type": "code",
   "execution_count": 26,
   "metadata": {},
   "outputs": [
    {
     "data": {
      "text/html": [
       "<table class=\"simpletable\">\n",
       "<caption>OLS Regression Results</caption>\n",
       "<tr>\n",
       "  <th>Dep. Variable:</th>         <td>y_child</td>     <th>  R-squared:         </th>  <td>   0.496</td>  \n",
       "</tr>\n",
       "<tr>\n",
       "  <th>Model:</th>                   <td>OLS</td>       <th>  Adj. R-squared:    </th>  <td>   0.496</td>  \n",
       "</tr>\n",
       "<tr>\n",
       "  <th>Method:</th>             <td>Least Squares</td>  <th>  F-statistic:       </th>  <td>   5715.</td>  \n",
       "</tr>\n",
       "<tr>\n",
       "  <th>Date:</th>             <td>Wed, 22 May 2019</td> <th>  Prob (F-statistic):</th>   <td>  0.00</td>   \n",
       "</tr>\n",
       "<tr>\n",
       "  <th>Time:</th>                 <td>14:50:21</td>     <th>  Log-Likelihood:    </th> <td>-1.1862e+05</td>\n",
       "</tr>\n",
       "<tr>\n",
       "  <th>No. Observations:</th>      <td> 11600</td>      <th>  AIC:               </th>  <td>2.372e+05</td> \n",
       "</tr>\n",
       "<tr>\n",
       "  <th>Df Residuals:</th>          <td> 11597</td>      <th>  BIC:               </th>  <td>2.373e+05</td> \n",
       "</tr>\n",
       "<tr>\n",
       "  <th>Df Model:</th>              <td>     2</td>      <th>                     </th>      <td> </td>     \n",
       "</tr>\n",
       "<tr>\n",
       "  <th>Covariance Type:</th>      <td>nonrobust</td>    <th>                     </th>      <td> </td>     \n",
       "</tr>\n",
       "</table>"
      ],
      "text/plain": [
       "<class 'statsmodels.iolib.table.SimpleTable'>"
      ]
     },
     "execution_count": 26,
     "metadata": {},
     "output_type": "execute_result"
    }
   ],
   "source": [
    "reg = smf.ols('y_child ~ Gj + mj', data=ready_db2)\n",
    "reg_multi = reg.fit()\n",
    "reg_multi.summary().tables[0]"
   ]
  },
  {
   "cell_type": "markdown",
   "metadata": {},
   "source": [
    "**Test global:**  \n",
    "H0: beta_GJ = beta_y_mj = 0  \n",
    "H1: beta_GJ != beta_y_mj != 0  \n",
    "F ~ 0.00 <<< alpha, on rejette H0, le modèle est globalement significatif"
   ]
  },
  {
   "cell_type": "code",
   "execution_count": 27,
   "metadata": {},
   "outputs": [
    {
     "data": {
      "text/html": [
       "<table class=\"simpletable\">\n",
       "<tr>\n",
       "      <td></td>         <th>coef</th>     <th>std err</th>      <th>t</th>      <th>P>|t|</th>  <th>[0.025</th>    <th>0.975]</th>  \n",
       "</tr>\n",
       "<tr>\n",
       "  <th>Intercept</th> <td>-1.434e-10</td> <td>  328.716</td> <td>-4.36e-13</td> <td> 1.000</td> <td> -644.338</td> <td>  644.338</td>\n",
       "</tr>\n",
       "<tr>\n",
       "  <th>Gj</th>        <td>  4.04e-10</td> <td>  749.825</td> <td> 5.39e-13</td> <td> 1.000</td> <td>-1469.784</td> <td> 1469.784</td>\n",
       "</tr>\n",
       "<tr>\n",
       "  <th>mj</th>        <td>    1.0000</td> <td>    0.010</td> <td>   99.934</td> <td> 0.000</td> <td>    0.980</td> <td>    1.020</td>\n",
       "</tr>\n",
       "</table>"
      ],
      "text/plain": [
       "<class 'statsmodels.iolib.table.SimpleTable'>"
      ]
     },
     "execution_count": 27,
     "metadata": {},
     "output_type": "execute_result"
    }
   ],
   "source": [
    "reg_multi.summary().tables[1]"
   ]
  },
  {
   "cell_type": "markdown",
   "metadata": {},
   "source": [
    " **Test de significativité des variables:**\n",
    "   \n",
    "H0: beta_Gj = 0  \n",
    "H1: beta_Gj != 0  \n",
    "Le paramètre beta_Gj de la variable Gj (indice de gini) n'est pas significatif au niveau de test alpha (0.05)  \n",
    "En effet p-value ~ 1 > alpha, on accepte H0, le paramètre n'est pas significatif (beta_Gj = 0)  \n",
    "  \n",
    "H0: beta_y_mj = 0  \n",
    "H1: beta_y_mj != 0  \n",
    "Le paramètre beta_y_mj de la variable mj est significatif au niveau de test alpha (0.05)  \n",
    "En effet p-value ~ 0.00 <<< alpha, on rejette H0, le paramètre est significatif (beta_y_mj != 0)"
   ]
  },
  {
   "cell_type": "markdown",
   "metadata": {},
   "source": [
    "<a id='log1'></a>\n",
    "<h3 style='color:#8677b2'>Passage au logarithme du revenu enfant</h3>"
   ]
  },
  {
   "cell_type": "markdown",
   "metadata": {},
   "source": [
    "[Haut de page](#sommaire)"
   ]
  },
  {
   "cell_type": "code",
   "execution_count": 28,
   "metadata": {
    "scrolled": false
   },
   "outputs": [
    {
     "data": {
      "text/html": [
       "<table class=\"simpletable\">\n",
       "<caption>OLS Regression Results</caption>\n",
       "<tr>\n",
       "  <th>Dep. Variable:</th>       <td>ln_y_child</td>    <th>  R-squared:         </th> <td>   0.729</td> \n",
       "</tr>\n",
       "<tr>\n",
       "  <th>Model:</th>                   <td>OLS</td>       <th>  Adj. R-squared:    </th> <td>   0.729</td> \n",
       "</tr>\n",
       "<tr>\n",
       "  <th>Method:</th>             <td>Least Squares</td>  <th>  F-statistic:       </th> <td>1.558e+04</td>\n",
       "</tr>\n",
       "<tr>\n",
       "  <th>Date:</th>             <td>Wed, 22 May 2019</td> <th>  Prob (F-statistic):</th>  <td>  0.00</td>  \n",
       "</tr>\n",
       "<tr>\n",
       "  <th>Time:</th>                 <td>14:50:21</td>     <th>  Log-Likelihood:    </th> <td> -12636.</td> \n",
       "</tr>\n",
       "<tr>\n",
       "  <th>No. Observations:</th>      <td> 11600</td>      <th>  AIC:               </th> <td>2.528e+04</td>\n",
       "</tr>\n",
       "<tr>\n",
       "  <th>Df Residuals:</th>          <td> 11597</td>      <th>  BIC:               </th> <td>2.530e+04</td>\n",
       "</tr>\n",
       "<tr>\n",
       "  <th>Df Model:</th>              <td>     2</td>      <th>                     </th>     <td> </td>    \n",
       "</tr>\n",
       "<tr>\n",
       "  <th>Covariance Type:</th>      <td>nonrobust</td>    <th>                     </th>     <td> </td>    \n",
       "</tr>\n",
       "</table>"
      ],
      "text/plain": [
       "<class 'statsmodels.iolib.table.SimpleTable'>"
      ]
     },
     "execution_count": 28,
     "metadata": {},
     "output_type": "execute_result"
    }
   ],
   "source": [
    "reg_ln = smf.ols('ln_y_child ~ Gj + ln_mj', data=ready_db2)\n",
    "reg_multi_ln = reg_ln.fit()\n",
    "\n",
    "reg_multi_ln.summary().tables[0]"
   ]
  },
  {
   "cell_type": "markdown",
   "metadata": {},
   "source": [
    "**Test global:**  \n",
    "H0: beta_GJ = beta_ln_mj = 0  \n",
    "H1: beta_GJ != beta_ln_mj != 0  \n",
    "F ~ 0.00 <<< alpha, on rejette H0, le modèle est globalement significatif  "
   ]
  },
  {
   "cell_type": "code",
   "execution_count": 29,
   "metadata": {},
   "outputs": [
    {
     "data": {
      "text/html": [
       "<table class=\"simpletable\">\n",
       "<tr>\n",
       "      <td></td>         <th>coef</th>     <th>std err</th>      <th>t</th>      <th>P>|t|</th>  <th>[0.025</th>    <th>0.975]</th>  \n",
       "</tr>\n",
       "<tr>\n",
       "  <th>Intercept</th> <td>    0.4961</td> <td>    0.065</td> <td>    7.646</td> <td> 0.000</td> <td>    0.369</td> <td>    0.623</td>\n",
       "</tr>\n",
       "<tr>\n",
       "  <th>Gj</th>        <td>   -1.6523</td> <td>    0.078</td> <td>  -21.101</td> <td> 0.000</td> <td>   -1.806</td> <td>   -1.499</td>\n",
       "</tr>\n",
       "<tr>\n",
       "  <th>ln_mj</th>     <td>    0.9864</td> <td>    0.006</td> <td>  163.259</td> <td> 0.000</td> <td>    0.975</td> <td>    0.998</td>\n",
       "</tr>\n",
       "</table>"
      ],
      "text/plain": [
       "<class 'statsmodels.iolib.table.SimpleTable'>"
      ]
     },
     "execution_count": 29,
     "metadata": {},
     "output_type": "execute_result"
    }
   ],
   "source": [
    "reg_multi_ln.summary().tables[1]"
   ]
  },
  {
   "cell_type": "markdown",
   "metadata": {},
   "source": [
    " **Test de significativité:**\n",
    "   \n",
    "H0: beta_Gj = 0  \n",
    "H1: beta_Gj != 0  \n",
    "Le paramètre beta_Gj de la variable Gj (indice de gini) est significatif au niveau de test alpha (0.05)  \n",
    "En effet p-value ~ 0.00 <<< alpha, on rejette H0, le paramètre est significatif (beta_Gj != 0)  \n",
    "  \n",
    "H0: beta_ln_mj = 0  \n",
    "H1: beta_ln_mj != 0  \n",
    "Le paramètre beta_ln_mj de la variable ln_mj est significatif au niveau de test alpha (0.05)  \n",
    "En effet p-value ~ 0.00 <<< alpha, on rejette H0, le paramètre est significatif (beta_ln_mj != 0)"
   ]
  },
  {
   "cell_type": "markdown",
   "metadata": {},
   "source": [
    "<a id='rsq1'></a>\n",
    "<h3 style='color:#8677b2'>Analyses de $R^2$</h3>"
   ]
  },
  {
   "cell_type": "markdown",
   "metadata": {},
   "source": [
    "[Haut de page](#sommaire)"
   ]
  },
  {
   "cell_type": "code",
   "execution_count": 30,
   "metadata": {},
   "outputs": [
    {
     "data": {
      "text/html": [
       "<div>\n",
       "<style scoped>\n",
       "    .dataframe tbody tr th:only-of-type {\n",
       "        vertical-align: middle;\n",
       "    }\n",
       "\n",
       "    .dataframe tbody tr th {\n",
       "        vertical-align: top;\n",
       "    }\n",
       "\n",
       "    .dataframe thead th {\n",
       "        text-align: right;\n",
       "    }\n",
       "</style>\n",
       "<table border=\"1\" class=\"dataframe\">\n",
       "  <thead>\n",
       "    <tr style=\"text-align: right;\">\n",
       "      <th></th>\n",
       "      <th>df</th>\n",
       "      <th>sum_sq</th>\n",
       "      <th>mean_sq</th>\n",
       "      <th>F</th>\n",
       "      <th>PR(&gt;F)</th>\n",
       "    </tr>\n",
       "  </thead>\n",
       "  <tbody>\n",
       "    <tr>\n",
       "      <th>Gj</th>\n",
       "      <td>1.0</td>\n",
       "      <td>2334.498202</td>\n",
       "      <td>2334.498202</td>\n",
       "      <td>4512.044930</td>\n",
       "      <td>0.0</td>\n",
       "    </tr>\n",
       "    <tr>\n",
       "      <th>ln_mj</th>\n",
       "      <td>1.0</td>\n",
       "      <td>13790.334757</td>\n",
       "      <td>13790.334757</td>\n",
       "      <td>26653.526637</td>\n",
       "      <td>0.0</td>\n",
       "    </tr>\n",
       "    <tr>\n",
       "      <th>Residual</th>\n",
       "      <td>11597.0</td>\n",
       "      <td>6000.200812</td>\n",
       "      <td>0.517392</td>\n",
       "      <td>NaN</td>\n",
       "      <td>NaN</td>\n",
       "    </tr>\n",
       "  </tbody>\n",
       "</table>\n",
       "</div>"
      ],
      "text/plain": [
       "               df        sum_sq       mean_sq             F  PR(>F)\n",
       "Gj            1.0   2334.498202   2334.498202   4512.044930     0.0\n",
       "ln_mj         1.0  13790.334757  13790.334757  26653.526637     0.0\n",
       "Residual  11597.0   6000.200812      0.517392           NaN     NaN"
      ]
     },
     "execution_count": 30,
     "metadata": {},
     "output_type": "execute_result"
    }
   ],
   "source": [
    "# Anova sur les variables de notre régression linéaire\n",
    "anova_ln = sm.stats.anova_lm(reg_multi_ln, typ=1)\n",
    "anova_ln"
   ]
  },
  {
   "cell_type": "code",
   "execution_count": 31,
   "metadata": {},
   "outputs": [
    {
     "data": {
      "text/plain": [
       "0.10551388198747663"
      ]
     },
     "execution_count": 31,
     "metadata": {},
     "output_type": "execute_result"
    }
   ],
   "source": [
    "# Calcul du R2 pour la variable 'Gj'\n",
    "r2_Gj = anova_ln.sum_sq['Gj'] / anova_ln['sum_sq'].sum()\n",
    "r2_Gj"
   ]
  },
  {
   "cell_type": "code",
   "execution_count": 32,
   "metadata": {},
   "outputs": [
    {
     "data": {
      "text/plain": [
       "0.6232910150247688"
      ]
     },
     "execution_count": 32,
     "metadata": {},
     "output_type": "execute_result"
    }
   ],
   "source": [
    "# Calcul du R2 pour la variable 'ln_y_child'\n",
    "r2_ln_mj = anova_ln.sum_sq['ln_mj'] / anova_ln['sum_sq'].sum()\n",
    "r2_ln_mj"
   ]
  },
  {
   "cell_type": "code",
   "execution_count": 33,
   "metadata": {},
   "outputs": [
    {
     "data": {
      "text/plain": [
       "(0.7288048970122454, 0.7288048970122488)"
      ]
     },
     "execution_count": 33,
     "metadata": {},
     "output_type": "execute_result"
    }
   ],
   "source": [
    "# Vérification\n",
    "r2_Gj + r2_ln_mj, reg_multi_ln.rsquared"
   ]
  },
  {
   "cell_type": "code",
   "execution_count": 34,
   "metadata": {},
   "outputs": [
    {
     "name": "stdout",
     "output_type": "stream",
     "text": [
      "Dans notre modèle:\n",
      "\n",
      "La variable 'Gj' explique 10.55% de la variance de la variable 'ln_y_child'\n",
      "\n",
      "La variable 'ln_mj' explique 62.33% de la variance de la variable 'ln_y_child'\n",
      "\n",
      "Notre modèle explique 72.88% de la variance de la variable 'ln_y_child'\n"
     ]
    }
   ],
   "source": [
    "print(f'Dans notre modèle:\\n\\n\\\n",
    "La variable \\'Gj\\' explique {100 * r2_Gj:.2f}% de la variance de la variable \\'ln_y_child\\'\\n\\n\\\n",
    "La variable \\'ln_mj\\' explique {100 * r2_ln_mj:.2f}% de la variance de la variable \\'ln_y_child\\'\\n\\n\\\n",
    "Notre modèle explique {100 * reg_multi_ln.rsquared:.2f}% de la variance de la variable \\'ln_y_child\\'')"
   ]
  },
  {
   "cell_type": "markdown",
   "metadata": {},
   "source": [
    "<a id='atyp1'></a>\n",
    "<h3 style='color:#8677b2'>Analyse de l'atypicité sur les variables explicatives</h3>"
   ]
  },
  {
   "cell_type": "markdown",
   "metadata": {},
   "source": [
    "[Haut de page](#sommaire)"
   ]
  },
  {
   "cell_type": "code",
   "execution_count": 35,
   "metadata": {},
   "outputs": [],
   "source": [
    "# Paramètres de l'étude\n",
    "n = ready_db2.shape[0]\n",
    "p = 3\n",
    "\n",
    "# Seuil levier selon Belsey\n",
    "seuil_levier = 2 * p / n"
   ]
  },
  {
   "cell_type": "code",
   "execution_count": 36,
   "metadata": {},
   "outputs": [
    {
     "data": {
      "text/html": [
       "<div>\n",
       "<style scoped>\n",
       "    .dataframe tbody tr th:only-of-type {\n",
       "        vertical-align: middle;\n",
       "    }\n",
       "\n",
       "    .dataframe tbody tr th {\n",
       "        vertical-align: top;\n",
       "    }\n",
       "\n",
       "    .dataframe thead th {\n",
       "        text-align: right;\n",
       "    }\n",
       "</style>\n",
       "<table border=\"1\" class=\"dataframe\">\n",
       "  <thead>\n",
       "    <tr style=\"text-align: right;\">\n",
       "      <th></th>\n",
       "      <th>Pays</th>\n",
       "      <th>y_child</th>\n",
       "      <th>mj</th>\n",
       "      <th>Gj</th>\n",
       "      <th>pj</th>\n",
       "      <th>ln_mj</th>\n",
       "      <th>ln_y_child</th>\n",
       "      <th>levier</th>\n",
       "    </tr>\n",
       "  </thead>\n",
       "  <tbody>\n",
       "    <tr>\n",
       "      <th>9502</th>\n",
       "      <td>South Africa</td>\n",
       "      <td>192.2945</td>\n",
       "      <td>5617.90488</td>\n",
       "      <td>0.682949</td>\n",
       "      <td>0.677</td>\n",
       "      <td>8.633714</td>\n",
       "      <td>5.259028</td>\n",
       "      <td>0.001162</td>\n",
       "    </tr>\n",
       "    <tr>\n",
       "      <th>9528</th>\n",
       "      <td>South Africa</td>\n",
       "      <td>1022.7220</td>\n",
       "      <td>5617.90488</td>\n",
       "      <td>0.682949</td>\n",
       "      <td>0.677</td>\n",
       "      <td>8.633714</td>\n",
       "      <td>6.930223</td>\n",
       "      <td>0.001162</td>\n",
       "    </tr>\n",
       "    <tr>\n",
       "      <th>9530</th>\n",
       "      <td>South Africa</td>\n",
       "      <td>1099.0195</td>\n",
       "      <td>5617.90488</td>\n",
       "      <td>0.682949</td>\n",
       "      <td>0.677</td>\n",
       "      <td>8.633714</td>\n",
       "      <td>7.002174</td>\n",
       "      <td>0.001162</td>\n",
       "    </tr>\n",
       "    <tr>\n",
       "      <th>9531</th>\n",
       "      <td>South Africa</td>\n",
       "      <td>1133.6040</td>\n",
       "      <td>5617.90488</td>\n",
       "      <td>0.682949</td>\n",
       "      <td>0.677</td>\n",
       "      <td>8.633714</td>\n",
       "      <td>7.033157</td>\n",
       "      <td>0.001162</td>\n",
       "    </tr>\n",
       "    <tr>\n",
       "      <th>9532</th>\n",
       "      <td>South Africa</td>\n",
       "      <td>1175.4595</td>\n",
       "      <td>5617.90488</td>\n",
       "      <td>0.682949</td>\n",
       "      <td>0.677</td>\n",
       "      <td>8.633714</td>\n",
       "      <td>7.069414</td>\n",
       "      <td>0.001162</td>\n",
       "    </tr>\n",
       "  </tbody>\n",
       "</table>\n",
       "</div>"
      ],
      "text/plain": [
       "              Pays    y_child          mj        Gj     pj     ln_mj  \\\n",
       "9502  South Africa   192.2945  5617.90488  0.682949  0.677  8.633714   \n",
       "9528  South Africa  1022.7220  5617.90488  0.682949  0.677  8.633714   \n",
       "9530  South Africa  1099.0195  5617.90488  0.682949  0.677  8.633714   \n",
       "9531  South Africa  1133.6040  5617.90488  0.682949  0.677  8.633714   \n",
       "9532  South Africa  1175.4595  5617.90488  0.682949  0.677  8.633714   \n",
       "\n",
       "      ln_y_child    levier  \n",
       "9502    5.259028  0.001162  \n",
       "9528    6.930223  0.001162  \n",
       "9530    7.002174  0.001162  \n",
       "9531    7.033157  0.001162  \n",
       "9532    7.069414  0.001162  "
      ]
     },
     "execution_count": 36,
     "metadata": {},
     "output_type": "execute_result"
    }
   ],
   "source": [
    "# Ajout des termes diagonaux de H\n",
    "ready_db2['levier'] = reg_multi_ln.get_influence().hat_matrix_diag\n",
    "\n",
    "ready_db2.sort_values(by='levier', ascending=False).head()"
   ]
  },
  {
   "cell_type": "code",
   "execution_count": 37,
   "metadata": {},
   "outputs": [
    {
     "data": {
      "text/html": [
       "<div>\n",
       "<style scoped>\n",
       "    .dataframe tbody tr th:only-of-type {\n",
       "        vertical-align: middle;\n",
       "    }\n",
       "\n",
       "    .dataframe tbody tr th {\n",
       "        vertical-align: top;\n",
       "    }\n",
       "\n",
       "    .dataframe thead th {\n",
       "        text-align: right;\n",
       "    }\n",
       "</style>\n",
       "<table border=\"1\" class=\"dataframe\">\n",
       "  <thead>\n",
       "    <tr style=\"text-align: right;\">\n",
       "      <th></th>\n",
       "      <th>Pays</th>\n",
       "      <th>y_child</th>\n",
       "      <th>mj</th>\n",
       "      <th>Gj</th>\n",
       "      <th>pj</th>\n",
       "      <th>ln_mj</th>\n",
       "      <th>ln_y_child</th>\n",
       "      <th>levier</th>\n",
       "    </tr>\n",
       "  </thead>\n",
       "  <tbody>\n",
       "    <tr>\n",
       "      <th>9097</th>\n",
       "      <td>Romania</td>\n",
       "      <td>9831.8030</td>\n",
       "      <td>3318.337189</td>\n",
       "      <td>0.389527</td>\n",
       "      <td>0.369699</td>\n",
       "      <td>8.107219</td>\n",
       "      <td>9.193378</td>\n",
       "      <td>0.000087</td>\n",
       "    </tr>\n",
       "    <tr>\n",
       "      <th>9027</th>\n",
       "      <td>Romania</td>\n",
       "      <td>1746.9655</td>\n",
       "      <td>3318.337189</td>\n",
       "      <td>0.389527</td>\n",
       "      <td>0.369699</td>\n",
       "      <td>8.107219</td>\n",
       "      <td>7.465636</td>\n",
       "      <td>0.000087</td>\n",
       "    </tr>\n",
       "    <tr>\n",
       "      <th>9028</th>\n",
       "      <td>Romania</td>\n",
       "      <td>1794.1764</td>\n",
       "      <td>3318.337189</td>\n",
       "      <td>0.389527</td>\n",
       "      <td>0.369699</td>\n",
       "      <td>8.107219</td>\n",
       "      <td>7.492301</td>\n",
       "      <td>0.000087</td>\n",
       "    </tr>\n",
       "    <tr>\n",
       "      <th>9029</th>\n",
       "      <td>Romania</td>\n",
       "      <td>1845.0685</td>\n",
       "      <td>3318.337189</td>\n",
       "      <td>0.389527</td>\n",
       "      <td>0.369699</td>\n",
       "      <td>8.107219</td>\n",
       "      <td>7.520272</td>\n",
       "      <td>0.000087</td>\n",
       "    </tr>\n",
       "    <tr>\n",
       "      <th>9030</th>\n",
       "      <td>Romania</td>\n",
       "      <td>1890.7778</td>\n",
       "      <td>3318.337189</td>\n",
       "      <td>0.389527</td>\n",
       "      <td>0.369699</td>\n",
       "      <td>8.107219</td>\n",
       "      <td>7.544744</td>\n",
       "      <td>0.000087</td>\n",
       "    </tr>\n",
       "  </tbody>\n",
       "</table>\n",
       "</div>"
      ],
      "text/plain": [
       "         Pays    y_child           mj        Gj        pj     ln_mj  \\\n",
       "9097  Romania  9831.8030  3318.337189  0.389527  0.369699  8.107219   \n",
       "9027  Romania  1746.9655  3318.337189  0.389527  0.369699  8.107219   \n",
       "9028  Romania  1794.1764  3318.337189  0.389527  0.369699  8.107219   \n",
       "9029  Romania  1845.0685  3318.337189  0.389527  0.369699  8.107219   \n",
       "9030  Romania  1890.7778  3318.337189  0.389527  0.369699  8.107219   \n",
       "\n",
       "      ln_y_child    levier  \n",
       "9097    9.193378  0.000087  \n",
       "9027    7.465636  0.000087  \n",
       "9028    7.492301  0.000087  \n",
       "9029    7.520272  0.000087  \n",
       "9030    7.544744  0.000087  "
      ]
     },
     "execution_count": 37,
     "metadata": {},
     "output_type": "execute_result"
    }
   ],
   "source": [
    "ready_db2.sort_values(by='levier').head()"
   ]
  },
  {
   "cell_type": "code",
   "execution_count": 38,
   "metadata": {},
   "outputs": [
    {
     "data": {
      "image/png": "[encoded data removed]",
      "text/plain": [
       "<Figure size 1080x1080 with 1 Axes>"
      ]
     },
     "metadata": {
      "needs_background": "light"
     },
     "output_type": "display_data"
    }
   ],
   "source": [
    "ready_db4 = ready_db2.groupby(['Pays', 'mj', 'Gj', 'pj', 'ln_mj']).mean()\n",
    "ready_db4.reset_index(inplace=True)\n",
    "\n",
    "# Représentation des leviers\n",
    "plt.figure(figsize=(15,15))\n",
    "\n",
    "# Individus sous le seuil\n",
    "plt.bar(ready_db4.loc[ready_db4['levier'] <= seuil_levier]['Pays'],\n",
    "        ready_db4.loc[ready_db4['levier'] <= seuil_levier]['levier'], color='g')\n",
    "\n",
    "# Individus au dessus du seuil\n",
    "plt.bar(ready_db4.loc[ready_db4['levier'] > seuil_levier]['Pays'],\n",
    "        ready_db4.loc[ready_db4['levier'] > seuil_levier]['levier'], color='r')\n",
    "\n",
    "# Décoration et annotations\n",
    "plt.title('Représentation des leviers', fontsize=22)\n",
    "plt.xlabel('Pays', fontsize=18)\n",
    "plt.xticks('', fontsize=16)\n",
    "plt.ylabel('Leviers', fontsize=18)\n",
    "plt.yticks(fontsize=16)\n",
    "plt.axhline(y=seuil_levier, color='b', linestyle='-')\n",
    "plt.text(50, 0.000525 , 'Seuil levier', fontsize = '14', color='b')\n",
    "plt.tight_layout()\n",
    "\n",
    "plt.savefig('graph/leviers1.png')\n",
    "plt.show()"
   ]
  },
  {
   "cell_type": "code",
   "execution_count": 39,
   "metadata": {},
   "outputs": [
    {
     "data": {
      "text/plain": [
       "200"
      ]
     },
     "execution_count": 39,
     "metadata": {},
     "output_type": "execute_result"
    }
   ],
   "source": [
    "# Nombre de valeurs atypiques sur les variables explicatives\n",
    "lev_ln = ready_db2.loc[ready_db2['levier'] > seuil_levier, :]\n",
    "len(lev_ln)"
   ]
  },
  {
   "cell_type": "code",
   "execution_count": 40,
   "metadata": {},
   "outputs": [
    {
     "data": {
      "text/html": [
       "<div>\n",
       "<style scoped>\n",
       "    .dataframe tbody tr th:only-of-type {\n",
       "        vertical-align: middle;\n",
       "    }\n",
       "\n",
       "    .dataframe tbody tr th {\n",
       "        vertical-align: top;\n",
       "    }\n",
       "\n",
       "    .dataframe thead th {\n",
       "        text-align: right;\n",
       "    }\n",
       "</style>\n",
       "<table border=\"1\" class=\"dataframe\">\n",
       "  <thead>\n",
       "    <tr style=\"text-align: right;\">\n",
       "      <th></th>\n",
       "      <th>Pays</th>\n",
       "      <th>mj</th>\n",
       "      <th>Gj</th>\n",
       "      <th>pj</th>\n",
       "      <th>ln_mj</th>\n",
       "      <th>y_child</th>\n",
       "      <th>ln_y_child</th>\n",
       "      <th>levier</th>\n",
       "    </tr>\n",
       "  </thead>\n",
       "  <tbody>\n",
       "    <tr>\n",
       "      <th>42</th>\n",
       "      <td>Honduras</td>\n",
       "      <td>3296.268419</td>\n",
       "      <td>0.615512</td>\n",
       "      <td>0.940737</td>\n",
       "      <td>8.100546</td>\n",
       "      <td>3296.268419</td>\n",
       "      <td>7.380957</td>\n",
       "      <td>0.000662</td>\n",
       "    </tr>\n",
       "    <tr>\n",
       "      <th>95</th>\n",
       "      <td>South Africa</td>\n",
       "      <td>5617.904880</td>\n",
       "      <td>0.682949</td>\n",
       "      <td>0.677000</td>\n",
       "      <td>8.633714</td>\n",
       "      <td>5617.904880</td>\n",
       "      <td>7.717752</td>\n",
       "      <td>0.001162</td>\n",
       "    </tr>\n",
       "  </tbody>\n",
       "</table>\n",
       "</div>"
      ],
      "text/plain": [
       "            Pays           mj        Gj        pj     ln_mj      y_child  \\\n",
       "42      Honduras  3296.268419  0.615512  0.940737  8.100546  3296.268419   \n",
       "95  South Africa  5617.904880  0.682949  0.677000  8.633714  5617.904880   \n",
       "\n",
       "    ln_y_child    levier  \n",
       "42    7.380957  0.000662  \n",
       "95    7.717752  0.001162  "
      ]
     },
     "execution_count": 40,
     "metadata": {},
     "output_type": "execute_result"
    }
   ],
   "source": [
    "# Pays presentants des valeurs atypiques\n",
    "ready_db4.loc[ready_db4['levier'] > seuil_levier]"
   ]
  },
  {
   "cell_type": "code",
   "execution_count": 41,
   "metadata": {},
   "outputs": [
    {
     "data": {
      "text/html": [
       "<div>\n",
       "<style scoped>\n",
       "    .dataframe tbody tr th:only-of-type {\n",
       "        vertical-align: middle;\n",
       "    }\n",
       "\n",
       "    .dataframe tbody tr th {\n",
       "        vertical-align: top;\n",
       "    }\n",
       "\n",
       "    .dataframe thead th {\n",
       "        text-align: right;\n",
       "    }\n",
       "</style>\n",
       "<table border=\"1\" class=\"dataframe\">\n",
       "  <thead>\n",
       "    <tr style=\"text-align: right;\">\n",
       "      <th></th>\n",
       "      <th>Pays</th>\n",
       "      <th>mj</th>\n",
       "      <th>Gj</th>\n",
       "      <th>pj</th>\n",
       "      <th>ln_mj</th>\n",
       "      <th>y_child</th>\n",
       "      <th>ln_y_child</th>\n",
       "      <th>levier</th>\n",
       "    </tr>\n",
       "  </thead>\n",
       "  <tbody>\n",
       "    <tr>\n",
       "      <th>95</th>\n",
       "      <td>South Africa</td>\n",
       "      <td>5617.904880</td>\n",
       "      <td>0.682949</td>\n",
       "      <td>0.677000</td>\n",
       "      <td>8.633714</td>\n",
       "      <td>5617.904880</td>\n",
       "      <td>7.717752</td>\n",
       "      <td>0.001162</td>\n",
       "    </tr>\n",
       "    <tr>\n",
       "      <th>42</th>\n",
       "      <td>Honduras</td>\n",
       "      <td>3296.268419</td>\n",
       "      <td>0.615512</td>\n",
       "      <td>0.940737</td>\n",
       "      <td>8.100546</td>\n",
       "      <td>3296.268419</td>\n",
       "      <td>7.380957</td>\n",
       "      <td>0.000662</td>\n",
       "    </tr>\n",
       "    <tr>\n",
       "      <th>20</th>\n",
       "      <td>Colombia</td>\n",
       "      <td>3547.005275</td>\n",
       "      <td>0.583437</td>\n",
       "      <td>1.095440</td>\n",
       "      <td>8.173859</td>\n",
       "      <td>3547.005276</td>\n",
       "      <td>7.556374</td>\n",
       "      <td>0.000513</td>\n",
       "    </tr>\n",
       "    <tr>\n",
       "      <th>21</th>\n",
       "      <td>Congo Democratic Republic of the</td>\n",
       "      <td>276.016044</td>\n",
       "      <td>0.459403</td>\n",
       "      <td>0.707703</td>\n",
       "      <td>5.620459</td>\n",
       "      <td>276.016044</td>\n",
       "      <td>5.288002</td>\n",
       "      <td>0.000494</td>\n",
       "    </tr>\n",
       "    <tr>\n",
       "      <th>17</th>\n",
       "      <td>Central African Republic</td>\n",
       "      <td>811.299901</td>\n",
       "      <td>0.575972</td>\n",
       "      <td>0.661654</td>\n",
       "      <td>6.698638</td>\n",
       "      <td>811.299901</td>\n",
       "      <td>6.130762</td>\n",
       "      <td>0.000490</td>\n",
       "    </tr>\n",
       "  </tbody>\n",
       "</table>\n",
       "</div>"
      ],
      "text/plain": [
       "                                Pays           mj        Gj        pj  \\\n",
       "95                      South Africa  5617.904880  0.682949  0.677000   \n",
       "42                          Honduras  3296.268419  0.615512  0.940737   \n",
       "20                          Colombia  3547.005275  0.583437  1.095440   \n",
       "21  Congo Democratic Republic of the   276.016044  0.459403  0.707703   \n",
       "17          Central African Republic   811.299901  0.575972  0.661654   \n",
       "\n",
       "       ln_mj      y_child  ln_y_child    levier  \n",
       "95  8.633714  5617.904880    7.717752  0.001162  \n",
       "42  8.100546  3296.268419    7.380957  0.000662  \n",
       "20  8.173859  3547.005276    7.556374  0.000513  \n",
       "21  5.620459   276.016044    5.288002  0.000494  \n",
       "17  6.698638   811.299901    6.130762  0.000490  "
      ]
     },
     "execution_count": 41,
     "metadata": {},
     "output_type": "execute_result"
    }
   ],
   "source": [
    "ready_db4.sort_values(by='levier', ascending=False).head()"
   ]
  },
  {
   "cell_type": "markdown",
   "metadata": {},
   "source": [
    "<a id='atyp1bis'></a>\n",
    "<h3 style='color:#8677b2'>Analyse de l'atypicité sur la variable à expliquer (residus studentisés)</h3>"
   ]
  },
  {
   "cell_type": "markdown",
   "metadata": {},
   "source": [
    "[Haut de page](#sommaire)"
   ]
  },
  {
   "cell_type": "code",
   "execution_count": 42,
   "metadata": {},
   "outputs": [
    {
     "data": {
      "text/plain": [
       "1.9601685822161563"
      ]
     },
     "execution_count": 42,
     "metadata": {},
     "output_type": "execute_result"
    }
   ],
   "source": [
    "# Détermination du seuil statistique d'atypicité\n",
    "seuil_rstudent = t.ppf(1-alpha/2,n-p-1)\n",
    "seuil_rstudent"
   ]
  },
  {
   "cell_type": "code",
   "execution_count": 43,
   "metadata": {},
   "outputs": [
    {
     "data": {
      "text/html": [
       "<div>\n",
       "<style scoped>\n",
       "    .dataframe tbody tr th:only-of-type {\n",
       "        vertical-align: middle;\n",
       "    }\n",
       "\n",
       "    .dataframe tbody tr th {\n",
       "        vertical-align: top;\n",
       "    }\n",
       "\n",
       "    .dataframe thead th {\n",
       "        text-align: right;\n",
       "    }\n",
       "</style>\n",
       "<table border=\"1\" class=\"dataframe\">\n",
       "  <thead>\n",
       "    <tr style=\"text-align: right;\">\n",
       "      <th></th>\n",
       "      <th>Pays</th>\n",
       "      <th>y_child</th>\n",
       "      <th>mj</th>\n",
       "      <th>Gj</th>\n",
       "      <th>pj</th>\n",
       "      <th>ln_mj</th>\n",
       "      <th>ln_y_child</th>\n",
       "      <th>levier</th>\n",
       "      <th>rstudent</th>\n",
       "    </tr>\n",
       "  </thead>\n",
       "  <tbody>\n",
       "    <tr>\n",
       "      <th>5600</th>\n",
       "      <td>Korea Republic of</td>\n",
       "      <td>17.317732</td>\n",
       "      <td>15227.569445</td>\n",
       "      <td>0.367935</td>\n",
       "      <td>0.394000</td>\n",
       "      <td>9.630863</td>\n",
       "      <td>2.851731</td>\n",
       "      <td>0.000238</td>\n",
       "      <td>-9.087780</td>\n",
       "    </tr>\n",
       "    <tr>\n",
       "      <th>1600</th>\n",
       "      <td>Canada</td>\n",
       "      <td>122.424810</td>\n",
       "      <td>23739.640518</td>\n",
       "      <td>0.366553</td>\n",
       "      <td>0.269333</td>\n",
       "      <td>10.074902</td>\n",
       "      <td>4.807497</td>\n",
       "      <td>0.000341</td>\n",
       "      <td>-6.980981</td>\n",
       "    </tr>\n",
       "    <tr>\n",
       "      <th>1900</th>\n",
       "      <td>China</td>\n",
       "      <td>16.719418</td>\n",
       "      <td>2522.758726</td>\n",
       "      <td>0.493332</td>\n",
       "      <td>0.399000</td>\n",
       "      <td>7.833108</td>\n",
       "      <td>2.816571</td>\n",
       "      <td>0.000193</td>\n",
       "      <td>-6.382910</td>\n",
       "    </tr>\n",
       "    <tr>\n",
       "      <th>900</th>\n",
       "      <td>Bolivia</td>\n",
       "      <td>20.584948</td>\n",
       "      <td>3016.263843</td>\n",
       "      <td>0.575719</td>\n",
       "      <td>0.866268</td>\n",
       "      <td>8.011774</td>\n",
       "      <td>3.024560</td>\n",
       "      <td>0.000465</td>\n",
       "      <td>-6.150327</td>\n",
       "    </tr>\n",
       "    <tr>\n",
       "      <th>5000</th>\n",
       "      <td>Israel</td>\n",
       "      <td>142.350430</td>\n",
       "      <td>11100.318137</td>\n",
       "      <td>0.429918</td>\n",
       "      <td>0.348050</td>\n",
       "      <td>9.314729</td>\n",
       "      <td>4.958292</td>\n",
       "      <td>0.000224</td>\n",
       "      <td>-5.582806</td>\n",
       "    </tr>\n",
       "  </tbody>\n",
       "</table>\n",
       "</div>"
      ],
      "text/plain": [
       "                   Pays     y_child            mj        Gj        pj  \\\n",
       "5600  Korea Republic of   17.317732  15227.569445  0.367935  0.394000   \n",
       "1600             Canada  122.424810  23739.640518  0.366553  0.269333   \n",
       "1900              China   16.719418   2522.758726  0.493332  0.399000   \n",
       "900             Bolivia   20.584948   3016.263843  0.575719  0.866268   \n",
       "5000             Israel  142.350430  11100.318137  0.429918  0.348050   \n",
       "\n",
       "          ln_mj  ln_y_child    levier  rstudent  \n",
       "5600   9.630863    2.851731  0.000238 -9.087780  \n",
       "1600  10.074902    4.807497  0.000341 -6.980981  \n",
       "1900   7.833108    2.816571  0.000193 -6.382910  \n",
       "900    8.011774    3.024560  0.000465 -6.150327  \n",
       "5000   9.314729    4.958292  0.000224 -5.582806  "
      ]
     },
     "execution_count": 43,
     "metadata": {},
     "output_type": "execute_result"
    }
   ],
   "source": [
    "# statistique de test par observation\n",
    "ready_db2['rstudent'] = reg_multi_ln.get_influence().resid_studentized_internal\n",
    "ready_db2.sort_values(by='rstudent').head()"
   ]
  },
  {
   "cell_type": "code",
   "execution_count": 44,
   "metadata": {},
   "outputs": [
    {
     "data": {
      "text/html": [
       "<div>\n",
       "<style scoped>\n",
       "    .dataframe tbody tr th:only-of-type {\n",
       "        vertical-align: middle;\n",
       "    }\n",
       "\n",
       "    .dataframe tbody tr th {\n",
       "        vertical-align: top;\n",
       "    }\n",
       "\n",
       "    .dataframe thead th {\n",
       "        text-align: right;\n",
       "    }\n",
       "</style>\n",
       "<table border=\"1\" class=\"dataframe\">\n",
       "  <thead>\n",
       "    <tr style=\"text-align: right;\">\n",
       "      <th></th>\n",
       "      <th>Pays</th>\n",
       "      <th>y_child</th>\n",
       "      <th>mj</th>\n",
       "      <th>Gj</th>\n",
       "      <th>pj</th>\n",
       "      <th>ln_mj</th>\n",
       "      <th>ln_y_child</th>\n",
       "      <th>levier</th>\n",
       "      <th>rstudent</th>\n",
       "    </tr>\n",
       "  </thead>\n",
       "  <tbody>\n",
       "    <tr>\n",
       "      <th>999</th>\n",
       "      <td>Bolivia</td>\n",
       "      <td>43786.920</td>\n",
       "      <td>3016.263843</td>\n",
       "      <td>0.575719</td>\n",
       "      <td>0.866268</td>\n",
       "      <td>8.011774</td>\n",
       "      <td>10.687090</td>\n",
       "      <td>0.000465</td>\n",
       "      <td>4.504913</td>\n",
       "    </tr>\n",
       "    <tr>\n",
       "      <th>1799</th>\n",
       "      <td>Central African Republic</td>\n",
       "      <td>14472.948</td>\n",
       "      <td>811.299901</td>\n",
       "      <td>0.575972</td>\n",
       "      <td>0.661654</td>\n",
       "      <td>6.698638</td>\n",
       "      <td>9.580037</td>\n",
       "      <td>0.000490</td>\n",
       "      <td>4.767232</td>\n",
       "    </tr>\n",
       "    <tr>\n",
       "      <th>9599</th>\n",
       "      <td>South Africa</td>\n",
       "      <td>82408.550</td>\n",
       "      <td>5617.904880</td>\n",
       "      <td>0.682949</td>\n",
       "      <td>0.677000</td>\n",
       "      <td>8.633714</td>\n",
       "      <td>11.319444</td>\n",
       "      <td>0.001162</td>\n",
       "      <td>4.779222</td>\n",
       "    </tr>\n",
       "    <tr>\n",
       "      <th>4299</th>\n",
       "      <td>Honduras</td>\n",
       "      <td>56265.700</td>\n",
       "      <td>3296.268419</td>\n",
       "      <td>0.615512</td>\n",
       "      <td>0.940737</td>\n",
       "      <td>8.100546</td>\n",
       "      <td>10.937840</td>\n",
       "      <td>0.000662</td>\n",
       "      <td>4.823737</td>\n",
       "    </tr>\n",
       "    <tr>\n",
       "      <th>4099</th>\n",
       "      <td>Guatemala</td>\n",
       "      <td>39799.406</td>\n",
       "      <td>2142.474753</td>\n",
       "      <td>0.582468</td>\n",
       "      <td>1.015206</td>\n",
       "      <td>7.669717</td>\n",
       "      <td>10.591607</td>\n",
       "      <td>0.000476</td>\n",
       "      <td>4.856839</td>\n",
       "    </tr>\n",
       "  </tbody>\n",
       "</table>\n",
       "</div>"
      ],
      "text/plain": [
       "                          Pays    y_child           mj        Gj        pj  \\\n",
       "999                    Bolivia  43786.920  3016.263843  0.575719  0.866268   \n",
       "1799  Central African Republic  14472.948   811.299901  0.575972  0.661654   \n",
       "9599              South Africa  82408.550  5617.904880  0.682949  0.677000   \n",
       "4299                  Honduras  56265.700  3296.268419  0.615512  0.940737   \n",
       "4099                 Guatemala  39799.406  2142.474753  0.582468  1.015206   \n",
       "\n",
       "         ln_mj  ln_y_child    levier  rstudent  \n",
       "999   8.011774   10.687090  0.000465  4.504913  \n",
       "1799  6.698638    9.580037  0.000490  4.767232  \n",
       "9599  8.633714   11.319444  0.001162  4.779222  \n",
       "4299  8.100546   10.937840  0.000662  4.823737  \n",
       "4099  7.669717   10.591607  0.000476  4.856839  "
      ]
     },
     "execution_count": 44,
     "metadata": {},
     "output_type": "execute_result"
    }
   ],
   "source": [
    "ready_db2.sort_values(by='rstudent').tail()"
   ]
  },
  {
   "cell_type": "code",
   "execution_count": 45,
   "metadata": {},
   "outputs": [
    {
     "data": {
      "image/png": "[encoded data removed]",
      "text/plain": [
       "<Figure size 1080x1080 with 1 Axes>"
      ]
     },
     "metadata": {
      "needs_background": "light"
     },
     "output_type": "display_data"
    }
   ],
   "source": [
    "ready_db5 = ready_db2.groupby(['Pays', 'mj', 'Gj', 'pj', 'ln_mj', 'rstudent']).mean()\n",
    "ready_db5.reset_index(inplace=True)\n",
    "\n",
    "# Représentation des leviers\n",
    "plt.figure(figsize=(15,15))\n",
    "\n",
    "# Individus entre le seuil mini et le seuil maxi\n",
    "plt.bar(ready_db5.loc[(ready_db5['rstudent'] <= seuil_rstudent) & (ready_db5['rstudent'] >= -seuil_rstudent)].index,\n",
    "        ready_db5.loc[(ready_db5['rstudent'] <= seuil_rstudent) & (ready_db5['rstudent'] >= -seuil_rstudent)]['rstudent'], color='g')\n",
    "\n",
    "# Individus au dessus du seuil maxi\n",
    "plt.bar(ready_db5.loc[ready_db5['rstudent'] > seuil_rstudent].index,\n",
    "        ready_db5.loc[ready_db5['rstudent'] > seuil_rstudent]['rstudent'], color='r')\n",
    "\n",
    "# Individus au dessous du seuil maxi\n",
    "plt.bar(ready_db5.loc[ready_db5['rstudent'] < -seuil_rstudent].index,\n",
    "        ready_db5.loc[ready_db5['rstudent'] < -seuil_rstudent]['rstudent'], color='r')\n",
    "\n",
    "# Décoration et annotations\n",
    "plt.title('Représentation des résidus studentisés', fontsize=22)\n",
    "plt.xlabel('Pays', fontsize=18)\n",
    "plt.xticks(fontsize=16)\n",
    "plt.ylim(-10,10)\n",
    "plt.ylabel('Résidus studentisés', fontsize=18)\n",
    "plt.yticks(fontsize=16)\n",
    "\n",
    "plt.axhline(y=seuil_rstudent, color='b', linestyle='-')\n",
    "plt.text(5_000, 2.5 , 'Seuil rstudent', fontsize = '18', color='b')\n",
    "\n",
    "plt.axhline(y=-seuil_rstudent, color='b', linestyle='-')\n",
    "plt.text(5_000, -2.5 , '-Seuil rstudent', fontsize = '18', color='b')\n",
    "\n",
    "plt.tight_layout()\n",
    "\n",
    "plt.savefig('graph/res_stu.png', dpi=300)\n",
    "plt.show()"
   ]
  },
  {
   "cell_type": "code",
   "execution_count": 46,
   "metadata": {},
   "outputs": [
    {
     "data": {
      "image/png": "[encoded data removed]",
      "text/plain": [
       "<Figure size 1080x1080 with 1 Axes>"
      ]
     },
     "metadata": {
      "needs_background": "light"
     },
     "output_type": "display_data"
    }
   ],
   "source": [
    "ready_db_saf = ready_db5.loc[(ready_db5['Pays'] == 'South Africa')]\n",
    "\n",
    "# Représentation des leviers\n",
    "plt.figure(figsize=(15,15))\n",
    "\n",
    "# Individus entre le seuil mini et le seuil maxi\n",
    "plt.bar(ready_db_saf.loc[(ready_db_saf['rstudent'] <= seuil_rstudent) & (ready_db_saf['rstudent'] >= -seuil_rstudent)].index,\n",
    "        ready_db_saf.loc[(ready_db_saf['rstudent'] <= seuil_rstudent) & (ready_db_saf['rstudent'] >= -seuil_rstudent)]['rstudent'], color='g')\n",
    "\n",
    "# Individus au dessus du seuil maxi\n",
    "plt.bar(ready_db_saf.loc[ready_db_saf['rstudent'] > seuil_rstudent].index,\n",
    "        ready_db_saf.loc[ready_db_saf['rstudent'] > seuil_rstudent]['rstudent'], color='r')\n",
    "\n",
    "# Individus au dessous du seuil maxi\n",
    "plt.bar(ready_db_saf.loc[ready_db_saf['rstudent'] < -seuil_rstudent].index,\n",
    "        ready_db_saf.loc[ready_db_saf['rstudent'] < -seuil_rstudent]['rstudent'], color='r')\n",
    "\n",
    "# Décoration et annotations\n",
    "plt.title('Représentation des résidus studentisés\\nAfrique du Sud', fontsize=22)\n",
    "plt.xlabel('Classes parents', fontsize=18)\n",
    "plt.xticks(fontsize=16)\n",
    "plt.ylim(-10,10)\n",
    "plt.yticks(fontsize=16)\n",
    "plt.ylabel('Résidus studentisés', fontsize=18)\n",
    "\n",
    "plt.axhline(y=seuil_rstudent, color='b', linestyle='-')\n",
    "plt.text(9550, 2.5 , 'Seuil rstudent', fontsize = '18', color='b')\n",
    "\n",
    "plt.axhline(y=-seuil_rstudent, color='b', linestyle='-')\n",
    "plt.text(9550, -2.5 , '-Seuil rstudent', fontsize = '18', color='b')\n",
    "\n",
    "plt.tight_layout()\n",
    "\n",
    "plt.savefig('graph/res_saf.png')\n",
    "plt.show()"
   ]
  },
  {
   "cell_type": "code",
   "execution_count": 47,
   "metadata": {},
   "outputs": [
    {
     "data": {
      "image/png": "[encoded data removed]",
      "text/plain": [
       "<Figure size 1080x1080 with 1 Axes>"
      ]
     },
     "metadata": {
      "needs_background": "light"
     },
     "output_type": "display_data"
    }
   ],
   "source": [
    "ready_db_hon = ready_db5.loc[(ready_db5['Pays'] == 'Honduras')]\n",
    "\n",
    "# Représentation des leviers\n",
    "plt.figure(figsize=(15,15))\n",
    "\n",
    "# Individus entre le seuil mini et le seuil maxi\n",
    "plt.bar(ready_db_hon.loc[(ready_db_hon['rstudent'] <= seuil_rstudent) & (ready_db_hon['rstudent'] >= -seuil_rstudent)].index,\n",
    "        ready_db_hon.loc[(ready_db_hon['rstudent'] <= seuil_rstudent) & (ready_db_hon['rstudent'] >= -seuil_rstudent)]['rstudent'], color='g')\n",
    "\n",
    "# Individus au dessus du seuil maxi\n",
    "plt.bar(ready_db_hon.loc[ready_db_hon['rstudent'] > seuil_rstudent].index,\n",
    "        ready_db_hon.loc[ready_db_hon['rstudent'] > seuil_rstudent]['rstudent'], color='r')\n",
    "\n",
    "# Individus au dessous du seuil maxi\n",
    "plt.bar(ready_db_hon.loc[ready_db_hon['rstudent'] < -seuil_rstudent].index,\n",
    "        ready_db_hon.loc[ready_db_hon['rstudent'] < -seuil_rstudent]['rstudent'], color='r')\n",
    "\n",
    "# Décoration et annotations\n",
    "plt.title('Représentation des résidus studentisés\\npour le Honduras', fontsize=22)\n",
    "plt.xlabel('Classes parents', fontsize=18)\n",
    "plt.xticks(fontsize=16)\n",
    "plt.ylim(-10,10)\n",
    "plt.yticks(fontsize=16)\n",
    "plt.ylabel('Résidus studentisés', fontsize=18)\n",
    "\n",
    "plt.axhline(y=seuil_rstudent, color='b', linestyle='-')\n",
    "plt.text(4250, 2.5 , 'Seuil rstudent', fontsize = '18', color='b')\n",
    "\n",
    "plt.axhline(y=-seuil_rstudent, color='b', linestyle='-')\n",
    "plt.text(4250, -2.5 , '-Seuil rstudent', fontsize = '18', color='b')\n",
    "\n",
    "plt.tight_layout()\n",
    "\n",
    "plt.savefig('graph/res_hon.png')\n",
    "plt.show()"
   ]
  },
  {
   "cell_type": "code",
   "execution_count": 48,
   "metadata": {},
   "outputs": [
    {
     "data": {
      "image/png": "[encoded data removed]",
      "text/plain": [
       "<Figure size 1080x1080 with 1 Axes>"
      ]
     },
     "metadata": {
      "needs_background": "light"
     },
     "output_type": "display_data"
    }
   ],
   "source": [
    "ready_db_kor = ready_db5.loc[(ready_db5['Pays'] == 'Korea Republic of')]\n",
    "\n",
    "# Représentation des leviers\n",
    "plt.figure(figsize=(15,15))\n",
    "\n",
    "# Individus entre le seuil mini et le seuil maxi\n",
    "plt.bar(ready_db_kor.loc[(ready_db_kor['rstudent'] <= seuil_rstudent) & (ready_db_kor['rstudent'] >= -seuil_rstudent)].index,\n",
    "        ready_db_kor.loc[(ready_db_kor['rstudent'] <= seuil_rstudent) & (ready_db_kor['rstudent'] >= -seuil_rstudent)]['rstudent'], color='g')\n",
    "\n",
    "# Individus au dessus du seuil maxi\n",
    "plt.bar(ready_db_kor.loc[ready_db_kor['rstudent'] > seuil_rstudent].index,\n",
    "        ready_db_kor.loc[ready_db_kor['rstudent'] > seuil_rstudent]['rstudent'], color='r')\n",
    "\n",
    "# Individus au dessous du seuil maxi\n",
    "plt.bar(ready_db_kor.loc[ready_db_kor['rstudent'] < -seuil_rstudent].index,\n",
    "        ready_db_kor.loc[ready_db_kor['rstudent'] < -seuil_rstudent]['rstudent'], color='r')\n",
    "\n",
    "# Décoration et annotations\n",
    "plt.title('Représentation des résidus studentisés\\npour la république de Corée', fontsize=22)\n",
    "plt.xlabel('Classes parents', fontsize=18)\n",
    "plt.xticks(fontsize=16)\n",
    "plt.ylim(-10,10)\n",
    "plt.yticks(fontsize=16)\n",
    "plt.ylabel('Résidus studentisés', fontsize=18)\n",
    "\n",
    "plt.axhline(y=seuil_rstudent, color='b', linestyle='-')\n",
    "plt.text(5650, 2.5 , 'Seuil rstudent', fontsize = '18', color='b')\n",
    "\n",
    "plt.axhline(y=-seuil_rstudent, color='b', linestyle='-')\n",
    "plt.text(5650, -2.5 , '-Seuil rstudent', fontsize = '18', color='b')\n",
    "\n",
    "plt.tight_layout()\n",
    "\n",
    "plt.savefig('graph/res_kor.png')\n",
    "plt.show()"
   ]
  },
  {
   "cell_type": "code",
   "execution_count": 49,
   "metadata": {},
   "outputs": [
    {
     "data": {
      "text/plain": [
       "640"
      ]
     },
     "execution_count": 49,
     "metadata": {},
     "output_type": "execute_result"
    }
   ],
   "source": [
    "# Nombre de valeurs atypiques sur les variables à expliquer\n",
    "res_stu_ln = ready_db5.loc[(ready_db5['rstudent'] > seuil_rstudent) |\n",
    "                             (ready_db5['rstudent'] < -seuil_rstudent)]\n",
    "\n",
    "len(res_stu_ln)"
   ]
  },
  {
   "cell_type": "code",
   "execution_count": 50,
   "metadata": {
    "scrolled": true
   },
   "outputs": [
    {
     "data": {
      "text/html": [
       "<div>\n",
       "<style scoped>\n",
       "    .dataframe tbody tr th:only-of-type {\n",
       "        vertical-align: middle;\n",
       "    }\n",
       "\n",
       "    .dataframe tbody tr th {\n",
       "        vertical-align: top;\n",
       "    }\n",
       "\n",
       "    .dataframe thead th {\n",
       "        text-align: right;\n",
       "    }\n",
       "</style>\n",
       "<table border=\"1\" class=\"dataframe\">\n",
       "  <thead>\n",
       "    <tr style=\"text-align: right;\">\n",
       "      <th></th>\n",
       "      <th>mj</th>\n",
       "      <th>Gj</th>\n",
       "      <th>pj</th>\n",
       "      <th>ln_mj</th>\n",
       "      <th>rstudent</th>\n",
       "      <th>y_child</th>\n",
       "      <th>ln_y_child</th>\n",
       "      <th>levier</th>\n",
       "    </tr>\n",
       "    <tr>\n",
       "      <th>Pays</th>\n",
       "      <th></th>\n",
       "      <th></th>\n",
       "      <th></th>\n",
       "      <th></th>\n",
       "      <th></th>\n",
       "      <th></th>\n",
       "      <th></th>\n",
       "      <th></th>\n",
       "    </tr>\n",
       "  </thead>\n",
       "  <tbody>\n",
       "    <tr>\n",
       "      <th>South Africa</th>\n",
       "      <td>29</td>\n",
       "      <td>29</td>\n",
       "      <td>29</td>\n",
       "      <td>29</td>\n",
       "      <td>29</td>\n",
       "      <td>29</td>\n",
       "      <td>29</td>\n",
       "      <td>29</td>\n",
       "    </tr>\n",
       "    <tr>\n",
       "      <th>Honduras</th>\n",
       "      <td>22</td>\n",
       "      <td>22</td>\n",
       "      <td>22</td>\n",
       "      <td>22</td>\n",
       "      <td>22</td>\n",
       "      <td>22</td>\n",
       "      <td>22</td>\n",
       "      <td>22</td>\n",
       "    </tr>\n",
       "    <tr>\n",
       "      <th>Bolivia</th>\n",
       "      <td>20</td>\n",
       "      <td>20</td>\n",
       "      <td>20</td>\n",
       "      <td>20</td>\n",
       "      <td>20</td>\n",
       "      <td>20</td>\n",
       "      <td>20</td>\n",
       "      <td>20</td>\n",
       "    </tr>\n",
       "    <tr>\n",
       "      <th>Colombia</th>\n",
       "      <td>17</td>\n",
       "      <td>17</td>\n",
       "      <td>17</td>\n",
       "      <td>17</td>\n",
       "      <td>17</td>\n",
       "      <td>17</td>\n",
       "      <td>17</td>\n",
       "      <td>17</td>\n",
       "    </tr>\n",
       "    <tr>\n",
       "      <th>Panama</th>\n",
       "      <td>16</td>\n",
       "      <td>16</td>\n",
       "      <td>16</td>\n",
       "      <td>16</td>\n",
       "      <td>16</td>\n",
       "      <td>16</td>\n",
       "      <td>16</td>\n",
       "      <td>16</td>\n",
       "    </tr>\n",
       "    <tr>\n",
       "      <th>Brazil</th>\n",
       "      <td>16</td>\n",
       "      <td>16</td>\n",
       "      <td>16</td>\n",
       "      <td>16</td>\n",
       "      <td>16</td>\n",
       "      <td>16</td>\n",
       "      <td>16</td>\n",
       "      <td>16</td>\n",
       "    </tr>\n",
       "    <tr>\n",
       "      <th>Mexico</th>\n",
       "      <td>14</td>\n",
       "      <td>14</td>\n",
       "      <td>14</td>\n",
       "      <td>14</td>\n",
       "      <td>14</td>\n",
       "      <td>14</td>\n",
       "      <td>14</td>\n",
       "      <td>14</td>\n",
       "    </tr>\n",
       "    <tr>\n",
       "      <th>Guatemala</th>\n",
       "      <td>14</td>\n",
       "      <td>14</td>\n",
       "      <td>14</td>\n",
       "      <td>14</td>\n",
       "      <td>14</td>\n",
       "      <td>14</td>\n",
       "      <td>14</td>\n",
       "      <td>14</td>\n",
       "    </tr>\n",
       "    <tr>\n",
       "      <th>Central African Republic</th>\n",
       "      <td>14</td>\n",
       "      <td>14</td>\n",
       "      <td>14</td>\n",
       "      <td>14</td>\n",
       "      <td>14</td>\n",
       "      <td>14</td>\n",
       "      <td>14</td>\n",
       "      <td>14</td>\n",
       "    </tr>\n",
       "    <tr>\n",
       "      <th>Ecuador</th>\n",
       "      <td>13</td>\n",
       "      <td>13</td>\n",
       "      <td>13</td>\n",
       "      <td>13</td>\n",
       "      <td>13</td>\n",
       "      <td>13</td>\n",
       "      <td>13</td>\n",
       "      <td>13</td>\n",
       "    </tr>\n",
       "    <tr>\n",
       "      <th>Paraguay</th>\n",
       "      <td>13</td>\n",
       "      <td>13</td>\n",
       "      <td>13</td>\n",
       "      <td>13</td>\n",
       "      <td>13</td>\n",
       "      <td>13</td>\n",
       "      <td>13</td>\n",
       "      <td>13</td>\n",
       "    </tr>\n",
       "    <tr>\n",
       "      <th>Nicaragua</th>\n",
       "      <td>13</td>\n",
       "      <td>13</td>\n",
       "      <td>13</td>\n",
       "      <td>13</td>\n",
       "      <td>13</td>\n",
       "      <td>13</td>\n",
       "      <td>13</td>\n",
       "      <td>13</td>\n",
       "    </tr>\n",
       "    <tr>\n",
       "      <th>Peru</th>\n",
       "      <td>12</td>\n",
       "      <td>12</td>\n",
       "      <td>12</td>\n",
       "      <td>12</td>\n",
       "      <td>12</td>\n",
       "      <td>12</td>\n",
       "      <td>12</td>\n",
       "      <td>12</td>\n",
       "    </tr>\n",
       "    <tr>\n",
       "      <th>China</th>\n",
       "      <td>12</td>\n",
       "      <td>12</td>\n",
       "      <td>12</td>\n",
       "      <td>12</td>\n",
       "      <td>12</td>\n",
       "      <td>12</td>\n",
       "      <td>12</td>\n",
       "      <td>12</td>\n",
       "    </tr>\n",
       "    <tr>\n",
       "      <th>Chile</th>\n",
       "      <td>11</td>\n",
       "      <td>11</td>\n",
       "      <td>11</td>\n",
       "      <td>11</td>\n",
       "      <td>11</td>\n",
       "      <td>11</td>\n",
       "      <td>11</td>\n",
       "      <td>11</td>\n",
       "    </tr>\n",
       "    <tr>\n",
       "      <th>Thailand</th>\n",
       "      <td>11</td>\n",
       "      <td>11</td>\n",
       "      <td>11</td>\n",
       "      <td>11</td>\n",
       "      <td>11</td>\n",
       "      <td>11</td>\n",
       "      <td>11</td>\n",
       "      <td>11</td>\n",
       "    </tr>\n",
       "    <tr>\n",
       "      <th>Dominican Republic</th>\n",
       "      <td>11</td>\n",
       "      <td>11</td>\n",
       "      <td>11</td>\n",
       "      <td>11</td>\n",
       "      <td>11</td>\n",
       "      <td>11</td>\n",
       "      <td>11</td>\n",
       "      <td>11</td>\n",
       "    </tr>\n",
       "    <tr>\n",
       "      <th>Costa Rica</th>\n",
       "      <td>11</td>\n",
       "      <td>11</td>\n",
       "      <td>11</td>\n",
       "      <td>11</td>\n",
       "      <td>11</td>\n",
       "      <td>11</td>\n",
       "      <td>11</td>\n",
       "      <td>11</td>\n",
       "    </tr>\n",
       "    <tr>\n",
       "      <th>El Salvador</th>\n",
       "      <td>11</td>\n",
       "      <td>11</td>\n",
       "      <td>11</td>\n",
       "      <td>11</td>\n",
       "      <td>11</td>\n",
       "      <td>11</td>\n",
       "      <td>11</td>\n",
       "      <td>11</td>\n",
       "    </tr>\n",
       "    <tr>\n",
       "      <th>Argentina</th>\n",
       "      <td>11</td>\n",
       "      <td>11</td>\n",
       "      <td>11</td>\n",
       "      <td>11</td>\n",
       "      <td>11</td>\n",
       "      <td>11</td>\n",
       "      <td>11</td>\n",
       "      <td>11</td>\n",
       "    </tr>\n",
       "    <tr>\n",
       "      <th>United States of America</th>\n",
       "      <td>10</td>\n",
       "      <td>10</td>\n",
       "      <td>10</td>\n",
       "      <td>10</td>\n",
       "      <td>10</td>\n",
       "      <td>10</td>\n",
       "      <td>10</td>\n",
       "      <td>10</td>\n",
       "    </tr>\n",
       "    <tr>\n",
       "      <th>Malaysia</th>\n",
       "      <td>10</td>\n",
       "      <td>10</td>\n",
       "      <td>10</td>\n",
       "      <td>10</td>\n",
       "      <td>10</td>\n",
       "      <td>10</td>\n",
       "      <td>10</td>\n",
       "      <td>10</td>\n",
       "    </tr>\n",
       "    <tr>\n",
       "      <th>Nigeria</th>\n",
       "      <td>9</td>\n",
       "      <td>9</td>\n",
       "      <td>9</td>\n",
       "      <td>9</td>\n",
       "      <td>9</td>\n",
       "      <td>9</td>\n",
       "      <td>9</td>\n",
       "      <td>9</td>\n",
       "    </tr>\n",
       "    <tr>\n",
       "      <th>Swaziland</th>\n",
       "      <td>9</td>\n",
       "      <td>9</td>\n",
       "      <td>9</td>\n",
       "      <td>9</td>\n",
       "      <td>9</td>\n",
       "      <td>9</td>\n",
       "      <td>9</td>\n",
       "      <td>9</td>\n",
       "    </tr>\n",
       "    <tr>\n",
       "      <th>Turkey</th>\n",
       "      <td>9</td>\n",
       "      <td>9</td>\n",
       "      <td>9</td>\n",
       "      <td>9</td>\n",
       "      <td>9</td>\n",
       "      <td>9</td>\n",
       "      <td>9</td>\n",
       "      <td>9</td>\n",
       "    </tr>\n",
       "    <tr>\n",
       "      <th>Uruguay</th>\n",
       "      <td>8</td>\n",
       "      <td>8</td>\n",
       "      <td>8</td>\n",
       "      <td>8</td>\n",
       "      <td>8</td>\n",
       "      <td>8</td>\n",
       "      <td>8</td>\n",
       "      <td>8</td>\n",
       "    </tr>\n",
       "    <tr>\n",
       "      <th>Iran Islamic Republic of</th>\n",
       "      <td>8</td>\n",
       "      <td>8</td>\n",
       "      <td>8</td>\n",
       "      <td>8</td>\n",
       "      <td>8</td>\n",
       "      <td>8</td>\n",
       "      <td>8</td>\n",
       "      <td>8</td>\n",
       "    </tr>\n",
       "    <tr>\n",
       "      <th>Israel</th>\n",
       "      <td>8</td>\n",
       "      <td>8</td>\n",
       "      <td>8</td>\n",
       "      <td>8</td>\n",
       "      <td>8</td>\n",
       "      <td>8</td>\n",
       "      <td>8</td>\n",
       "      <td>8</td>\n",
       "    </tr>\n",
       "    <tr>\n",
       "      <th>Congo Democratic Republic of the</th>\n",
       "      <td>8</td>\n",
       "      <td>8</td>\n",
       "      <td>8</td>\n",
       "      <td>8</td>\n",
       "      <td>8</td>\n",
       "      <td>8</td>\n",
       "      <td>8</td>\n",
       "      <td>8</td>\n",
       "    </tr>\n",
       "    <tr>\n",
       "      <th>Venezuela (Bolivarian Republic of)</th>\n",
       "      <td>8</td>\n",
       "      <td>8</td>\n",
       "      <td>8</td>\n",
       "      <td>8</td>\n",
       "      <td>8</td>\n",
       "      <td>8</td>\n",
       "      <td>8</td>\n",
       "      <td>8</td>\n",
       "    </tr>\n",
       "    <tr>\n",
       "      <th>...</th>\n",
       "      <td>...</td>\n",
       "      <td>...</td>\n",
       "      <td>...</td>\n",
       "      <td>...</td>\n",
       "      <td>...</td>\n",
       "      <td>...</td>\n",
       "      <td>...</td>\n",
       "      <td>...</td>\n",
       "    </tr>\n",
       "    <tr>\n",
       "      <th>Tajikistan</th>\n",
       "      <td>2</td>\n",
       "      <td>2</td>\n",
       "      <td>2</td>\n",
       "      <td>2</td>\n",
       "      <td>2</td>\n",
       "      <td>2</td>\n",
       "      <td>2</td>\n",
       "      <td>2</td>\n",
       "    </tr>\n",
       "    <tr>\n",
       "      <th>Croatia</th>\n",
       "      <td>2</td>\n",
       "      <td>2</td>\n",
       "      <td>2</td>\n",
       "      <td>2</td>\n",
       "      <td>2</td>\n",
       "      <td>2</td>\n",
       "      <td>2</td>\n",
       "      <td>2</td>\n",
       "    </tr>\n",
       "    <tr>\n",
       "      <th>Timor-Leste</th>\n",
       "      <td>2</td>\n",
       "      <td>2</td>\n",
       "      <td>2</td>\n",
       "      <td>2</td>\n",
       "      <td>2</td>\n",
       "      <td>2</td>\n",
       "      <td>2</td>\n",
       "      <td>2</td>\n",
       "    </tr>\n",
       "    <tr>\n",
       "      <th>Austria</th>\n",
       "      <td>2</td>\n",
       "      <td>2</td>\n",
       "      <td>2</td>\n",
       "      <td>2</td>\n",
       "      <td>2</td>\n",
       "      <td>2</td>\n",
       "      <td>2</td>\n",
       "      <td>2</td>\n",
       "    </tr>\n",
       "    <tr>\n",
       "      <th>Mali</th>\n",
       "      <td>2</td>\n",
       "      <td>2</td>\n",
       "      <td>2</td>\n",
       "      <td>2</td>\n",
       "      <td>2</td>\n",
       "      <td>2</td>\n",
       "      <td>2</td>\n",
       "      <td>2</td>\n",
       "    </tr>\n",
       "    <tr>\n",
       "      <th>France</th>\n",
       "      <td>2</td>\n",
       "      <td>2</td>\n",
       "      <td>2</td>\n",
       "      <td>2</td>\n",
       "      <td>2</td>\n",
       "      <td>2</td>\n",
       "      <td>2</td>\n",
       "      <td>2</td>\n",
       "    </tr>\n",
       "    <tr>\n",
       "      <th>Jordan</th>\n",
       "      <td>2</td>\n",
       "      <td>2</td>\n",
       "      <td>2</td>\n",
       "      <td>2</td>\n",
       "      <td>2</td>\n",
       "      <td>2</td>\n",
       "      <td>2</td>\n",
       "      <td>2</td>\n",
       "    </tr>\n",
       "    <tr>\n",
       "      <th>Poland</th>\n",
       "      <td>2</td>\n",
       "      <td>2</td>\n",
       "      <td>2</td>\n",
       "      <td>2</td>\n",
       "      <td>2</td>\n",
       "      <td>2</td>\n",
       "      <td>2</td>\n",
       "      <td>2</td>\n",
       "    </tr>\n",
       "    <tr>\n",
       "      <th>Moldova</th>\n",
       "      <td>2</td>\n",
       "      <td>2</td>\n",
       "      <td>2</td>\n",
       "      <td>2</td>\n",
       "      <td>2</td>\n",
       "      <td>2</td>\n",
       "      <td>2</td>\n",
       "      <td>2</td>\n",
       "    </tr>\n",
       "    <tr>\n",
       "      <th>Hungary</th>\n",
       "      <td>2</td>\n",
       "      <td>2</td>\n",
       "      <td>2</td>\n",
       "      <td>2</td>\n",
       "      <td>2</td>\n",
       "      <td>2</td>\n",
       "      <td>2</td>\n",
       "      <td>2</td>\n",
       "    </tr>\n",
       "    <tr>\n",
       "      <th>Iceland</th>\n",
       "      <td>2</td>\n",
       "      <td>2</td>\n",
       "      <td>2</td>\n",
       "      <td>2</td>\n",
       "      <td>2</td>\n",
       "      <td>2</td>\n",
       "      <td>2</td>\n",
       "      <td>2</td>\n",
       "    </tr>\n",
       "    <tr>\n",
       "      <th>India</th>\n",
       "      <td>2</td>\n",
       "      <td>2</td>\n",
       "      <td>2</td>\n",
       "      <td>2</td>\n",
       "      <td>2</td>\n",
       "      <td>2</td>\n",
       "      <td>2</td>\n",
       "      <td>2</td>\n",
       "    </tr>\n",
       "    <tr>\n",
       "      <th>Indonesia</th>\n",
       "      <td>2</td>\n",
       "      <td>2</td>\n",
       "      <td>2</td>\n",
       "      <td>2</td>\n",
       "      <td>2</td>\n",
       "      <td>2</td>\n",
       "      <td>2</td>\n",
       "      <td>2</td>\n",
       "    </tr>\n",
       "    <tr>\n",
       "      <th>Ireland</th>\n",
       "      <td>2</td>\n",
       "      <td>2</td>\n",
       "      <td>2</td>\n",
       "      <td>2</td>\n",
       "      <td>2</td>\n",
       "      <td>2</td>\n",
       "      <td>2</td>\n",
       "      <td>2</td>\n",
       "    </tr>\n",
       "    <tr>\n",
       "      <th>Norway</th>\n",
       "      <td>2</td>\n",
       "      <td>2</td>\n",
       "      <td>2</td>\n",
       "      <td>2</td>\n",
       "      <td>2</td>\n",
       "      <td>2</td>\n",
       "      <td>2</td>\n",
       "      <td>2</td>\n",
       "    </tr>\n",
       "    <tr>\n",
       "      <th>Montenegro</th>\n",
       "      <td>2</td>\n",
       "      <td>2</td>\n",
       "      <td>2</td>\n",
       "      <td>2</td>\n",
       "      <td>2</td>\n",
       "      <td>2</td>\n",
       "      <td>2</td>\n",
       "      <td>2</td>\n",
       "    </tr>\n",
       "    <tr>\n",
       "      <th>Kenya</th>\n",
       "      <td>2</td>\n",
       "      <td>2</td>\n",
       "      <td>2</td>\n",
       "      <td>2</td>\n",
       "      <td>2</td>\n",
       "      <td>2</td>\n",
       "      <td>2</td>\n",
       "      <td>2</td>\n",
       "    </tr>\n",
       "    <tr>\n",
       "      <th>Netherlands</th>\n",
       "      <td>2</td>\n",
       "      <td>2</td>\n",
       "      <td>2</td>\n",
       "      <td>2</td>\n",
       "      <td>2</td>\n",
       "      <td>2</td>\n",
       "      <td>2</td>\n",
       "      <td>2</td>\n",
       "    </tr>\n",
       "    <tr>\n",
       "      <th>Kazakhstan</th>\n",
       "      <td>1</td>\n",
       "      <td>1</td>\n",
       "      <td>1</td>\n",
       "      <td>1</td>\n",
       "      <td>1</td>\n",
       "      <td>1</td>\n",
       "      <td>1</td>\n",
       "      <td>1</td>\n",
       "    </tr>\n",
       "    <tr>\n",
       "      <th>Kosovo</th>\n",
       "      <td>1</td>\n",
       "      <td>1</td>\n",
       "      <td>1</td>\n",
       "      <td>1</td>\n",
       "      <td>1</td>\n",
       "      <td>1</td>\n",
       "      <td>1</td>\n",
       "      <td>1</td>\n",
       "    </tr>\n",
       "    <tr>\n",
       "      <th>Bangladesh</th>\n",
       "      <td>1</td>\n",
       "      <td>1</td>\n",
       "      <td>1</td>\n",
       "      <td>1</td>\n",
       "      <td>1</td>\n",
       "      <td>1</td>\n",
       "      <td>1</td>\n",
       "      <td>1</td>\n",
       "    </tr>\n",
       "    <tr>\n",
       "      <th>Cambodia</th>\n",
       "      <td>1</td>\n",
       "      <td>1</td>\n",
       "      <td>1</td>\n",
       "      <td>1</td>\n",
       "      <td>1</td>\n",
       "      <td>1</td>\n",
       "      <td>1</td>\n",
       "      <td>1</td>\n",
       "    </tr>\n",
       "    <tr>\n",
       "      <th>Luxembourg</th>\n",
       "      <td>1</td>\n",
       "      <td>1</td>\n",
       "      <td>1</td>\n",
       "      <td>1</td>\n",
       "      <td>1</td>\n",
       "      <td>1</td>\n",
       "      <td>1</td>\n",
       "      <td>1</td>\n",
       "    </tr>\n",
       "    <tr>\n",
       "      <th>Nepal</th>\n",
       "      <td>1</td>\n",
       "      <td>1</td>\n",
       "      <td>1</td>\n",
       "      <td>1</td>\n",
       "      <td>1</td>\n",
       "      <td>1</td>\n",
       "      <td>1</td>\n",
       "      <td>1</td>\n",
       "    </tr>\n",
       "    <tr>\n",
       "      <th>Cyprus</th>\n",
       "      <td>1</td>\n",
       "      <td>1</td>\n",
       "      <td>1</td>\n",
       "      <td>1</td>\n",
       "      <td>1</td>\n",
       "      <td>1</td>\n",
       "      <td>1</td>\n",
       "      <td>1</td>\n",
       "    </tr>\n",
       "    <tr>\n",
       "      <th>Serbia</th>\n",
       "      <td>1</td>\n",
       "      <td>1</td>\n",
       "      <td>1</td>\n",
       "      <td>1</td>\n",
       "      <td>1</td>\n",
       "      <td>1</td>\n",
       "      <td>1</td>\n",
       "      <td>1</td>\n",
       "    </tr>\n",
       "    <tr>\n",
       "      <th>Taiwan Republic of China</th>\n",
       "      <td>1</td>\n",
       "      <td>1</td>\n",
       "      <td>1</td>\n",
       "      <td>1</td>\n",
       "      <td>1</td>\n",
       "      <td>1</td>\n",
       "      <td>1</td>\n",
       "      <td>1</td>\n",
       "    </tr>\n",
       "    <tr>\n",
       "      <th>Pakistan</th>\n",
       "      <td>1</td>\n",
       "      <td>1</td>\n",
       "      <td>1</td>\n",
       "      <td>1</td>\n",
       "      <td>1</td>\n",
       "      <td>1</td>\n",
       "      <td>1</td>\n",
       "      <td>1</td>\n",
       "    </tr>\n",
       "    <tr>\n",
       "      <th>Slovenia</th>\n",
       "      <td>1</td>\n",
       "      <td>1</td>\n",
       "      <td>1</td>\n",
       "      <td>1</td>\n",
       "      <td>1</td>\n",
       "      <td>1</td>\n",
       "      <td>1</td>\n",
       "      <td>1</td>\n",
       "    </tr>\n",
       "    <tr>\n",
       "      <th>Albania</th>\n",
       "      <td>1</td>\n",
       "      <td>1</td>\n",
       "      <td>1</td>\n",
       "      <td>1</td>\n",
       "      <td>1</td>\n",
       "      <td>1</td>\n",
       "      <td>1</td>\n",
       "      <td>1</td>\n",
       "    </tr>\n",
       "  </tbody>\n",
       "</table>\n",
       "<p>114 rows × 8 columns</p>\n",
       "</div>"
      ],
      "text/plain": [
       "                                    mj  Gj  pj  ln_mj  rstudent  y_child  \\\n",
       "Pays                                                                       \n",
       "South Africa                        29  29  29     29        29       29   \n",
       "Honduras                            22  22  22     22        22       22   \n",
       "Bolivia                             20  20  20     20        20       20   \n",
       "Colombia                            17  17  17     17        17       17   \n",
       "Panama                              16  16  16     16        16       16   \n",
       "Brazil                              16  16  16     16        16       16   \n",
       "Mexico                              14  14  14     14        14       14   \n",
       "Guatemala                           14  14  14     14        14       14   \n",
       "Central African Republic            14  14  14     14        14       14   \n",
       "Ecuador                             13  13  13     13        13       13   \n",
       "Paraguay                            13  13  13     13        13       13   \n",
       "Nicaragua                           13  13  13     13        13       13   \n",
       "Peru                                12  12  12     12        12       12   \n",
       "China                               12  12  12     12        12       12   \n",
       "Chile                               11  11  11     11        11       11   \n",
       "Thailand                            11  11  11     11        11       11   \n",
       "Dominican Republic                  11  11  11     11        11       11   \n",
       "Costa Rica                          11  11  11     11        11       11   \n",
       "El Salvador                         11  11  11     11        11       11   \n",
       "Argentina                           11  11  11     11        11       11   \n",
       "United States of America            10  10  10     10        10       10   \n",
       "Malaysia                            10  10  10     10        10       10   \n",
       "Nigeria                              9   9   9      9         9        9   \n",
       "Swaziland                            9   9   9      9         9        9   \n",
       "Turkey                               9   9   9      9         9        9   \n",
       "Uruguay                              8   8   8      8         8        8   \n",
       "Iran Islamic Republic of             8   8   8      8         8        8   \n",
       "Israel                               8   8   8      8         8        8   \n",
       "Congo Democratic Republic of the     8   8   8      8         8        8   \n",
       "Venezuela (Bolivarian Republic of)   8   8   8      8         8        8   \n",
       "...                                 ..  ..  ..    ...       ...      ...   \n",
       "Tajikistan                           2   2   2      2         2        2   \n",
       "Croatia                              2   2   2      2         2        2   \n",
       "Timor-Leste                          2   2   2      2         2        2   \n",
       "Austria                              2   2   2      2         2        2   \n",
       "Mali                                 2   2   2      2         2        2   \n",
       "France                               2   2   2      2         2        2   \n",
       "Jordan                               2   2   2      2         2        2   \n",
       "Poland                               2   2   2      2         2        2   \n",
       "Moldova                              2   2   2      2         2        2   \n",
       "Hungary                              2   2   2      2         2        2   \n",
       "Iceland                              2   2   2      2         2        2   \n",
       "India                                2   2   2      2         2        2   \n",
       "Indonesia                            2   2   2      2         2        2   \n",
       "Ireland                              2   2   2      2         2        2   \n",
       "Norway                               2   2   2      2         2        2   \n",
       "Montenegro                           2   2   2      2         2        2   \n",
       "Kenya                                2   2   2      2         2        2   \n",
       "Netherlands                          2   2   2      2         2        2   \n",
       "Kazakhstan                           1   1   1      1         1        1   \n",
       "Kosovo                               1   1   1      1         1        1   \n",
       "Bangladesh                           1   1   1      1         1        1   \n",
       "Cambodia                             1   1   1      1         1        1   \n",
       "Luxembourg                           1   1   1      1         1        1   \n",
       "Nepal                                1   1   1      1         1        1   \n",
       "Cyprus                               1   1   1      1         1        1   \n",
       "Serbia                               1   1   1      1         1        1   \n",
       "Taiwan Republic of China             1   1   1      1         1        1   \n",
       "Pakistan                             1   1   1      1         1        1   \n",
       "Slovenia                             1   1   1      1         1        1   \n",
       "Albania                              1   1   1      1         1        1   \n",
       "\n",
       "                                    ln_y_child  levier  \n",
       "Pays                                                    \n",
       "South Africa                                29      29  \n",
       "Honduras                                    22      22  \n",
       "Bolivia                                     20      20  \n",
       "Colombia                                    17      17  \n",
       "Panama                                      16      16  \n",
       "Brazil                                      16      16  \n",
       "Mexico                                      14      14  \n",
       "Guatemala                                   14      14  \n",
       "Central African Republic                    14      14  \n",
       "Ecuador                                     13      13  \n",
       "Paraguay                                    13      13  \n",
       "Nicaragua                                   13      13  \n",
       "Peru                                        12      12  \n",
       "China                                       12      12  \n",
       "Chile                                       11      11  \n",
       "Thailand                                    11      11  \n",
       "Dominican Republic                          11      11  \n",
       "Costa Rica                                  11      11  \n",
       "El Salvador                                 11      11  \n",
       "Argentina                                   11      11  \n",
       "United States of America                    10      10  \n",
       "Malaysia                                    10      10  \n",
       "Nigeria                                      9       9  \n",
       "Swaziland                                    9       9  \n",
       "Turkey                                       9       9  \n",
       "Uruguay                                      8       8  \n",
       "Iran Islamic Republic of                     8       8  \n",
       "Israel                                       8       8  \n",
       "Congo Democratic Republic of the             8       8  \n",
       "Venezuela (Bolivarian Republic of)           8       8  \n",
       "...                                        ...     ...  \n",
       "Tajikistan                                   2       2  \n",
       "Croatia                                      2       2  \n",
       "Timor-Leste                                  2       2  \n",
       "Austria                                      2       2  \n",
       "Mali                                         2       2  \n",
       "France                                       2       2  \n",
       "Jordan                                       2       2  \n",
       "Poland                                       2       2  \n",
       "Moldova                                      2       2  \n",
       "Hungary                                      2       2  \n",
       "Iceland                                      2       2  \n",
       "India                                        2       2  \n",
       "Indonesia                                    2       2  \n",
       "Ireland                                      2       2  \n",
       "Norway                                       2       2  \n",
       "Montenegro                                   2       2  \n",
       "Kenya                                        2       2  \n",
       "Netherlands                                  2       2  \n",
       "Kazakhstan                                   1       1  \n",
       "Kosovo                                       1       1  \n",
       "Bangladesh                                   1       1  \n",
       "Cambodia                                     1       1  \n",
       "Luxembourg                                   1       1  \n",
       "Nepal                                        1       1  \n",
       "Cyprus                                       1       1  \n",
       "Serbia                                       1       1  \n",
       "Taiwan Republic of China                     1       1  \n",
       "Pakistan                                     1       1  \n",
       "Slovenia                                     1       1  \n",
       "Albania                                      1       1  \n",
       "\n",
       "[114 rows x 8 columns]"
      ]
     },
     "execution_count": 50,
     "metadata": {},
     "output_type": "execute_result"
    }
   ],
   "source": [
    "# Pays presentants des valeurs atypiques\n",
    "ready_db5.loc[ready_db5.index.isin(res_stu_ln.index)].groupby(by='Pays').count().sort_values(by='y_child',\n",
    "                                                                                             ascending=False)"
   ]
  },
  {
   "cell_type": "markdown",
   "metadata": {},
   "source": [
    "<a id='infl1'></a>\n",
    "<h3 style='color:#8677b2'>Analyse de l'influence des observations</h3>"
   ]
  },
  {
   "cell_type": "markdown",
   "metadata": {},
   "source": [
    "[Haut de page](#sommaire)"
   ]
  },
  {
   "cell_type": "code",
   "execution_count": 51,
   "metadata": {},
   "outputs": [
    {
     "data": {
      "text/html": [
       "<div>\n",
       "<style scoped>\n",
       "    .dataframe tbody tr th:only-of-type {\n",
       "        vertical-align: middle;\n",
       "    }\n",
       "\n",
       "    .dataframe tbody tr th {\n",
       "        vertical-align: top;\n",
       "    }\n",
       "\n",
       "    .dataframe thead th {\n",
       "        text-align: right;\n",
       "    }\n",
       "</style>\n",
       "<table border=\"1\" class=\"dataframe\">\n",
       "  <thead>\n",
       "    <tr style=\"text-align: right;\">\n",
       "      <th></th>\n",
       "      <th>dfb_Intercept</th>\n",
       "      <th>dfb_Gj</th>\n",
       "      <th>dfb_ln_mj</th>\n",
       "      <th>cooks_d</th>\n",
       "      <th>standard_resid</th>\n",
       "      <th>hat_diag</th>\n",
       "      <th>dffits_internal</th>\n",
       "      <th>student_resid</th>\n",
       "      <th>dffits</th>\n",
       "    </tr>\n",
       "  </thead>\n",
       "  <tbody>\n",
       "    <tr>\n",
       "      <th>0</th>\n",
       "      <td>-0.012627</td>\n",
       "      <td>0.014549</td>\n",
       "      <td>0.005306</td>\n",
       "      <td>0.000161</td>\n",
       "      <td>-1.764461</td>\n",
       "      <td>0.000155</td>\n",
       "      <td>-0.021960</td>\n",
       "      <td>-1.764622</td>\n",
       "      <td>-0.021962</td>\n",
       "    </tr>\n",
       "    <tr>\n",
       "      <th>1</th>\n",
       "      <td>-0.010346</td>\n",
       "      <td>0.011921</td>\n",
       "      <td>0.004348</td>\n",
       "      <td>0.000108</td>\n",
       "      <td>-1.445786</td>\n",
       "      <td>0.000155</td>\n",
       "      <td>-0.017994</td>\n",
       "      <td>-1.445854</td>\n",
       "      <td>-0.017995</td>\n",
       "    </tr>\n",
       "    <tr>\n",
       "      <th>2</th>\n",
       "      <td>-0.009372</td>\n",
       "      <td>0.010799</td>\n",
       "      <td>0.003938</td>\n",
       "      <td>0.000089</td>\n",
       "      <td>-1.309708</td>\n",
       "      <td>0.000155</td>\n",
       "      <td>-0.016300</td>\n",
       "      <td>-1.309749</td>\n",
       "      <td>-0.016301</td>\n",
       "    </tr>\n",
       "    <tr>\n",
       "      <th>3</th>\n",
       "      <td>-0.008651</td>\n",
       "      <td>0.009968</td>\n",
       "      <td>0.003635</td>\n",
       "      <td>0.000075</td>\n",
       "      <td>-1.208936</td>\n",
       "      <td>0.000155</td>\n",
       "      <td>-0.015046</td>\n",
       "      <td>-1.208960</td>\n",
       "      <td>-0.015046</td>\n",
       "    </tr>\n",
       "    <tr>\n",
       "      <th>4</th>\n",
       "      <td>-0.008240</td>\n",
       "      <td>0.009495</td>\n",
       "      <td>0.003463</td>\n",
       "      <td>0.000068</td>\n",
       "      <td>-1.151560</td>\n",
       "      <td>0.000155</td>\n",
       "      <td>-0.014332</td>\n",
       "      <td>-1.151576</td>\n",
       "      <td>-0.014332</td>\n",
       "    </tr>\n",
       "  </tbody>\n",
       "</table>\n",
       "</div>"
      ],
      "text/plain": [
       "   dfb_Intercept    dfb_Gj  dfb_ln_mj   cooks_d  standard_resid  hat_diag  \\\n",
       "0      -0.012627  0.014549   0.005306  0.000161       -1.764461  0.000155   \n",
       "1      -0.010346  0.011921   0.004348  0.000108       -1.445786  0.000155   \n",
       "2      -0.009372  0.010799   0.003938  0.000089       -1.309708  0.000155   \n",
       "3      -0.008651  0.009968   0.003635  0.000075       -1.208936  0.000155   \n",
       "4      -0.008240  0.009495   0.003463  0.000068       -1.151560  0.000155   \n",
       "\n",
       "   dffits_internal  student_resid    dffits  \n",
       "0        -0.021960      -1.764622 -0.021962  \n",
       "1        -0.017994      -1.445854 -0.017995  \n",
       "2        -0.016300      -1.309749 -0.016301  \n",
       "3        -0.015046      -1.208960 -0.015046  \n",
       "4        -0.014332      -1.151576 -0.014332  "
      ]
     },
     "execution_count": 51,
     "metadata": {},
     "output_type": "execute_result"
    }
   ],
   "source": [
    "# Création du dataframe avec tous les resultats d'influences disponibles\n",
    "influence_ln = reg_multi_ln.get_influence().summary_frame()\n",
    "influence_ln.head()"
   ]
  },
  {
   "cell_type": "code",
   "execution_count": 52,
   "metadata": {},
   "outputs": [
    {
     "data": {
      "text/html": [
       "<div>\n",
       "<style scoped>\n",
       "    .dataframe tbody tr th:only-of-type {\n",
       "        vertical-align: middle;\n",
       "    }\n",
       "\n",
       "    .dataframe tbody tr th {\n",
       "        vertical-align: top;\n",
       "    }\n",
       "\n",
       "    .dataframe thead th {\n",
       "        text-align: right;\n",
       "    }\n",
       "</style>\n",
       "<table border=\"1\" class=\"dataframe\">\n",
       "  <thead>\n",
       "    <tr style=\"text-align: right;\">\n",
       "      <th></th>\n",
       "      <th>Pays</th>\n",
       "      <th>y_child</th>\n",
       "      <th>mj</th>\n",
       "      <th>Gj</th>\n",
       "      <th>pj</th>\n",
       "      <th>ln_mj</th>\n",
       "      <th>ln_y_child</th>\n",
       "      <th>levier</th>\n",
       "      <th>rstudent</th>\n",
       "      <th>dcooks</th>\n",
       "    </tr>\n",
       "  </thead>\n",
       "  <tbody>\n",
       "    <tr>\n",
       "      <th>9951</th>\n",
       "      <td>Swaziland</td>\n",
       "      <td>362.52875</td>\n",
       "      <td>530.283828</td>\n",
       "      <td>0.478735</td>\n",
       "      <td>0.629976</td>\n",
       "      <td>6.273412</td>\n",
       "      <td>5.893104</td>\n",
       "      <td>0.000332</td>\n",
       "      <td>0.000087</td>\n",
       "      <td>8.446875e-13</td>\n",
       "    </tr>\n",
       "    <tr>\n",
       "      <th>1352</th>\n",
       "      <td>Burkina Faso</td>\n",
       "      <td>693.67725</td>\n",
       "      <td>917.952658</td>\n",
       "      <td>0.413469</td>\n",
       "      <td>0.661654</td>\n",
       "      <td>6.822146</td>\n",
       "      <td>6.542007</td>\n",
       "      <td>0.000195</td>\n",
       "      <td>-0.000172</td>\n",
       "      <td>1.922609e-12</td>\n",
       "    </tr>\n",
       "    <tr>\n",
       "      <th>10251</th>\n",
       "      <td>Taiwan Republic of China</td>\n",
       "      <td>13724.78200</td>\n",
       "      <td>16500.223670</td>\n",
       "      <td>0.331487</td>\n",
       "      <td>0.181000</td>\n",
       "      <td>9.711129</td>\n",
       "      <td>9.526958</td>\n",
       "      <td>0.000266</td>\n",
       "      <td>-0.000317</td>\n",
       "      <td>8.879644e-12</td>\n",
       "    </tr>\n",
       "    <tr>\n",
       "      <th>6853</th>\n",
       "      <td>Mali</td>\n",
       "      <td>576.89970</td>\n",
       "      <td>681.075039</td>\n",
       "      <td>0.346782</td>\n",
       "      <td>0.713953</td>\n",
       "      <td>6.523672</td>\n",
       "      <td>6.357668</td>\n",
       "      <td>0.000328</td>\n",
       "      <td>-0.000336</td>\n",
       "      <td>1.234295e-11</td>\n",
       "    </tr>\n",
       "    <tr>\n",
       "      <th>2654</th>\n",
       "      <td>Czech Republic</td>\n",
       "      <td>7657.33450</td>\n",
       "      <td>8235.293411</td>\n",
       "      <td>0.270162</td>\n",
       "      <td>0.434041</td>\n",
       "      <td>9.016184</td>\n",
       "      <td>8.943419</td>\n",
       "      <td>0.000274</td>\n",
       "      <td>0.000528</td>\n",
       "      <td>2.549086e-11</td>\n",
       "    </tr>\n",
       "  </tbody>\n",
       "</table>\n",
       "</div>"
      ],
      "text/plain": [
       "                           Pays      y_child            mj        Gj  \\\n",
       "9951                  Swaziland    362.52875    530.283828  0.478735   \n",
       "1352               Burkina Faso    693.67725    917.952658  0.413469   \n",
       "10251  Taiwan Republic of China  13724.78200  16500.223670  0.331487   \n",
       "6853                       Mali    576.89970    681.075039  0.346782   \n",
       "2654             Czech Republic   7657.33450   8235.293411  0.270162   \n",
       "\n",
       "             pj     ln_mj  ln_y_child    levier  rstudent        dcooks  \n",
       "9951   0.629976  6.273412    5.893104  0.000332  0.000087  8.446875e-13  \n",
       "1352   0.661654  6.822146    6.542007  0.000195 -0.000172  1.922609e-12  \n",
       "10251  0.181000  9.711129    9.526958  0.000266 -0.000317  8.879644e-12  \n",
       "6853   0.713953  6.523672    6.357668  0.000328 -0.000336  1.234295e-11  \n",
       "2654   0.434041  9.016184    8.943419  0.000274  0.000528  2.549086e-11  "
      ]
     },
     "execution_count": 52,
     "metadata": {},
     "output_type": "execute_result"
    }
   ],
   "source": [
    "# Ajout de la colonne distance de Cook à notre dataframe analyses_ln\n",
    "ready_db2['dcooks'] = influence_ln['cooks_d']\n",
    "\n",
    "# Seuil d'influence selon Cook\n",
    "seuil_dcook = 4/(n-p)\n",
    "\n",
    "ready_db2.sort_values(by='dcooks').head()"
   ]
  },
  {
   "cell_type": "code",
   "execution_count": 53,
   "metadata": {},
   "outputs": [
    {
     "data": {
      "text/html": [
       "<div>\n",
       "<style scoped>\n",
       "    .dataframe tbody tr th:only-of-type {\n",
       "        vertical-align: middle;\n",
       "    }\n",
       "\n",
       "    .dataframe tbody tr th {\n",
       "        vertical-align: top;\n",
       "    }\n",
       "\n",
       "    .dataframe thead th {\n",
       "        text-align: right;\n",
       "    }\n",
       "</style>\n",
       "<table border=\"1\" class=\"dataframe\">\n",
       "  <thead>\n",
       "    <tr style=\"text-align: right;\">\n",
       "      <th></th>\n",
       "      <th>Pays</th>\n",
       "      <th>y_child</th>\n",
       "      <th>mj</th>\n",
       "      <th>Gj</th>\n",
       "      <th>pj</th>\n",
       "      <th>ln_mj</th>\n",
       "      <th>ln_y_child</th>\n",
       "      <th>levier</th>\n",
       "      <th>rstudent</th>\n",
       "      <th>dcooks</th>\n",
       "    </tr>\n",
       "  </thead>\n",
       "  <tbody>\n",
       "    <tr>\n",
       "      <th>9598</th>\n",
       "      <td>South Africa</td>\n",
       "      <td>46297.316000</td>\n",
       "      <td>5617.904880</td>\n",
       "      <td>0.682949</td>\n",
       "      <td>0.677</td>\n",
       "      <td>8.633714</td>\n",
       "      <td>10.742839</td>\n",
       "      <td>0.001162</td>\n",
       "      <td>3.977135</td>\n",
       "      <td>0.006135</td>\n",
       "    </tr>\n",
       "    <tr>\n",
       "      <th>9501</th>\n",
       "      <td>South Africa</td>\n",
       "      <td>138.341550</td>\n",
       "      <td>5617.904880</td>\n",
       "      <td>0.682949</td>\n",
       "      <td>0.677</td>\n",
       "      <td>8.633714</td>\n",
       "      <td>4.929726</td>\n",
       "      <td>0.001162</td>\n",
       "      <td>-4.109191</td>\n",
       "      <td>0.006549</td>\n",
       "    </tr>\n",
       "    <tr>\n",
       "      <th>5600</th>\n",
       "      <td>Korea Republic of</td>\n",
       "      <td>17.317732</td>\n",
       "      <td>15227.569445</td>\n",
       "      <td>0.367935</td>\n",
       "      <td>0.394</td>\n",
       "      <td>9.630863</td>\n",
       "      <td>2.851731</td>\n",
       "      <td>0.000238</td>\n",
       "      <td>-9.087780</td>\n",
       "      <td>0.006565</td>\n",
       "    </tr>\n",
       "    <tr>\n",
       "      <th>9599</th>\n",
       "      <td>South Africa</td>\n",
       "      <td>82408.550000</td>\n",
       "      <td>5617.904880</td>\n",
       "      <td>0.682949</td>\n",
       "      <td>0.677</td>\n",
       "      <td>8.633714</td>\n",
       "      <td>11.319444</td>\n",
       "      <td>0.001162</td>\n",
       "      <td>4.779222</td>\n",
       "      <td>0.008859</td>\n",
       "    </tr>\n",
       "    <tr>\n",
       "      <th>9500</th>\n",
       "      <td>South Africa</td>\n",
       "      <td>60.490383</td>\n",
       "      <td>5617.904880</td>\n",
       "      <td>0.682949</td>\n",
       "      <td>0.677</td>\n",
       "      <td>8.633714</td>\n",
       "      <td>4.102484</td>\n",
       "      <td>0.001162</td>\n",
       "      <td>-5.259924</td>\n",
       "      <td>0.010731</td>\n",
       "    </tr>\n",
       "  </tbody>\n",
       "</table>\n",
       "</div>"
      ],
      "text/plain": [
       "                   Pays       y_child            mj        Gj     pj  \\\n",
       "9598       South Africa  46297.316000   5617.904880  0.682949  0.677   \n",
       "9501       South Africa    138.341550   5617.904880  0.682949  0.677   \n",
       "5600  Korea Republic of     17.317732  15227.569445  0.367935  0.394   \n",
       "9599       South Africa  82408.550000   5617.904880  0.682949  0.677   \n",
       "9500       South Africa     60.490383   5617.904880  0.682949  0.677   \n",
       "\n",
       "         ln_mj  ln_y_child    levier  rstudent    dcooks  \n",
       "9598  8.633714   10.742839  0.001162  3.977135  0.006135  \n",
       "9501  8.633714    4.929726  0.001162 -4.109191  0.006549  \n",
       "5600  9.630863    2.851731  0.000238 -9.087780  0.006565  \n",
       "9599  8.633714   11.319444  0.001162  4.779222  0.008859  \n",
       "9500  8.633714    4.102484  0.001162 -5.259924  0.010731  "
      ]
     },
     "execution_count": 53,
     "metadata": {},
     "output_type": "execute_result"
    }
   ],
   "source": [
    "ready_db2.sort_values(by='dcooks').tail()"
   ]
  },
  {
   "cell_type": "code",
   "execution_count": 54,
   "metadata": {},
   "outputs": [
    {
     "data": {
      "image/png": "[encoded data removed]",
      "text/plain": [
       "<Figure size 1080x1080 with 1 Axes>"
      ]
     },
     "metadata": {
      "needs_background": "light"
     },
     "output_type": "display_data"
    }
   ],
   "source": [
    "ready_db6 = ready_db2.groupby(['Pays', 'mj', 'Gj', 'pj', 'ln_mj', 'dcooks']).mean()\n",
    "ready_db6.reset_index(inplace=True)\n",
    "\n",
    "# Représentation de la distances de Cooks\n",
    "plt.figure(figsize=(15,15))\n",
    "\n",
    "# Individus sous le seuil\n",
    "plt.bar(ready_db6.loc[ready_db6['dcooks'] <= seuil_dcook].index,\n",
    "        ready_db6.loc[ready_db6['dcooks'] <= seuil_dcook]['dcooks'],\n",
    "       color='g')\n",
    "\n",
    "# Individus au dessus le seuil\n",
    "plt.bar(ready_db6.loc[ready_db6['dcooks'] > seuil_dcook].index,\n",
    "        ready_db6.loc[ready_db6['dcooks'] > seuil_dcook]['dcooks'],\n",
    "       color='r')\n",
    "\n",
    "# Décoration et annotations\n",
    "plt.title('Représentation de la distance de Cook', fontsize=22)\n",
    "plt.ylabel('Distance de Cook', fontsize=18)\n",
    "plt.yticks(fontsize=16)\n",
    "plt.xticks(fontsize=16)\n",
    "\n",
    "plt.text(-400, (seuil_dcook + 0.00005), 'Seuil de Cook', fontsize = '18', color='b')\n",
    "plt.axhline(y=seuil_dcook, color='b', linestyle='-')\n",
    "\n",
    "plt.tight_layout()\n",
    "\n",
    "plt.savefig('graph/dist_cook.png')\n",
    "plt.show()"
   ]
  },
  {
   "cell_type": "code",
   "execution_count": 55,
   "metadata": {},
   "outputs": [
    {
     "data": {
      "image/png": "[encoded data removed]",
      "text/plain": [
       "<Figure size 1080x1080 with 1 Axes>"
      ]
     },
     "metadata": {
      "needs_background": "light"
     },
     "output_type": "display_data"
    }
   ],
   "source": [
    "ready_db_saf1 = ready_db6.loc[ready_db6['Pays'] == 'South Africa']\n",
    "ready_db_saf1.reset_index(inplace=True)\n",
    "\n",
    "# Représentation de la distances de Cooks\n",
    "plt.figure(figsize=(15,15))\n",
    "\n",
    "# Individus sous le seuil\n",
    "plt.bar(ready_db_saf1.loc[ready_db_saf1['dcooks'] <= seuil_dcook].index,\n",
    "        ready_db_saf1.loc[ready_db_saf1['dcooks'] <= seuil_dcook]['dcooks'],\n",
    "       color='g')\n",
    "\n",
    "# Individus au dessus le seuil\n",
    "plt.bar(ready_db_saf1.loc[ready_db_saf1['dcooks'] > seuil_dcook].index,\n",
    "        ready_db_saf1.loc[ready_db_saf1['dcooks'] > seuil_dcook]['dcooks'],\n",
    "       color='r')\n",
    "\n",
    "# Décoration et annotations\n",
    "plt.title('Représentation de la distance de Cook\\npour l\\'Afrique du Sud', fontsize=22)\n",
    "plt.ylabel('Distance de Cook', fontsize=18)\n",
    "plt.ylim(0,0.011)\n",
    "plt.yticks(fontsize=16)\n",
    "plt.xticks(fontsize=16)\n",
    "\n",
    "plt.text(20, (seuil_dcook + 0.00005), 'Seuil de Cook', fontsize = '18', color='b')\n",
    "plt.axhline(y=seuil_dcook, color='b', linestyle='-')\n",
    "\n",
    "plt.tight_layout()\n",
    "\n",
    "plt.savefig('graph/dist_cook_saf.png')\n",
    "plt.show()"
   ]
  },
  {
   "cell_type": "code",
   "execution_count": 56,
   "metadata": {},
   "outputs": [
    {
     "data": {
      "image/png": "[encoded data removed]",
      "text/plain": [
       "<Figure size 1080x1080 with 1 Axes>"
      ]
     },
     "metadata": {
      "needs_background": "light"
     },
     "output_type": "display_data"
    }
   ],
   "source": [
    "ready_db_hon1 = ready_db6.loc[ready_db6['Pays'] == 'Honduras']\n",
    "ready_db_hon1.reset_index(inplace=True)\n",
    "\n",
    "# Représentation de la distances de Cooks\n",
    "plt.figure(figsize=(15,15))\n",
    "\n",
    "# Individus sous le seuil\n",
    "plt.bar(ready_db_hon1.loc[ready_db_hon1['dcooks'] <= seuil_dcook].index,\n",
    "        ready_db_hon1.loc[ready_db_hon1['dcooks'] <= seuil_dcook]['dcooks'],\n",
    "       color='g')\n",
    "\n",
    "# Individus au dessus le seuil\n",
    "plt.bar(ready_db_hon1.loc[ready_db_hon1['dcooks'] > seuil_dcook].index,\n",
    "        ready_db_hon1.loc[ready_db_hon1['dcooks'] > seuil_dcook]['dcooks'],\n",
    "       color='r')\n",
    "\n",
    "# Décoration et annotations\n",
    "plt.title('Représentation de la distance de Cook\\npour le Honduras', fontsize=22)\n",
    "plt.ylabel('Distance de Cook', fontsize=18)\n",
    "plt.ylim(0,0.011)\n",
    "plt.yticks(fontsize=16)\n",
    "plt.xticks(fontsize=16)\n",
    "\n",
    "plt.text(20, (seuil_dcook + 0.00005), 'Seuil de Cook', fontsize = '18', color='b')\n",
    "plt.axhline(y=seuil_dcook, color='b', linestyle='-')\n",
    "\n",
    "plt.tight_layout()\n",
    "\n",
    "plt.savefig('graph/dist_cook_hon.png')\n",
    "plt.show()"
   ]
  },
  {
   "cell_type": "code",
   "execution_count": 57,
   "metadata": {},
   "outputs": [
    {
     "data": {
      "text/plain": [
       "657"
      ]
     },
     "execution_count": 57,
     "metadata": {},
     "output_type": "execute_result"
    }
   ],
   "source": [
    "# Nombre d'observations influentes\n",
    "dco_ln = ready_db2.loc[ready_db2['dcooks'] > seuil_dcook]\n",
    "len(dco_ln)"
   ]
  },
  {
   "cell_type": "code",
   "execution_count": 58,
   "metadata": {
    "scrolled": true
   },
   "outputs": [
    {
     "data": {
      "text/html": [
       "<div>\n",
       "<style scoped>\n",
       "    .dataframe tbody tr th:only-of-type {\n",
       "        vertical-align: middle;\n",
       "    }\n",
       "\n",
       "    .dataframe tbody tr th {\n",
       "        vertical-align: top;\n",
       "    }\n",
       "\n",
       "    .dataframe thead th {\n",
       "        text-align: right;\n",
       "    }\n",
       "</style>\n",
       "<table border=\"1\" class=\"dataframe\">\n",
       "  <thead>\n",
       "    <tr style=\"text-align: right;\">\n",
       "      <th></th>\n",
       "      <th>mj</th>\n",
       "      <th>Gj</th>\n",
       "      <th>pj</th>\n",
       "      <th>ln_mj</th>\n",
       "      <th>dcooks</th>\n",
       "      <th>y_child</th>\n",
       "      <th>ln_y_child</th>\n",
       "      <th>levier</th>\n",
       "      <th>rstudent</th>\n",
       "    </tr>\n",
       "    <tr>\n",
       "      <th>Pays</th>\n",
       "      <th></th>\n",
       "      <th></th>\n",
       "      <th></th>\n",
       "      <th></th>\n",
       "      <th></th>\n",
       "      <th></th>\n",
       "      <th></th>\n",
       "      <th></th>\n",
       "      <th></th>\n",
       "    </tr>\n",
       "  </thead>\n",
       "  <tbody>\n",
       "    <tr>\n",
       "      <th>South Africa</th>\n",
       "      <td>62</td>\n",
       "      <td>62</td>\n",
       "      <td>62</td>\n",
       "      <td>62</td>\n",
       "      <td>62</td>\n",
       "      <td>62</td>\n",
       "      <td>62</td>\n",
       "      <td>62</td>\n",
       "      <td>62</td>\n",
       "    </tr>\n",
       "    <tr>\n",
       "      <th>Honduras</th>\n",
       "      <td>44</td>\n",
       "      <td>44</td>\n",
       "      <td>44</td>\n",
       "      <td>44</td>\n",
       "      <td>44</td>\n",
       "      <td>44</td>\n",
       "      <td>44</td>\n",
       "      <td>44</td>\n",
       "      <td>44</td>\n",
       "    </tr>\n",
       "    <tr>\n",
       "      <th>Bolivia</th>\n",
       "      <td>31</td>\n",
       "      <td>31</td>\n",
       "      <td>31</td>\n",
       "      <td>31</td>\n",
       "      <td>31</td>\n",
       "      <td>31</td>\n",
       "      <td>31</td>\n",
       "      <td>31</td>\n",
       "      <td>31</td>\n",
       "    </tr>\n",
       "    <tr>\n",
       "      <th>Colombia</th>\n",
       "      <td>31</td>\n",
       "      <td>31</td>\n",
       "      <td>31</td>\n",
       "      <td>31</td>\n",
       "      <td>31</td>\n",
       "      <td>31</td>\n",
       "      <td>31</td>\n",
       "      <td>31</td>\n",
       "      <td>31</td>\n",
       "    </tr>\n",
       "    <tr>\n",
       "      <th>Central African Republic</th>\n",
       "      <td>26</td>\n",
       "      <td>26</td>\n",
       "      <td>26</td>\n",
       "      <td>26</td>\n",
       "      <td>26</td>\n",
       "      <td>26</td>\n",
       "      <td>26</td>\n",
       "      <td>26</td>\n",
       "      <td>26</td>\n",
       "    </tr>\n",
       "    <tr>\n",
       "      <th>Brazil</th>\n",
       "      <td>26</td>\n",
       "      <td>26</td>\n",
       "      <td>26</td>\n",
       "      <td>26</td>\n",
       "      <td>26</td>\n",
       "      <td>26</td>\n",
       "      <td>26</td>\n",
       "      <td>26</td>\n",
       "      <td>26</td>\n",
       "    </tr>\n",
       "    <tr>\n",
       "      <th>Guatemala</th>\n",
       "      <td>25</td>\n",
       "      <td>25</td>\n",
       "      <td>25</td>\n",
       "      <td>25</td>\n",
       "      <td>25</td>\n",
       "      <td>25</td>\n",
       "      <td>25</td>\n",
       "      <td>25</td>\n",
       "      <td>25</td>\n",
       "    </tr>\n",
       "    <tr>\n",
       "      <th>Panama</th>\n",
       "      <td>24</td>\n",
       "      <td>24</td>\n",
       "      <td>24</td>\n",
       "      <td>24</td>\n",
       "      <td>24</td>\n",
       "      <td>24</td>\n",
       "      <td>24</td>\n",
       "      <td>24</td>\n",
       "      <td>24</td>\n",
       "    </tr>\n",
       "    <tr>\n",
       "      <th>Chile</th>\n",
       "      <td>20</td>\n",
       "      <td>20</td>\n",
       "      <td>20</td>\n",
       "      <td>20</td>\n",
       "      <td>20</td>\n",
       "      <td>20</td>\n",
       "      <td>20</td>\n",
       "      <td>20</td>\n",
       "      <td>20</td>\n",
       "    </tr>\n",
       "    <tr>\n",
       "      <th>United States of America</th>\n",
       "      <td>19</td>\n",
       "      <td>19</td>\n",
       "      <td>19</td>\n",
       "      <td>19</td>\n",
       "      <td>19</td>\n",
       "      <td>19</td>\n",
       "      <td>19</td>\n",
       "      <td>19</td>\n",
       "      <td>19</td>\n",
       "    </tr>\n",
       "    <tr>\n",
       "      <th>Congo Democratic Republic of the</th>\n",
       "      <td>17</td>\n",
       "      <td>17</td>\n",
       "      <td>17</td>\n",
       "      <td>17</td>\n",
       "      <td>17</td>\n",
       "      <td>17</td>\n",
       "      <td>17</td>\n",
       "      <td>17</td>\n",
       "      <td>17</td>\n",
       "    </tr>\n",
       "    <tr>\n",
       "      <th>Paraguay</th>\n",
       "      <td>16</td>\n",
       "      <td>16</td>\n",
       "      <td>16</td>\n",
       "      <td>16</td>\n",
       "      <td>16</td>\n",
       "      <td>16</td>\n",
       "      <td>16</td>\n",
       "      <td>16</td>\n",
       "      <td>16</td>\n",
       "    </tr>\n",
       "    <tr>\n",
       "      <th>Mexico</th>\n",
       "      <td>15</td>\n",
       "      <td>15</td>\n",
       "      <td>15</td>\n",
       "      <td>15</td>\n",
       "      <td>15</td>\n",
       "      <td>15</td>\n",
       "      <td>15</td>\n",
       "      <td>15</td>\n",
       "      <td>15</td>\n",
       "    </tr>\n",
       "    <tr>\n",
       "      <th>Ecuador</th>\n",
       "      <td>15</td>\n",
       "      <td>15</td>\n",
       "      <td>15</td>\n",
       "      <td>15</td>\n",
       "      <td>15</td>\n",
       "      <td>15</td>\n",
       "      <td>15</td>\n",
       "      <td>15</td>\n",
       "      <td>15</td>\n",
       "    </tr>\n",
       "    <tr>\n",
       "      <th>Madagascar</th>\n",
       "      <td>14</td>\n",
       "      <td>14</td>\n",
       "      <td>14</td>\n",
       "      <td>14</td>\n",
       "      <td>14</td>\n",
       "      <td>14</td>\n",
       "      <td>14</td>\n",
       "      <td>14</td>\n",
       "      <td>14</td>\n",
       "    </tr>\n",
       "    <tr>\n",
       "      <th>Swaziland</th>\n",
       "      <td>13</td>\n",
       "      <td>13</td>\n",
       "      <td>13</td>\n",
       "      <td>13</td>\n",
       "      <td>13</td>\n",
       "      <td>13</td>\n",
       "      <td>13</td>\n",
       "      <td>13</td>\n",
       "      <td>13</td>\n",
       "    </tr>\n",
       "    <tr>\n",
       "      <th>Cote d'Ivoire</th>\n",
       "      <td>12</td>\n",
       "      <td>12</td>\n",
       "      <td>12</td>\n",
       "      <td>12</td>\n",
       "      <td>12</td>\n",
       "      <td>12</td>\n",
       "      <td>12</td>\n",
       "      <td>12</td>\n",
       "      <td>12</td>\n",
       "    </tr>\n",
       "    <tr>\n",
       "      <th>Costa Rica</th>\n",
       "      <td>11</td>\n",
       "      <td>11</td>\n",
       "      <td>11</td>\n",
       "      <td>11</td>\n",
       "      <td>11</td>\n",
       "      <td>11</td>\n",
       "      <td>11</td>\n",
       "      <td>11</td>\n",
       "      <td>11</td>\n",
       "    </tr>\n",
       "    <tr>\n",
       "      <th>Nigeria</th>\n",
       "      <td>10</td>\n",
       "      <td>10</td>\n",
       "      <td>10</td>\n",
       "      <td>10</td>\n",
       "      <td>10</td>\n",
       "      <td>10</td>\n",
       "      <td>10</td>\n",
       "      <td>10</td>\n",
       "      <td>10</td>\n",
       "    </tr>\n",
       "    <tr>\n",
       "      <th>Dominican Republic</th>\n",
       "      <td>10</td>\n",
       "      <td>10</td>\n",
       "      <td>10</td>\n",
       "      <td>10</td>\n",
       "      <td>10</td>\n",
       "      <td>10</td>\n",
       "      <td>10</td>\n",
       "      <td>10</td>\n",
       "      <td>10</td>\n",
       "    </tr>\n",
       "    <tr>\n",
       "      <th>Nicaragua</th>\n",
       "      <td>10</td>\n",
       "      <td>10</td>\n",
       "      <td>10</td>\n",
       "      <td>10</td>\n",
       "      <td>10</td>\n",
       "      <td>10</td>\n",
       "      <td>10</td>\n",
       "      <td>10</td>\n",
       "      <td>10</td>\n",
       "    </tr>\n",
       "    <tr>\n",
       "      <th>Canada</th>\n",
       "      <td>8</td>\n",
       "      <td>8</td>\n",
       "      <td>8</td>\n",
       "      <td>8</td>\n",
       "      <td>8</td>\n",
       "      <td>8</td>\n",
       "      <td>8</td>\n",
       "      <td>8</td>\n",
       "      <td>8</td>\n",
       "    </tr>\n",
       "    <tr>\n",
       "      <th>Peru</th>\n",
       "      <td>7</td>\n",
       "      <td>7</td>\n",
       "      <td>7</td>\n",
       "      <td>7</td>\n",
       "      <td>7</td>\n",
       "      <td>7</td>\n",
       "      <td>7</td>\n",
       "      <td>7</td>\n",
       "      <td>7</td>\n",
       "    </tr>\n",
       "    <tr>\n",
       "      <th>Mozambique</th>\n",
       "      <td>7</td>\n",
       "      <td>7</td>\n",
       "      <td>7</td>\n",
       "      <td>7</td>\n",
       "      <td>7</td>\n",
       "      <td>7</td>\n",
       "      <td>7</td>\n",
       "      <td>7</td>\n",
       "      <td>7</td>\n",
       "    </tr>\n",
       "    <tr>\n",
       "      <th>Thailand</th>\n",
       "      <td>7</td>\n",
       "      <td>7</td>\n",
       "      <td>7</td>\n",
       "      <td>7</td>\n",
       "      <td>7</td>\n",
       "      <td>7</td>\n",
       "      <td>7</td>\n",
       "      <td>7</td>\n",
       "      <td>7</td>\n",
       "    </tr>\n",
       "    <tr>\n",
       "      <th>Malaysia</th>\n",
       "      <td>6</td>\n",
       "      <td>6</td>\n",
       "      <td>6</td>\n",
       "      <td>6</td>\n",
       "      <td>6</td>\n",
       "      <td>6</td>\n",
       "      <td>6</td>\n",
       "      <td>6</td>\n",
       "      <td>6</td>\n",
       "    </tr>\n",
       "    <tr>\n",
       "      <th>Liberia</th>\n",
       "      <td>6</td>\n",
       "      <td>6</td>\n",
       "      <td>6</td>\n",
       "      <td>6</td>\n",
       "      <td>6</td>\n",
       "      <td>6</td>\n",
       "      <td>6</td>\n",
       "      <td>6</td>\n",
       "      <td>6</td>\n",
       "    </tr>\n",
       "    <tr>\n",
       "      <th>Ghana</th>\n",
       "      <td>6</td>\n",
       "      <td>6</td>\n",
       "      <td>6</td>\n",
       "      <td>6</td>\n",
       "      <td>6</td>\n",
       "      <td>6</td>\n",
       "      <td>6</td>\n",
       "      <td>6</td>\n",
       "      <td>6</td>\n",
       "    </tr>\n",
       "    <tr>\n",
       "      <th>Kenya</th>\n",
       "      <td>6</td>\n",
       "      <td>6</td>\n",
       "      <td>6</td>\n",
       "      <td>6</td>\n",
       "      <td>6</td>\n",
       "      <td>6</td>\n",
       "      <td>6</td>\n",
       "      <td>6</td>\n",
       "      <td>6</td>\n",
       "    </tr>\n",
       "    <tr>\n",
       "      <th>Israel</th>\n",
       "      <td>6</td>\n",
       "      <td>6</td>\n",
       "      <td>6</td>\n",
       "      <td>6</td>\n",
       "      <td>6</td>\n",
       "      <td>6</td>\n",
       "      <td>6</td>\n",
       "      <td>6</td>\n",
       "      <td>6</td>\n",
       "    </tr>\n",
       "    <tr>\n",
       "      <th>...</th>\n",
       "      <td>...</td>\n",
       "      <td>...</td>\n",
       "      <td>...</td>\n",
       "      <td>...</td>\n",
       "      <td>...</td>\n",
       "      <td>...</td>\n",
       "      <td>...</td>\n",
       "      <td>...</td>\n",
       "      <td>...</td>\n",
       "    </tr>\n",
       "    <tr>\n",
       "      <th>Sudan</th>\n",
       "      <td>2</td>\n",
       "      <td>2</td>\n",
       "      <td>2</td>\n",
       "      <td>2</td>\n",
       "      <td>2</td>\n",
       "      <td>2</td>\n",
       "      <td>2</td>\n",
       "      <td>2</td>\n",
       "      <td>2</td>\n",
       "    </tr>\n",
       "    <tr>\n",
       "      <th>Greece</th>\n",
       "      <td>2</td>\n",
       "      <td>2</td>\n",
       "      <td>2</td>\n",
       "      <td>2</td>\n",
       "      <td>2</td>\n",
       "      <td>2</td>\n",
       "      <td>2</td>\n",
       "      <td>2</td>\n",
       "      <td>2</td>\n",
       "    </tr>\n",
       "    <tr>\n",
       "      <th>Portugal</th>\n",
       "      <td>2</td>\n",
       "      <td>2</td>\n",
       "      <td>2</td>\n",
       "      <td>2</td>\n",
       "      <td>2</td>\n",
       "      <td>2</td>\n",
       "      <td>2</td>\n",
       "      <td>2</td>\n",
       "      <td>2</td>\n",
       "    </tr>\n",
       "    <tr>\n",
       "      <th>Sri Lanka</th>\n",
       "      <td>1</td>\n",
       "      <td>1</td>\n",
       "      <td>1</td>\n",
       "      <td>1</td>\n",
       "      <td>1</td>\n",
       "      <td>1</td>\n",
       "      <td>1</td>\n",
       "      <td>1</td>\n",
       "      <td>1</td>\n",
       "    </tr>\n",
       "    <tr>\n",
       "      <th>Taiwan Republic of China</th>\n",
       "      <td>1</td>\n",
       "      <td>1</td>\n",
       "      <td>1</td>\n",
       "      <td>1</td>\n",
       "      <td>1</td>\n",
       "      <td>1</td>\n",
       "      <td>1</td>\n",
       "      <td>1</td>\n",
       "      <td>1</td>\n",
       "    </tr>\n",
       "    <tr>\n",
       "      <th>Viet Nam</th>\n",
       "      <td>1</td>\n",
       "      <td>1</td>\n",
       "      <td>1</td>\n",
       "      <td>1</td>\n",
       "      <td>1</td>\n",
       "      <td>1</td>\n",
       "      <td>1</td>\n",
       "      <td>1</td>\n",
       "      <td>1</td>\n",
       "    </tr>\n",
       "    <tr>\n",
       "      <th>Russian Federation</th>\n",
       "      <td>1</td>\n",
       "      <td>1</td>\n",
       "      <td>1</td>\n",
       "      <td>1</td>\n",
       "      <td>1</td>\n",
       "      <td>1</td>\n",
       "      <td>1</td>\n",
       "      <td>1</td>\n",
       "      <td>1</td>\n",
       "    </tr>\n",
       "    <tr>\n",
       "      <th>Albania</th>\n",
       "      <td>1</td>\n",
       "      <td>1</td>\n",
       "      <td>1</td>\n",
       "      <td>1</td>\n",
       "      <td>1</td>\n",
       "      <td>1</td>\n",
       "      <td>1</td>\n",
       "      <td>1</td>\n",
       "      <td>1</td>\n",
       "    </tr>\n",
       "    <tr>\n",
       "      <th>Romania</th>\n",
       "      <td>1</td>\n",
       "      <td>1</td>\n",
       "      <td>1</td>\n",
       "      <td>1</td>\n",
       "      <td>1</td>\n",
       "      <td>1</td>\n",
       "      <td>1</td>\n",
       "      <td>1</td>\n",
       "      <td>1</td>\n",
       "    </tr>\n",
       "    <tr>\n",
       "      <th>Philippines</th>\n",
       "      <td>1</td>\n",
       "      <td>1</td>\n",
       "      <td>1</td>\n",
       "      <td>1</td>\n",
       "      <td>1</td>\n",
       "      <td>1</td>\n",
       "      <td>1</td>\n",
       "      <td>1</td>\n",
       "      <td>1</td>\n",
       "    </tr>\n",
       "    <tr>\n",
       "      <th>Bangladesh</th>\n",
       "      <td>1</td>\n",
       "      <td>1</td>\n",
       "      <td>1</td>\n",
       "      <td>1</td>\n",
       "      <td>1</td>\n",
       "      <td>1</td>\n",
       "      <td>1</td>\n",
       "      <td>1</td>\n",
       "      <td>1</td>\n",
       "    </tr>\n",
       "    <tr>\n",
       "      <th>Bhutan</th>\n",
       "      <td>1</td>\n",
       "      <td>1</td>\n",
       "      <td>1</td>\n",
       "      <td>1</td>\n",
       "      <td>1</td>\n",
       "      <td>1</td>\n",
       "      <td>1</td>\n",
       "      <td>1</td>\n",
       "      <td>1</td>\n",
       "    </tr>\n",
       "    <tr>\n",
       "      <th>Bulgaria</th>\n",
       "      <td>1</td>\n",
       "      <td>1</td>\n",
       "      <td>1</td>\n",
       "      <td>1</td>\n",
       "      <td>1</td>\n",
       "      <td>1</td>\n",
       "      <td>1</td>\n",
       "      <td>1</td>\n",
       "      <td>1</td>\n",
       "    </tr>\n",
       "    <tr>\n",
       "      <th>Cambodia</th>\n",
       "      <td>1</td>\n",
       "      <td>1</td>\n",
       "      <td>1</td>\n",
       "      <td>1</td>\n",
       "      <td>1</td>\n",
       "      <td>1</td>\n",
       "      <td>1</td>\n",
       "      <td>1</td>\n",
       "      <td>1</td>\n",
       "    </tr>\n",
       "    <tr>\n",
       "      <th>Cameroon</th>\n",
       "      <td>1</td>\n",
       "      <td>1</td>\n",
       "      <td>1</td>\n",
       "      <td>1</td>\n",
       "      <td>1</td>\n",
       "      <td>1</td>\n",
       "      <td>1</td>\n",
       "      <td>1</td>\n",
       "      <td>1</td>\n",
       "    </tr>\n",
       "    <tr>\n",
       "      <th>Cyprus</th>\n",
       "      <td>1</td>\n",
       "      <td>1</td>\n",
       "      <td>1</td>\n",
       "      <td>1</td>\n",
       "      <td>1</td>\n",
       "      <td>1</td>\n",
       "      <td>1</td>\n",
       "      <td>1</td>\n",
       "      <td>1</td>\n",
       "    </tr>\n",
       "    <tr>\n",
       "      <th>Egypt</th>\n",
       "      <td>1</td>\n",
       "      <td>1</td>\n",
       "      <td>1</td>\n",
       "      <td>1</td>\n",
       "      <td>1</td>\n",
       "      <td>1</td>\n",
       "      <td>1</td>\n",
       "      <td>1</td>\n",
       "      <td>1</td>\n",
       "    </tr>\n",
       "    <tr>\n",
       "      <th>Estonia</th>\n",
       "      <td>1</td>\n",
       "      <td>1</td>\n",
       "      <td>1</td>\n",
       "      <td>1</td>\n",
       "      <td>1</td>\n",
       "      <td>1</td>\n",
       "      <td>1</td>\n",
       "      <td>1</td>\n",
       "      <td>1</td>\n",
       "    </tr>\n",
       "    <tr>\n",
       "      <th>Fiji</th>\n",
       "      <td>1</td>\n",
       "      <td>1</td>\n",
       "      <td>1</td>\n",
       "      <td>1</td>\n",
       "      <td>1</td>\n",
       "      <td>1</td>\n",
       "      <td>1</td>\n",
       "      <td>1</td>\n",
       "      <td>1</td>\n",
       "    </tr>\n",
       "    <tr>\n",
       "      <th>Indonesia</th>\n",
       "      <td>1</td>\n",
       "      <td>1</td>\n",
       "      <td>1</td>\n",
       "      <td>1</td>\n",
       "      <td>1</td>\n",
       "      <td>1</td>\n",
       "      <td>1</td>\n",
       "      <td>1</td>\n",
       "      <td>1</td>\n",
       "    </tr>\n",
       "    <tr>\n",
       "      <th>Iraq</th>\n",
       "      <td>1</td>\n",
       "      <td>1</td>\n",
       "      <td>1</td>\n",
       "      <td>1</td>\n",
       "      <td>1</td>\n",
       "      <td>1</td>\n",
       "      <td>1</td>\n",
       "      <td>1</td>\n",
       "      <td>1</td>\n",
       "    </tr>\n",
       "    <tr>\n",
       "      <th>Kazakhstan</th>\n",
       "      <td>1</td>\n",
       "      <td>1</td>\n",
       "      <td>1</td>\n",
       "      <td>1</td>\n",
       "      <td>1</td>\n",
       "      <td>1</td>\n",
       "      <td>1</td>\n",
       "      <td>1</td>\n",
       "      <td>1</td>\n",
       "    </tr>\n",
       "    <tr>\n",
       "      <th>Lao PDR</th>\n",
       "      <td>1</td>\n",
       "      <td>1</td>\n",
       "      <td>1</td>\n",
       "      <td>1</td>\n",
       "      <td>1</td>\n",
       "      <td>1</td>\n",
       "      <td>1</td>\n",
       "      <td>1</td>\n",
       "      <td>1</td>\n",
       "    </tr>\n",
       "    <tr>\n",
       "      <th>Latvia</th>\n",
       "      <td>1</td>\n",
       "      <td>1</td>\n",
       "      <td>1</td>\n",
       "      <td>1</td>\n",
       "      <td>1</td>\n",
       "      <td>1</td>\n",
       "      <td>1</td>\n",
       "      <td>1</td>\n",
       "      <td>1</td>\n",
       "    </tr>\n",
       "    <tr>\n",
       "      <th>Lithuania</th>\n",
       "      <td>1</td>\n",
       "      <td>1</td>\n",
       "      <td>1</td>\n",
       "      <td>1</td>\n",
       "      <td>1</td>\n",
       "      <td>1</td>\n",
       "      <td>1</td>\n",
       "      <td>1</td>\n",
       "      <td>1</td>\n",
       "    </tr>\n",
       "    <tr>\n",
       "      <th>Mauritania</th>\n",
       "      <td>1</td>\n",
       "      <td>1</td>\n",
       "      <td>1</td>\n",
       "      <td>1</td>\n",
       "      <td>1</td>\n",
       "      <td>1</td>\n",
       "      <td>1</td>\n",
       "      <td>1</td>\n",
       "      <td>1</td>\n",
       "    </tr>\n",
       "    <tr>\n",
       "      <th>Morocco</th>\n",
       "      <td>1</td>\n",
       "      <td>1</td>\n",
       "      <td>1</td>\n",
       "      <td>1</td>\n",
       "      <td>1</td>\n",
       "      <td>1</td>\n",
       "      <td>1</td>\n",
       "      <td>1</td>\n",
       "      <td>1</td>\n",
       "    </tr>\n",
       "    <tr>\n",
       "      <th>Nepal</th>\n",
       "      <td>1</td>\n",
       "      <td>1</td>\n",
       "      <td>1</td>\n",
       "      <td>1</td>\n",
       "      <td>1</td>\n",
       "      <td>1</td>\n",
       "      <td>1</td>\n",
       "      <td>1</td>\n",
       "      <td>1</td>\n",
       "    </tr>\n",
       "    <tr>\n",
       "      <th>Palestinian Territory Occupied</th>\n",
       "      <td>1</td>\n",
       "      <td>1</td>\n",
       "      <td>1</td>\n",
       "      <td>1</td>\n",
       "      <td>1</td>\n",
       "      <td>1</td>\n",
       "      <td>1</td>\n",
       "      <td>1</td>\n",
       "      <td>1</td>\n",
       "    </tr>\n",
       "    <tr>\n",
       "      <th>Yemen</th>\n",
       "      <td>1</td>\n",
       "      <td>1</td>\n",
       "      <td>1</td>\n",
       "      <td>1</td>\n",
       "      <td>1</td>\n",
       "      <td>1</td>\n",
       "      <td>1</td>\n",
       "      <td>1</td>\n",
       "      <td>1</td>\n",
       "    </tr>\n",
       "  </tbody>\n",
       "</table>\n",
       "<p>100 rows × 9 columns</p>\n",
       "</div>"
      ],
      "text/plain": [
       "                                  mj  Gj  pj  ln_mj  dcooks  y_child  \\\n",
       "Pays                                                                   \n",
       "South Africa                      62  62  62     62      62       62   \n",
       "Honduras                          44  44  44     44      44       44   \n",
       "Bolivia                           31  31  31     31      31       31   \n",
       "Colombia                          31  31  31     31      31       31   \n",
       "Central African Republic          26  26  26     26      26       26   \n",
       "Brazil                            26  26  26     26      26       26   \n",
       "Guatemala                         25  25  25     25      25       25   \n",
       "Panama                            24  24  24     24      24       24   \n",
       "Chile                             20  20  20     20      20       20   \n",
       "United States of America          19  19  19     19      19       19   \n",
       "Congo Democratic Republic of the  17  17  17     17      17       17   \n",
       "Paraguay                          16  16  16     16      16       16   \n",
       "Mexico                            15  15  15     15      15       15   \n",
       "Ecuador                           15  15  15     15      15       15   \n",
       "Madagascar                        14  14  14     14      14       14   \n",
       "Swaziland                         13  13  13     13      13       13   \n",
       "Cote d'Ivoire                     12  12  12     12      12       12   \n",
       "Costa Rica                        11  11  11     11      11       11   \n",
       "Nigeria                           10  10  10     10      10       10   \n",
       "Dominican Republic                10  10  10     10      10       10   \n",
       "Nicaragua                         10  10  10     10      10       10   \n",
       "Canada                             8   8   8      8       8        8   \n",
       "Peru                               7   7   7      7       7        7   \n",
       "Mozambique                         7   7   7      7       7        7   \n",
       "Thailand                           7   7   7      7       7        7   \n",
       "Malaysia                           6   6   6      6       6        6   \n",
       "Liberia                            6   6   6      6       6        6   \n",
       "Ghana                              6   6   6      6       6        6   \n",
       "Kenya                              6   6   6      6       6        6   \n",
       "Israel                             6   6   6      6       6        6   \n",
       "...                               ..  ..  ..    ...     ...      ...   \n",
       "Sudan                              2   2   2      2       2        2   \n",
       "Greece                             2   2   2      2       2        2   \n",
       "Portugal                           2   2   2      2       2        2   \n",
       "Sri Lanka                          1   1   1      1       1        1   \n",
       "Taiwan Republic of China           1   1   1      1       1        1   \n",
       "Viet Nam                           1   1   1      1       1        1   \n",
       "Russian Federation                 1   1   1      1       1        1   \n",
       "Albania                            1   1   1      1       1        1   \n",
       "Romania                            1   1   1      1       1        1   \n",
       "Philippines                        1   1   1      1       1        1   \n",
       "Bangladesh                         1   1   1      1       1        1   \n",
       "Bhutan                             1   1   1      1       1        1   \n",
       "Bulgaria                           1   1   1      1       1        1   \n",
       "Cambodia                           1   1   1      1       1        1   \n",
       "Cameroon                           1   1   1      1       1        1   \n",
       "Cyprus                             1   1   1      1       1        1   \n",
       "Egypt                              1   1   1      1       1        1   \n",
       "Estonia                            1   1   1      1       1        1   \n",
       "Fiji                               1   1   1      1       1        1   \n",
       "Indonesia                          1   1   1      1       1        1   \n",
       "Iraq                               1   1   1      1       1        1   \n",
       "Kazakhstan                         1   1   1      1       1        1   \n",
       "Lao PDR                            1   1   1      1       1        1   \n",
       "Latvia                             1   1   1      1       1        1   \n",
       "Lithuania                          1   1   1      1       1        1   \n",
       "Mauritania                         1   1   1      1       1        1   \n",
       "Morocco                            1   1   1      1       1        1   \n",
       "Nepal                              1   1   1      1       1        1   \n",
       "Palestinian Territory Occupied     1   1   1      1       1        1   \n",
       "Yemen                              1   1   1      1       1        1   \n",
       "\n",
       "                                  ln_y_child  levier  rstudent  \n",
       "Pays                                                            \n",
       "South Africa                              62      62        62  \n",
       "Honduras                                  44      44        44  \n",
       "Bolivia                                   31      31        31  \n",
       "Colombia                                  31      31        31  \n",
       "Central African Republic                  26      26        26  \n",
       "Brazil                                    26      26        26  \n",
       "Guatemala                                 25      25        25  \n",
       "Panama                                    24      24        24  \n",
       "Chile                                     20      20        20  \n",
       "United States of America                  19      19        19  \n",
       "Congo Democratic Republic of the          17      17        17  \n",
       "Paraguay                                  16      16        16  \n",
       "Mexico                                    15      15        15  \n",
       "Ecuador                                   15      15        15  \n",
       "Madagascar                                14      14        14  \n",
       "Swaziland                                 13      13        13  \n",
       "Cote d'Ivoire                             12      12        12  \n",
       "Costa Rica                                11      11        11  \n",
       "Nigeria                                   10      10        10  \n",
       "Dominican Republic                        10      10        10  \n",
       "Nicaragua                                 10      10        10  \n",
       "Canada                                     8       8         8  \n",
       "Peru                                       7       7         7  \n",
       "Mozambique                                 7       7         7  \n",
       "Thailand                                   7       7         7  \n",
       "Malaysia                                   6       6         6  \n",
       "Liberia                                    6       6         6  \n",
       "Ghana                                      6       6         6  \n",
       "Kenya                                      6       6         6  \n",
       "Israel                                     6       6         6  \n",
       "...                                      ...     ...       ...  \n",
       "Sudan                                      2       2         2  \n",
       "Greece                                     2       2         2  \n",
       "Portugal                                   2       2         2  \n",
       "Sri Lanka                                  1       1         1  \n",
       "Taiwan Republic of China                   1       1         1  \n",
       "Viet Nam                                   1       1         1  \n",
       "Russian Federation                         1       1         1  \n",
       "Albania                                    1       1         1  \n",
       "Romania                                    1       1         1  \n",
       "Philippines                                1       1         1  \n",
       "Bangladesh                                 1       1         1  \n",
       "Bhutan                                     1       1         1  \n",
       "Bulgaria                                   1       1         1  \n",
       "Cambodia                                   1       1         1  \n",
       "Cameroon                                   1       1         1  \n",
       "Cyprus                                     1       1         1  \n",
       "Egypt                                      1       1         1  \n",
       "Estonia                                    1       1         1  \n",
       "Fiji                                       1       1         1  \n",
       "Indonesia                                  1       1         1  \n",
       "Iraq                                       1       1         1  \n",
       "Kazakhstan                                 1       1         1  \n",
       "Lao PDR                                    1       1         1  \n",
       "Latvia                                     1       1         1  \n",
       "Lithuania                                  1       1         1  \n",
       "Mauritania                                 1       1         1  \n",
       "Morocco                                    1       1         1  \n",
       "Nepal                                      1       1         1  \n",
       "Palestinian Territory Occupied             1       1         1  \n",
       "Yemen                                      1       1         1  \n",
       "\n",
       "[100 rows x 9 columns]"
      ]
     },
     "execution_count": 58,
     "metadata": {},
     "output_type": "execute_result"
    }
   ],
   "source": [
    "# Pays présentants des obervations au dela du seuil\n",
    "ready_db6.loc[ready_db6.index.isin(dco_ln.index)].groupby(by='Pays').count().sort_values(by='y_child',\n",
    "                                                                                         ascending=False)"
   ]
  },
  {
   "cell_type": "markdown",
   "metadata": {},
   "source": [
    "<a id='atyp_infl1'></a>\n",
    "<h3 style='color:#8677b2'>Mesures atypiques et influentes</h3>"
   ]
  },
  {
   "cell_type": "markdown",
   "metadata": {},
   "source": [
    "[Haut de page](#sommaire)"
   ]
  },
  {
   "cell_type": "code",
   "execution_count": 59,
   "metadata": {},
   "outputs": [
    {
     "data": {
      "text/html": [
       "<div>\n",
       "<style scoped>\n",
       "    .dataframe tbody tr th:only-of-type {\n",
       "        vertical-align: middle;\n",
       "    }\n",
       "\n",
       "    .dataframe tbody tr th {\n",
       "        vertical-align: top;\n",
       "    }\n",
       "\n",
       "    .dataframe thead th {\n",
       "        text-align: right;\n",
       "    }\n",
       "</style>\n",
       "<table border=\"1\" class=\"dataframe\">\n",
       "  <thead>\n",
       "    <tr style=\"text-align: right;\">\n",
       "      <th></th>\n",
       "      <th>Pays</th>\n",
       "      <th>y_child</th>\n",
       "      <th>mj</th>\n",
       "      <th>Gj</th>\n",
       "      <th>pj</th>\n",
       "      <th>ln_mj</th>\n",
       "      <th>ln_y_child</th>\n",
       "      <th>levier</th>\n",
       "      <th>rstudent</th>\n",
       "      <th>dcooks</th>\n",
       "    </tr>\n",
       "  </thead>\n",
       "  <tbody>\n",
       "    <tr>\n",
       "      <th>0</th>\n",
       "      <td>Albania</td>\n",
       "      <td>728.89795</td>\n",
       "      <td>2994.829902</td>\n",
       "      <td>0.32141</td>\n",
       "      <td>0.815874</td>\n",
       "      <td>8.004643</td>\n",
       "      <td>6.591534</td>\n",
       "      <td>0.000155</td>\n",
       "      <td>-1.764461</td>\n",
       "      <td>0.000161</td>\n",
       "    </tr>\n",
       "    <tr>\n",
       "      <th>1</th>\n",
       "      <td>Albania</td>\n",
       "      <td>916.66235</td>\n",
       "      <td>2994.829902</td>\n",
       "      <td>0.32141</td>\n",
       "      <td>0.815874</td>\n",
       "      <td>8.004643</td>\n",
       "      <td>6.820739</td>\n",
       "      <td>0.000155</td>\n",
       "      <td>-1.445786</td>\n",
       "      <td>0.000108</td>\n",
       "    </tr>\n",
       "    <tr>\n",
       "      <th>2</th>\n",
       "      <td>Albania</td>\n",
       "      <td>1010.91600</td>\n",
       "      <td>2994.829902</td>\n",
       "      <td>0.32141</td>\n",
       "      <td>0.815874</td>\n",
       "      <td>8.004643</td>\n",
       "      <td>6.918612</td>\n",
       "      <td>0.000155</td>\n",
       "      <td>-1.309708</td>\n",
       "      <td>0.000089</td>\n",
       "    </tr>\n",
       "    <tr>\n",
       "      <th>3</th>\n",
       "      <td>Albania</td>\n",
       "      <td>1086.90780</td>\n",
       "      <td>2994.829902</td>\n",
       "      <td>0.32141</td>\n",
       "      <td>0.815874</td>\n",
       "      <td>8.004643</td>\n",
       "      <td>6.991092</td>\n",
       "      <td>0.000155</td>\n",
       "      <td>-1.208936</td>\n",
       "      <td>0.000075</td>\n",
       "    </tr>\n",
       "    <tr>\n",
       "      <th>4</th>\n",
       "      <td>Albania</td>\n",
       "      <td>1132.69970</td>\n",
       "      <td>2994.829902</td>\n",
       "      <td>0.32141</td>\n",
       "      <td>0.815874</td>\n",
       "      <td>8.004643</td>\n",
       "      <td>7.032359</td>\n",
       "      <td>0.000155</td>\n",
       "      <td>-1.151560</td>\n",
       "      <td>0.000068</td>\n",
       "    </tr>\n",
       "  </tbody>\n",
       "</table>\n",
       "</div>"
      ],
      "text/plain": [
       "      Pays     y_child           mj       Gj        pj     ln_mj  ln_y_child  \\\n",
       "0  Albania   728.89795  2994.829902  0.32141  0.815874  8.004643    6.591534   \n",
       "1  Albania   916.66235  2994.829902  0.32141  0.815874  8.004643    6.820739   \n",
       "2  Albania  1010.91600  2994.829902  0.32141  0.815874  8.004643    6.918612   \n",
       "3  Albania  1086.90780  2994.829902  0.32141  0.815874  8.004643    6.991092   \n",
       "4  Albania  1132.69970  2994.829902  0.32141  0.815874  8.004643    7.032359   \n",
       "\n",
       "     levier  rstudent    dcooks  \n",
       "0  0.000155 -1.764461  0.000161  \n",
       "1  0.000155 -1.445786  0.000108  \n",
       "2  0.000155 -1.309708  0.000089  \n",
       "3  0.000155 -1.208936  0.000075  \n",
       "4  0.000155 -1.151560  0.000068  "
      ]
     },
     "execution_count": 59,
     "metadata": {},
     "output_type": "execute_result"
    }
   ],
   "source": [
    "ready_db2.head()"
   ]
  },
  {
   "cell_type": "code",
   "execution_count": 60,
   "metadata": {},
   "outputs": [
    {
     "data": {
      "text/plain": [
       "51"
      ]
     },
     "execution_count": 60,
     "metadata": {},
     "output_type": "execute_result"
    }
   ],
   "source": [
    "# Obeservations atypiques et influentes\n",
    "ind_aty_infl_ln = ready_db2.loc[((ready_db2['dcooks'] > seuil_dcook) &\n",
    "                                  (ready_db2['rstudent'] > seuil_rstudent) &\n",
    "                                  (ready_db2['levier'] > seuil_levier)) |\n",
    "                                  ((ready_db2['dcooks'] > seuil_dcook) &\n",
    "                                  (ready_db2['rstudent'] < -seuil_rstudent) &\n",
    "                                  (ready_db2['levier'] > seuil_levier))]\n",
    "len(ind_aty_infl_ln)"
   ]
  },
  {
   "cell_type": "code",
   "execution_count": 61,
   "metadata": {},
   "outputs": [
    {
     "data": {
      "text/html": [
       "<div>\n",
       "<style scoped>\n",
       "    .dataframe tbody tr th:only-of-type {\n",
       "        vertical-align: middle;\n",
       "    }\n",
       "\n",
       "    .dataframe tbody tr th {\n",
       "        vertical-align: top;\n",
       "    }\n",
       "\n",
       "    .dataframe thead th {\n",
       "        text-align: right;\n",
       "    }\n",
       "</style>\n",
       "<table border=\"1\" class=\"dataframe\">\n",
       "  <thead>\n",
       "    <tr style=\"text-align: right;\">\n",
       "      <th></th>\n",
       "      <th>index</th>\n",
       "      <th>y_child</th>\n",
       "      <th>mj</th>\n",
       "      <th>Gj</th>\n",
       "      <th>pj</th>\n",
       "      <th>ln_mj</th>\n",
       "      <th>ln_y_child</th>\n",
       "      <th>levier</th>\n",
       "      <th>rstudent</th>\n",
       "      <th>dcooks</th>\n",
       "    </tr>\n",
       "    <tr>\n",
       "      <th>Pays</th>\n",
       "      <th></th>\n",
       "      <th></th>\n",
       "      <th></th>\n",
       "      <th></th>\n",
       "      <th></th>\n",
       "      <th></th>\n",
       "      <th></th>\n",
       "      <th></th>\n",
       "      <th></th>\n",
       "      <th></th>\n",
       "    </tr>\n",
       "  </thead>\n",
       "  <tbody>\n",
       "    <tr>\n",
       "      <th>Honduras</th>\n",
       "      <td>22</td>\n",
       "      <td>22</td>\n",
       "      <td>22</td>\n",
       "      <td>22</td>\n",
       "      <td>22</td>\n",
       "      <td>22</td>\n",
       "      <td>22</td>\n",
       "      <td>22</td>\n",
       "      <td>22</td>\n",
       "      <td>22</td>\n",
       "    </tr>\n",
       "    <tr>\n",
       "      <th>South Africa</th>\n",
       "      <td>29</td>\n",
       "      <td>29</td>\n",
       "      <td>29</td>\n",
       "      <td>29</td>\n",
       "      <td>29</td>\n",
       "      <td>29</td>\n",
       "      <td>29</td>\n",
       "      <td>29</td>\n",
       "      <td>29</td>\n",
       "      <td>29</td>\n",
       "    </tr>\n",
       "  </tbody>\n",
       "</table>\n",
       "</div>"
      ],
      "text/plain": [
       "              index  y_child  mj  Gj  pj  ln_mj  ln_y_child  levier  rstudent  \\\n",
       "Pays                                                                            \n",
       "Honduras         22       22  22  22  22     22          22      22        22   \n",
       "South Africa     29       29  29  29  29     29          29      29        29   \n",
       "\n",
       "              dcooks  \n",
       "Pays                  \n",
       "Honduras          22  \n",
       "South Africa      29  "
      ]
     },
     "execution_count": 61,
     "metadata": {},
     "output_type": "execute_result"
    }
   ],
   "source": [
    "# Pays contenants les observations influentes et atypiques\n",
    "susp_pt = ready_db2.loc[ready_db2.index.isin(ind_aty_infl_ln.index)]\n",
    "susp_pt.reset_index(inplace=True)\n",
    "susp_pt.groupby('Pays').count()"
   ]
  },
  {
   "cell_type": "markdown",
   "metadata": {},
   "source": [
    "<a id='vif1'></a>\n",
    "<h3 style='color:#8677b2'>Détection des problèmes de colinéarité</h3>"
   ]
  },
  {
   "cell_type": "markdown",
   "metadata": {},
   "source": [
    "[Haut de page](#sommaire)"
   ]
  },
  {
   "cell_type": "code",
   "execution_count": 62,
   "metadata": {},
   "outputs": [
    {
     "data": {
      "text/plain": [
       "(1.0769055273597412, -0.26723293053163943)"
      ]
     },
     "execution_count": 62,
     "metadata": {},
     "output_type": "execute_result"
    }
   ],
   "source": [
    "# Facteur d'influence de la variance (Variance Inflation Factor)\n",
    "mat_cor = np.corrcoef(ready_db2.ln_mj, ready_db2.Gj)\n",
    "1 / (1-(mat_cor[0,1]**2)), mat_cor[0,1]"
   ]
  },
  {
   "cell_type": "code",
   "execution_count": 63,
   "metadata": {},
   "outputs": [
    {
     "data": {
      "text/plain": [
       "(8.591065292096216, 10.256410256410254, 4.810004810004811, 5.263157894736843)"
      ]
     },
     "execution_count": 63,
     "metadata": {},
     "output_type": "execute_result"
    }
   ],
   "source": [
    "# Inmpact du R2 sur le VIF\n",
    "1 / (1 - 0.94**2), 1 / (1 - 0.95**2), 1 / (1 - 0.89**2), 1 / (1 - 0.90**2)"
   ]
  },
  {
   "cell_type": "markdown",
   "metadata": {},
   "source": [
    "* VIF_Gj et VIF_ln_y_child_moy < 10 (ou même 5)   \n",
    "Pas de problème de colinéarité"
   ]
  },
  {
   "cell_type": "markdown",
   "metadata": {},
   "source": [
    "<a id='breu1'></a>\n",
    "<h3 style='color:#8677b2'>Test d'homoscédasticité</h3>"
   ]
  },
  {
   "cell_type": "markdown",
   "metadata": {},
   "source": [
    "[Haut de page](#sommaire)"
   ]
  },
  {
   "cell_type": "code",
   "execution_count": 64,
   "metadata": {},
   "outputs": [
    {
     "name": "stdout",
     "output_type": "stream",
     "text": [
      "p value test Breusch Pagan: 3.999264381321618e-154\n"
     ]
    }
   ],
   "source": [
    "_, pval, __, f_pval = statsmodels.stats.diagnostic.het_breuschpagan(reg_multi_ln.resid, reg_multi_ln.model.exog)\n",
    "print('p value test Breusch Pagan:', pval)"
   ]
  },
  {
   "cell_type": "markdown",
   "metadata": {},
   "source": [
    "H0: Homoscédasticité  \n",
    "H1: Hétéroscédasticité  \n",
    "pvalue <<< alpha, rejet de H0, il y a hétéroscédasticité des residus  \n",
    "Encore une fois, le modèle de regression linéaire multiple est suffisamment robuste pour les grands échantillons. 11_660 ici, c'est notre cas.  \n",
    "Plus on a de données à disposition, plus le modèle est capable de supporter des écarts important aux hypothèse (gaussienne et homoscédastique)"
   ]
  },
  {
   "cell_type": "code",
   "execution_count": 65,
   "metadata": {},
   "outputs": [
    {
     "data": {
      "image/png": "[encoded data removed]",
      "text/plain": [
       "<Figure size 432x432 with 1 Axes>"
      ]
     },
     "metadata": {
      "needs_background": "light"
     },
     "output_type": "display_data"
    }
   ],
   "source": [
    "# Représentation des résidus en fonction des valeurs prédites\n",
    "plt.figure(figsize=(6,6))\n",
    "\n",
    "plt.scatter(reg_multi_ln.resid, reg_multi_ln.predict())\n",
    "\n",
    "plt.ylabel('Résidus')\n",
    "plt.xlabel('Valeurs prédites')\n",
    "plt.title('Nuage de point des residus\\n en fonction des valeurs prédites')\n",
    "\n",
    "plt.savefig('graph/homoscedasticity.png')\n",
    "plt.show()"
   ]
  },
  {
   "cell_type": "markdown",
   "metadata": {},
   "source": [
    "<a id='norm1'></a>\n",
    "<h3 style='color:#8677b2'>Test de normalité des résidus</h3>"
   ]
  },
  {
   "cell_type": "markdown",
   "metadata": {},
   "source": [
    "[Haut de page](#sommaire)"
   ]
  },
  {
   "cell_type": "code",
   "execution_count": 66,
   "metadata": {},
   "outputs": [
    {
     "data": {
      "text/plain": [
       "Ks_2sampResult(statistic=0.03948275862068973, pvalue=2.645886883409486e-08)"
      ]
     },
     "execution_count": 66,
     "metadata": {},
     "output_type": "execute_result"
    }
   ],
   "source": [
    "# Préparation des données\n",
    "X_ln = reg_multi_ln.resid\n",
    "Xbar_ln = np.mean(X_ln)\n",
    "Xsprime_ln = np.std(X_ln)\n",
    "\n",
    "# Test d'adequation à une loi (ici Normale) avec le test Kolmogorv-Smirnov\n",
    "ks_2samp(reg_multi_ln.resid, list(np.random.normal(Xbar_ln, Xsprime_ln, 11_600)))"
   ]
  },
  {
   "cell_type": "markdown",
   "metadata": {},
   "source": [
    "H0: Les données suivent une loi normale  \n",
    "H1: Les données ne suivent pas une loi normale  \n",
    "p-value <<< 0.05, on rejette H0, y_child ne suit pas une loi normale"
   ]
  },
  {
   "cell_type": "code",
   "execution_count": 67,
   "metadata": {},
   "outputs": [
    {
     "data": {
      "text/plain": [
       "(3504.7610988912247, 0.0, -0.0808763837215548, 5.687948269963439)"
      ]
     },
     "execution_count": 67,
     "metadata": {},
     "output_type": "execute_result"
    }
   ],
   "source": [
    "# Test de Jarque-Bera (test de normalité basé sur le kurtosis et le skewness)\n",
    "JB_ln, JBpv_ln, skw_ln, kurt_ln = sm.stats.stattools.jarque_bera(reg_multi_ln.resid)\n",
    "JB_ln, JBpv_ln, skw_ln, kurt_ln"
   ]
  },
  {
   "cell_type": "markdown",
   "metadata": {},
   "source": [
    "H0: Les données suivent une loi normale  \n",
    "H1: Les données ne suivent pas une loi normale  \n",
    "JBpv ~ 0, on rejette H0, d'après le test, les données ne suivent pas une loi normale"
   ]
  },
  {
   "cell_type": "code",
   "execution_count": 68,
   "metadata": {},
   "outputs": [
    {
     "data": {
      "image/png": "[encoded data removed]",
      "text/plain": [
       "<Figure size 1080x1080 with 1 Axes>"
      ]
     },
     "metadata": {
      "needs_background": "light"
     },
     "output_type": "display_data"
    }
   ],
   "source": [
    "# Droite de Henry\n",
    "fig, ax = plt.subplots(figsize=(15, 15))\n",
    "\n",
    "sm.qqplot(reg_multi_ln.resid, line='45', fit=True, ax=ax)\n",
    "\n",
    "plt.ylabel('Quantiles de notre échantillon', fontsize=18)\n",
    "plt.yticks(fontsize=16)\n",
    "plt.xlabel('Quantiles d\\'une loi Normale', fontsize=18)\n",
    "plt.xticks(fontsize=16)\n",
    "plt.title('Droite de Henry')\n",
    "\n",
    "plt.tight_layout()\n",
    "\n",
    "plt.savefig('graph/droite_henry_reg1.png')\n",
    "plt.show()"
   ]
  },
  {
   "cell_type": "markdown",
   "metadata": {},
   "source": [
    "La droite de Henry represente la distribution empirique des residus et la distribution théorique d'une loi normale.  \n",
    "Sauf pour les valeurs faibles de nos résidus, nos residus semblent plutôt alignés avec la distribution théorique d'une loi normale."
   ]
  },
  {
   "cell_type": "code",
   "execution_count": 69,
   "metadata": {},
   "outputs": [
    {
     "data": {
      "image/png": "[encoded data removed]",
      "text/plain": [
       "<Figure size 720x720 with 1 Axes>"
      ]
     },
     "metadata": {
      "needs_background": "light"
     },
     "output_type": "display_data"
    }
   ],
   "source": [
    "#Représentation de la distribution marginale\n",
    "plt.figure(figsize=(10,10,))\n",
    "\n",
    "plt.hist(X_ln, 100, facecolor='g',)\n",
    "plt.axvline(Xbar_ln, color='r', linewidth=2)\n",
    "\n",
    "plt.title(f'Distribution marginale des résidus', fontsize=22)\n",
    "plt.ylabel('Nombre', fontsize=18)\n",
    "plt.yticks(fontsize=16)\n",
    "plt.xlabel('Résidus', fontsize=18)\n",
    "plt.xticks(fontsize=16)\n",
    "\n",
    "plt.tight_layout()\n",
    "\n",
    "plt.savefig('graph/dist_marg_resid_reg1.png')\n",
    "plt.show()"
   ]
  },
  {
   "cell_type": "markdown",
   "metadata": {},
   "source": [
    "<a id='reg2'></a>\n",
    "## Régression linéaire du revenu enfant sur le revenu moyen du pays, l'indice de Gini et la classe de revenus des parents"
   ]
  },
  {
   "cell_type": "markdown",
   "metadata": {},
   "source": [
    "<a id='test2'></a>\n",
    "<h3 style='color:#8677b2'>Tests de significativité</h3>"
   ]
  },
  {
   "cell_type": "markdown",
   "metadata": {},
   "source": [
    "[Haut de page](#sommaire)"
   ]
  },
  {
   "cell_type": "code",
   "execution_count": 70,
   "metadata": {
    "scrolled": false
   },
   "outputs": [
    {
     "data": {
      "text/html": [
       "<table class=\"simpletable\">\n",
       "<caption>OLS Regression Results</caption>\n",
       "<tr>\n",
       "  <th>Dep. Variable:</th>         <td>y_child</td>     <th>  R-squared:         </th>  <td>   0.522</td>  \n",
       "</tr>\n",
       "<tr>\n",
       "  <th>Model:</th>                   <td>OLS</td>       <th>  Adj. R-squared:    </th>  <td>   0.522</td>  \n",
       "</tr>\n",
       "<tr>\n",
       "  <th>Method:</th>             <td>Least Squares</td>  <th>  F-statistic:       </th>  <td>2.113e+06</td> \n",
       "</tr>\n",
       "<tr>\n",
       "  <th>Date:</th>             <td>Wed, 22 May 2019</td> <th>  Prob (F-statistic):</th>   <td>  0.00</td>   \n",
       "</tr>\n",
       "<tr>\n",
       "  <th>Time:</th>                 <td>14:51:31</td>     <th>  Log-Likelihood:    </th> <td>-5.9157e+07</td>\n",
       "</tr>\n",
       "<tr>\n",
       "  <th>No. Observations:</th>      <td>5800000</td>     <th>  AIC:               </th>  <td>1.183e+08</td> \n",
       "</tr>\n",
       "<tr>\n",
       "  <th>Df Residuals:</th>          <td>5799996</td>     <th>  BIC:               </th>  <td>1.183e+08</td> \n",
       "</tr>\n",
       "<tr>\n",
       "  <th>Df Model:</th>              <td>     3</td>      <th>                     </th>      <td> </td>     \n",
       "</tr>\n",
       "<tr>\n",
       "  <th>Covariance Type:</th>      <td>nonrobust</td>    <th>                     </th>      <td> </td>     \n",
       "</tr>\n",
       "</table>"
      ],
      "text/plain": [
       "<class 'statsmodels.iolib.table.SimpleTable'>"
      ]
     },
     "execution_count": 70,
     "metadata": {},
     "output_type": "execute_result"
    }
   ],
   "source": [
    "reg2 = smf.ols('y_child ~ Gj + mj + c_i_parent', data=ready_db1)\n",
    "reg_multi2 = reg2.fit()\n",
    "reg_multi2.summary().tables[0]"
   ]
  },
  {
   "cell_type": "markdown",
   "metadata": {},
   "source": [
    "**Test global:**  \n",
    "H0: beta_GJ = beta_mj = beta_c_i_parent = 0  \n",
    "H1: beta_GJ != beta_mj = beta_c_i_parent != 0  \n",
    "F ~ 0.00 <<< alpha, on rejette H0, le modèle est globalement significatif"
   ]
  },
  {
   "cell_type": "code",
   "execution_count": 71,
   "metadata": {},
   "outputs": [
    {
     "data": {
      "text/html": [
       "<table class=\"simpletable\">\n",
       "<tr>\n",
       "       <td></td>         <th>coef</th>     <th>std err</th>      <th>t</th>      <th>P>|t|</th>  <th>[0.025</th>    <th>0.975]</th>  \n",
       "</tr>\n",
       "<tr>\n",
       "  <th>Intercept</th>  <td>-2646.7922</td> <td>   15.078</td> <td> -175.540</td> <td> 0.000</td> <td>-2676.345</td> <td>-2617.240</td>\n",
       "</tr>\n",
       "<tr>\n",
       "  <th>Gj</th>         <td>    0.5893</td> <td>   32.659</td> <td>    0.018</td> <td> 0.986</td> <td>  -63.420</td> <td>   64.599</td>\n",
       "</tr>\n",
       "<tr>\n",
       "  <th>mj</th>         <td>    1.0000</td> <td>    0.000</td> <td> 2294.441</td> <td> 0.000</td> <td>    0.999</td> <td>    1.001</td>\n",
       "</tr>\n",
       "<tr>\n",
       "  <th>c_i_parent</th> <td>   52.4077</td> <td>    0.094</td> <td>  559.690</td> <td> 0.000</td> <td>   52.224</td> <td>   52.591</td>\n",
       "</tr>\n",
       "</table>"
      ],
      "text/plain": [
       "<class 'statsmodels.iolib.table.SimpleTable'>"
      ]
     },
     "execution_count": 71,
     "metadata": {},
     "output_type": "execute_result"
    }
   ],
   "source": [
    "reg_multi2.summary().tables[1]"
   ]
  },
  {
   "cell_type": "markdown",
   "metadata": {},
   "source": [
    " **Test de significativité:**\n",
    "   \n",
    "H0: beta_Gj = 0  \n",
    "H1: beta_Gj != 0  \n",
    "Le paramètre beta_Gj de la variable Gj (indice de gini) n'est pas significatif au niveau de test alpha (0.05)  \n",
    "En effet p-value ~ 1 > alpha, on accepte H0, le paramètre n'est pas significatif (beta_Gj = 0)  \n",
    "  \n",
    "H0: beta_mj = 0  \n",
    "H1: beta_mj != 0  \n",
    "Le paramètre beta_mj de la variable mj est significatif au niveau de test alpha (0.05)  \n",
    "En effet p-value ~ 0.00 <<< alpha, on rejette H0, le paramètre est significatif (beta_mj != 0)  \n",
    "  \n",
    "H0: beta_c_i_parent = 0  \n",
    "H1: beta_c_i_parent != 0  \n",
    "Le paramètre beta_c_i_parent de la variable c_i_parent est significatif au niveau de test alpha (0.05)  \n",
    "En effet p-value ~ 0.00 <<< alpha, on rejette H0, le paramètre est significatif (beta_c_i_parent != 0) "
   ]
  },
  {
   "cell_type": "markdown",
   "metadata": {},
   "source": [
    "<a id='log2'></a>\n",
    "<h3 style='color:#8677b2'>Passage au logarithme du revenu enfant</h3>"
   ]
  },
  {
   "cell_type": "markdown",
   "metadata": {},
   "source": [
    "[Haut de page](#sommaire)"
   ]
  },
  {
   "cell_type": "code",
   "execution_count": 72,
   "metadata": {},
   "outputs": [
    {
     "data": {
      "text/html": [
       "<table class=\"simpletable\">\n",
       "<caption>OLS Regression Results</caption>\n",
       "<tr>\n",
       "  <th>Dep. Variable:</th>       <td>ln_y_child</td>    <th>  R-squared:         </th>  <td>   0.785</td>  \n",
       "</tr>\n",
       "<tr>\n",
       "  <th>Model:</th>                   <td>OLS</td>       <th>  Adj. R-squared:    </th>  <td>   0.785</td>  \n",
       "</tr>\n",
       "<tr>\n",
       "  <th>Method:</th>             <td>Least Squares</td>  <th>  F-statistic:       </th>  <td>7.060e+06</td> \n",
       "</tr>\n",
       "<tr>\n",
       "  <th>Date:</th>             <td>Wed, 22 May 2019</td> <th>  Prob (F-statistic):</th>   <td>  0.00</td>   \n",
       "</tr>\n",
       "<tr>\n",
       "  <th>Time:</th>                 <td>14:51:33</td>     <th>  Log-Likelihood:    </th> <td>-5.6444e+06</td>\n",
       "</tr>\n",
       "<tr>\n",
       "  <th>No. Observations:</th>      <td>5800000</td>     <th>  AIC:               </th>  <td>1.129e+07</td> \n",
       "</tr>\n",
       "<tr>\n",
       "  <th>Df Residuals:</th>          <td>5799996</td>     <th>  BIC:               </th>  <td>1.129e+07</td> \n",
       "</tr>\n",
       "<tr>\n",
       "  <th>Df Model:</th>              <td>     3</td>      <th>                     </th>      <td> </td>     \n",
       "</tr>\n",
       "<tr>\n",
       "  <th>Covariance Type:</th>      <td>nonrobust</td>    <th>                     </th>      <td> </td>     \n",
       "</tr>\n",
       "</table>"
      ],
      "text/plain": [
       "<class 'statsmodels.iolib.table.SimpleTable'>"
      ]
     },
     "execution_count": 72,
     "metadata": {},
     "output_type": "execute_result"
    }
   ],
   "source": [
    "reg_ln2 = smf.ols('ln_y_child ~ Gj + ln_mj + c_i_parent', data=ready_db1)\n",
    "reg_multi_ln2 = reg_ln2.fit()\n",
    "\n",
    "reg_multi_ln2.summary().tables[0]"
   ]
  },
  {
   "cell_type": "markdown",
   "metadata": {},
   "source": [
    "**Test global:**  \n",
    "H0: beta_GJ = beta_ln_mj = beta_c_i_parent = 0  \n",
    "H1: beta_GJ != beta_ln_mj = beta_c_i_parent != 0  \n",
    "F ~ 0.00 <<< alpha, on rejette H0, le modèle est globalement significatif"
   ]
  },
  {
   "cell_type": "code",
   "execution_count": 73,
   "metadata": {},
   "outputs": [
    {
     "data": {
      "text/html": [
       "<table class=\"simpletable\">\n",
       "<tr>\n",
       "       <td></td>         <th>coef</th>     <th>std err</th>      <th>t</th>      <th>P>|t|</th>  <th>[0.025</th>    <th>0.975]</th>  \n",
       "</tr>\n",
       "<tr>\n",
       "  <th>Intercept</th>  <td>   -0.0773</td> <td>    0.003</td> <td>  -29.436</td> <td> 0.000</td> <td>   -0.082</td> <td>   -0.072</td>\n",
       "</tr>\n",
       "<tr>\n",
       "  <th>Gj</th>         <td>   -1.6521</td> <td>    0.003</td> <td> -529.950</td> <td> 0.000</td> <td>   -1.658</td> <td>   -1.646</td>\n",
       "</tr>\n",
       "<tr>\n",
       "  <th>ln_mj</th>      <td>    0.9864</td> <td>    0.000</td> <td> 4100.914</td> <td> 0.000</td> <td>    0.986</td> <td>    0.987</td>\n",
       "</tr>\n",
       "<tr>\n",
       "  <th>c_i_parent</th> <td>    0.0113</td> <td> 9.21e-06</td> <td> 1231.637</td> <td> 0.000</td> <td>    0.011</td> <td>    0.011</td>\n",
       "</tr>\n",
       "</table>"
      ],
      "text/plain": [
       "<class 'statsmodels.iolib.table.SimpleTable'>"
      ]
     },
     "execution_count": 73,
     "metadata": {},
     "output_type": "execute_result"
    }
   ],
   "source": [
    "reg_multi_ln2.summary().tables[1]"
   ]
  },
  {
   "cell_type": "markdown",
   "metadata": {},
   "source": [
    "**Test de significativité:**\n",
    "   \n",
    "H0: beta_Gj = 0  \n",
    "H1: beta_Gj != 0  \n",
    "Le paramètre beta_Gj de la variable Gj (indice de gini) n'est pas significatif au niveau de test alpha (0.05)  \n",
    "En effet p-value ~ 0<<< alpha, on rejette H0, le paramètre est significatif (beta_Gj = 0)  \n",
    "  \n",
    "H0: beta_ln_mj = 0  \n",
    "H1: beta_ln_mj != 0  \n",
    "Le paramètre beta_ln_mj de la variable ln_mj est significatif au niveau de test alpha (0.05)  \n",
    "En effet p-value ~ 0.00 <<< alpha, on rejette H0, le paramètre est significatif (beta_ln_mj != 0)  \n",
    "  \n",
    "H0: beta_c_i_parent = 0  \n",
    "H1: beta_c_i_parent != 0  \n",
    "Le paramètre beta_c_i_parent de la variable c_i_parent est significatif au niveau de test alpha (0.05)  \n",
    "En effet p-value ~ 0.00 <<< alpha, on rejette H0, le paramètre est significatif (beta_c_i_parent != 0)  "
   ]
  },
  {
   "cell_type": "markdown",
   "metadata": {},
   "source": [
    "<a id='rsq2'></a>\n",
    "<h3 style='color:#8677b2'>Analyses de $R^2$</h3>"
   ]
  },
  {
   "cell_type": "markdown",
   "metadata": {},
   "source": [
    "[Haut de page](#sommaire)"
   ]
  },
  {
   "cell_type": "code",
   "execution_count": 74,
   "metadata": {},
   "outputs": [
    {
     "data": {
      "text/html": [
       "<div>\n",
       "<style scoped>\n",
       "    .dataframe tbody tr th:only-of-type {\n",
       "        vertical-align: middle;\n",
       "    }\n",
       "\n",
       "    .dataframe tbody tr th {\n",
       "        vertical-align: top;\n",
       "    }\n",
       "\n",
       "    .dataframe thead th {\n",
       "        text-align: right;\n",
       "    }\n",
       "</style>\n",
       "<table border=\"1\" class=\"dataframe\">\n",
       "  <thead>\n",
       "    <tr style=\"text-align: right;\">\n",
       "      <th></th>\n",
       "      <th>df</th>\n",
       "      <th>sum_sq</th>\n",
       "      <th>mean_sq</th>\n",
       "      <th>F</th>\n",
       "      <th>PR(&gt;F)</th>\n",
       "    </tr>\n",
       "  </thead>\n",
       "  <tbody>\n",
       "    <tr>\n",
       "      <th>Gj</th>\n",
       "      <td>1.0</td>\n",
       "      <td>1.167249e+06</td>\n",
       "      <td>1.167249e+06</td>\n",
       "      <td>2.846797e+06</td>\n",
       "      <td>0.0</td>\n",
       "    </tr>\n",
       "    <tr>\n",
       "      <th>ln_mj</th>\n",
       "      <td>1.0</td>\n",
       "      <td>6.895167e+06</td>\n",
       "      <td>6.895167e+06</td>\n",
       "      <td>1.681658e+07</td>\n",
       "      <td>0.0</td>\n",
       "    </tr>\n",
       "    <tr>\n",
       "      <th>c_i_parent</th>\n",
       "      <td>1.0</td>\n",
       "      <td>6.219749e+05</td>\n",
       "      <td>6.219749e+05</td>\n",
       "      <td>1.516931e+06</td>\n",
       "      <td>0.0</td>\n",
       "    </tr>\n",
       "    <tr>\n",
       "      <th>Residual</th>\n",
       "      <td>5799996.0</td>\n",
       "      <td>2.378126e+06</td>\n",
       "      <td>4.100219e-01</td>\n",
       "      <td>NaN</td>\n",
       "      <td>NaN</td>\n",
       "    </tr>\n",
       "  </tbody>\n",
       "</table>\n",
       "</div>"
      ],
      "text/plain": [
       "                   df        sum_sq       mean_sq             F  PR(>F)\n",
       "Gj                1.0  1.167249e+06  1.167249e+06  2.846797e+06     0.0\n",
       "ln_mj             1.0  6.895167e+06  6.895167e+06  1.681658e+07     0.0\n",
       "c_i_parent        1.0  6.219749e+05  6.219749e+05  1.516931e+06     0.0\n",
       "Residual    5799996.0  2.378126e+06  4.100219e-01           NaN     NaN"
      ]
     },
     "execution_count": 74,
     "metadata": {},
     "output_type": "execute_result"
    }
   ],
   "source": [
    "# Anova sur notre régression linéaire\n",
    "anova2 = sm.stats.anova_lm(reg_multi_ln2, typ=1)\n",
    "anova2"
   ]
  },
  {
   "cell_type": "code",
   "execution_count": 75,
   "metadata": {},
   "outputs": [
    {
     "data": {
      "text/plain": [
       "0.056223631320390044"
      ]
     },
     "execution_count": 75,
     "metadata": {},
     "output_type": "execute_result"
    }
   ],
   "source": [
    "# Calcul du R2 pour la variable 'c_i_parent'\n",
    "r2_c_i_parent = anova2.iloc[2,1] / anova2['sum_sq'].sum()\n",
    "r2_c_i_parent"
   ]
  },
  {
   "cell_type": "code",
   "execution_count": 76,
   "metadata": {},
   "outputs": [
    {
     "data": {
      "text/plain": [
       "(0.7850285283326355, 0.7850285283331276)"
      ]
     },
     "execution_count": 76,
     "metadata": {},
     "output_type": "execute_result"
    }
   ],
   "source": [
    "# Vérification\n",
    "r2_Gj + r2_ln_mj + r2_c_i_parent, reg_multi_ln2.rsquared"
   ]
  },
  {
   "cell_type": "code",
   "execution_count": 77,
   "metadata": {},
   "outputs": [
    {
     "name": "stdout",
     "output_type": "stream",
     "text": [
      "Dans notre modèle:\n",
      "\n",
      "La variable 'Gj' explique 10.55% de la variance de la variable 'ln_y_child'\n",
      "\n",
      "La variable 'ln_y_child_moy' explique 62.33% de la variance de la variable 'ln_y_child'\n",
      "\n",
      "La variable 'c_i_parent' explique 5.62% de la variance de la variable 'ln_y_child'\n",
      "\n",
      "Notre modèle explique 78.50% de la variance de la variable 'ln_y_child'\n"
     ]
    }
   ],
   "source": [
    "print(f'Dans notre modèle:\\n\\n\\\n",
    "La variable \\'Gj\\' explique {100 * r2_Gj:.2f}% de la variance de la variable \\'ln_y_child\\'\\n\\n\\\n",
    "La variable \\'ln_y_child_moy\\' explique {100 * r2_ln_mj:.2f}% de la variance de la variable \\'ln_y_child\\'\\n\\n\\\n",
    "La variable \\'c_i_parent\\' explique {100 * r2_c_i_parent:.2f}% de la variance de la variable \\'ln_y_child\\'\\n\\n\\\n",
    "Notre modèle explique {100 * reg_multi_ln2.rsquared:.2f}% de la variance de la variable \\'ln_y_child\\'')"
   ]
  },
  {
   "cell_type": "markdown",
   "metadata": {},
   "source": [
    "<a id='vif2'></a>\n",
    "<h3 style='color:#8677b2'>Détection des problèmes de colinéarité</h3>"
   ]
  },
  {
   "cell_type": "markdown",
   "metadata": {},
   "source": [
    "[Haut de page](#sommaire)"
   ]
  },
  {
   "cell_type": "code",
   "execution_count": 78,
   "metadata": {},
   "outputs": [
    {
     "data": {
      "text/plain": [
       "[1.0769055302378576, 1.0769055362086744, 1.0000000090297747]"
      ]
     },
     "execution_count": 78,
     "metadata": {},
     "output_type": "execute_result"
    }
   ],
   "source": [
    "# Facteur d'influence de la variance (Variance Inflation Factor)\n",
    "variables_ln2 = reg_multi_ln2.model.exog\n",
    "[variance_inflation_factor(variables_ln2, i) for i in np.arange(1,variables_ln2.shape[1])]"
   ]
  },
  {
   "cell_type": "markdown",
   "metadata": {},
   "source": [
    " * VIF_Gj et VIF_ln_y_child_moy < 10 (ou 5)  \n",
    "Pas de problème de colinéarité"
   ]
  },
  {
   "cell_type": "markdown",
   "metadata": {},
   "source": [
    "<a id='breu2'></a>\n",
    "<h3 style='color:#8677b2'>Test d'homoscédasticité</h3>"
   ]
  },
  {
   "cell_type": "markdown",
   "metadata": {},
   "source": [
    "[Haut de page](#sommaire)"
   ]
  },
  {
   "cell_type": "code",
   "execution_count": 79,
   "metadata": {},
   "outputs": [
    {
     "name": "stdout",
     "output_type": "stream",
     "text": [
      "p value test Breusch Pagan: 0.0\n"
     ]
    }
   ],
   "source": [
    "_, pval2, __, f_pval2 = statsmodels.stats.diagnostic.het_breuschpagan(reg_multi_ln2.resid, variables_ln2)\n",
    "print('p value test Breusch Pagan:', pval2)"
   ]
  },
  {
   "cell_type": "markdown",
   "metadata": {},
   "source": [
    "H0: Homoscédasticité  \n",
    "H1: Hétéroscédasticité  \n",
    "pvalue <<< alpha, rejet de H0, il y a hétéroscédasticité des residus  \n",
    "Toutefois, le modèle de regression linéaire multiple est robuste pour les grands échantillon. 5_800_000 ici, c'est notre cas.  \n",
    "Plus on a de données à disposition, plus le modèle est capable de supporter des écarts important aux hypothèse (gaussienne et homoscédastique)"
   ]
  },
  {
   "cell_type": "code",
   "execution_count": 80,
   "metadata": {},
   "outputs": [
    {
     "data": {
      "image/png": "[encoded data removed]",
      "text/plain": [
       "<Figure size 432x432 with 1 Axes>"
      ]
     },
     "metadata": {
      "needs_background": "light"
     },
     "output_type": "display_data"
    }
   ],
   "source": [
    "# Représentation des résidus en fonction des valeurs prédites\n",
    "plt.figure(figsize=(6,6))\n",
    "\n",
    "plt.scatter(reg_multi_ln2.resid, reg_multi_ln2.predict())\n",
    "\n",
    "plt.ylabel('Résidus')\n",
    "plt.xlabel('Valeurs prédites')\n",
    "plt.title('Nuage de point des residus\\n en fonction des valeurs prédites')\n",
    "\n",
    "plt.savefig('graph/homoscedasticity2.png')\n",
    "plt.show()"
   ]
  },
  {
   "cell_type": "markdown",
   "metadata": {},
   "source": [
    "<a id='norm2'></a>\n",
    "<h3 style='color:#8677b2'>Test de normalité des résidus</h3>"
   ]
  },
  {
   "cell_type": "markdown",
   "metadata": {},
   "source": [
    "[Haut de page](#sommaire)"
   ]
  },
  {
   "cell_type": "code",
   "execution_count": 81,
   "metadata": {},
   "outputs": [
    {
     "data": {
      "text/plain": [
       "Ks_2sampResult(statistic=0.02693482758620691, pvalue=0.0)"
      ]
     },
     "execution_count": 81,
     "metadata": {},
     "output_type": "execute_result"
    }
   ],
   "source": [
    "# Test d'adequation à une loi (ici Normale) avec le test Kolmogorv-Smirnov\n",
    "X_ln2 = reg_multi_ln2.resid\n",
    "Xbar_ln2 = np.mean(X_ln2)\n",
    "Xsprime_ln2 = np.std(X_ln2)\n",
    "\n",
    "ks_2samp(reg_multi_ln2.resid, list(np.random.normal(Xbar_ln2, Xsprime_ln2, 5_800_000)))"
   ]
  },
  {
   "cell_type": "markdown",
   "metadata": {},
   "source": [
    "H0: Les données suivent une loi normale  \n",
    "H1: Les données ne suivent pas une loi normale  \n",
    "p-value <<< 0.05, on rejette H0, y_child ne suit pas une loi normale"
   ]
  },
  {
   "cell_type": "code",
   "execution_count": 82,
   "metadata": {},
   "outputs": [
    {
     "data": {
      "text/plain": [
       "(1809740.6573621256, 0.0, -0.1310428968088434, 5.723948066180366)"
      ]
     },
     "execution_count": 82,
     "metadata": {},
     "output_type": "execute_result"
    }
   ],
   "source": [
    "# Test de Jarque-Bera (test de normalité basé sur le kurtosis et le skewness)\n",
    "JB_ln1, JBpv_ln1, skw_ln1, kurt_ln1 = sm.stats.stattools.jarque_bera(reg_multi_ln2.resid)\n",
    "JB_ln1, JBpv_ln1, skw_ln1, kurt_ln1"
   ]
  },
  {
   "cell_type": "markdown",
   "metadata": {},
   "source": [
    "H0: Les données suivent une loi normale  \n",
    "H1: Les données ne suivent pas une loi normale  \n",
    "JBpv ~ 0, on rejette H0, d'après le test, les données ne suivent pas une loi normale"
   ]
  },
  {
   "cell_type": "code",
   "execution_count": 83,
   "metadata": {},
   "outputs": [
    {
     "data": {
      "image/png": "[encoded data removed]",
      "text/plain": [
       "<Figure size 1080x1080 with 1 Axes>"
      ]
     },
     "metadata": {
      "needs_background": "light"
     },
     "output_type": "display_data"
    }
   ],
   "source": [
    "# Droite de Henry\n",
    "fig, ax = plt.subplots(figsize=(15, 15))\n",
    "\n",
    "sm.qqplot(X_ln2, line='45', fit=True, ax=ax)\n",
    "\n",
    "plt.ylabel('Quantiles de notre échantillon',fontsize=18)\n",
    "plt.yticks(fontsize=16)\n",
    "plt.xlabel('Quantiles d\\'une loi Normale',fontsize=18)\n",
    "plt.xticks(fontsize=16)\n",
    "plt.title('Droite de Henry',fontsize=22)\n",
    "\n",
    "plt.tight_layout()\n",
    "\n",
    "plt.savefig('graph/droite_henry_reg2.png')\n",
    "plt.show()"
   ]
  },
  {
   "cell_type": "code",
   "execution_count": 84,
   "metadata": {},
   "outputs": [
    {
     "data": {
      "image/png": "[encoded data removed]",
      "text/plain": [
       "<Figure size 720x720 with 1 Axes>"
      ]
     },
     "metadata": {
      "needs_background": "light"
     },
     "output_type": "display_data"
    }
   ],
   "source": [
    "#Représentation de la distribution marginale\n",
    "plt.figure(figsize=(10,10))\n",
    "\n",
    "plt.hist(X_ln2, 100, facecolor='g')\n",
    "plt.axvline(Xbar_ln2, color='r', linewidth=2)\n",
    "\n",
    "plt.title(f'Distribution marginale des résidus', fontsize=22)\n",
    "plt.ylabel('Nombre',fontsize=18)\n",
    "plt.yticks(fontsize=16)\n",
    "plt.xlabel('Résidus', fontsize=18)\n",
    "plt.xticks(fontsize=16)\n",
    "\n",
    "plt.tight_layout()\n",
    "\n",
    "plt.savefig('graph/dist_marg_resid_reg2.png')\n",
    "plt.show()"
   ]
  },
  {
   "cell_type": "markdown",
   "metadata": {},
   "source": [
    "<a id='ccl'></a>\n",
    "## Conclusion"
   ]
  },
  {
   "cell_type": "markdown",
   "metadata": {},
   "source": [
    "[Haut de page](#sommaire)"
   ]
  },
  {
   "cell_type": "code",
   "execution_count": 85,
   "metadata": {},
   "outputs": [
    {
     "data": {
      "text/html": [
       "<div>\n",
       "<style scoped>\n",
       "    .dataframe tbody tr th:only-of-type {\n",
       "        vertical-align: middle;\n",
       "    }\n",
       "\n",
       "    .dataframe tbody tr th {\n",
       "        vertical-align: top;\n",
       "    }\n",
       "\n",
       "    .dataframe thead th {\n",
       "        text-align: right;\n",
       "    }\n",
       "</style>\n",
       "<table border=\"1\" class=\"dataframe\">\n",
       "  <thead>\n",
       "    <tr style=\"text-align: right;\">\n",
       "      <th></th>\n",
       "      <th>AIC</th>\n",
       "      <th>BIC</th>\n",
       "      <th>R2</th>\n",
       "    </tr>\n",
       "  </thead>\n",
       "  <tbody>\n",
       "    <tr>\n",
       "      <th>ANOVA</th>\n",
       "      <td>237471.7</td>\n",
       "      <td>238325.3</td>\n",
       "      <td>49.6</td>\n",
       "    </tr>\n",
       "    <tr>\n",
       "      <th>Reg_mj_Gj</th>\n",
       "      <td>25278.5</td>\n",
       "      <td>25300.6</td>\n",
       "      <td>72.9</td>\n",
       "    </tr>\n",
       "    <tr>\n",
       "      <th>Reg_mj_Gj_Cip</th>\n",
       "      <td>11288732.1</td>\n",
       "      <td>11288786.4</td>\n",
       "      <td>78.5</td>\n",
       "    </tr>\n",
       "  </tbody>\n",
       "</table>\n",
       "</div>"
      ],
      "text/plain": [
       "                      AIC         BIC    R2\n",
       "ANOVA            237471.7    238325.3  49.6\n",
       "Reg_mj_Gj         25278.5     25300.6  72.9\n",
       "Reg_mj_Gj_Cip  11288732.1  11288786.4  78.5"
      ]
     },
     "execution_count": 85,
     "metadata": {},
     "output_type": "execute_result"
    }
   ],
   "source": [
    "aic = [anova_pays.aic, reg_multi_ln.aic, reg_multi_ln2.aic, ]\n",
    "bic = [anova_pays.bic, reg_multi_ln.bic, reg_multi_ln2.bic, ]\n",
    "R2 = [100 * anova_pays.rsquared, 100 * reg_multi_ln.rsquared, 100 * reg_multi_ln2.rsquared, ]\n",
    "model_ccl = pd.DataFrame({'AIC': aic,\n",
    "                          'BIC': bic,\n",
    "                          'R2': R2},\n",
    "                        index= ['ANOVA', 'Reg_mj_Gj', 'Reg_mj_Gj_Cip'])\n",
    "\n",
    "model_ccl = model_ccl[['AIC', 'BIC', 'R2']].round(1)\n",
    "\n",
    "model_ccl"
   ]
  },
  {
   "cell_type": "markdown",
   "metadata": {},
   "source": [
    "[Haut de page](#sommaire)"
   ]
  },
  {
   "cell_type": "code",
   "execution_count": 86,
   "metadata": {},
   "outputs": [
    {
     "data": {
      "image/png": "[encoded data removed]",
      "text/plain": [
       "<Figure size 720x720 with 1 Axes>"
      ]
     },
     "metadata": {
      "needs_background": "light"
     },
     "output_type": "display_data"
    }
   ],
   "source": [
    "# Préparation des données\n",
    "y = ready_db2.Gj\n",
    "x = ready_db2.pj\n",
    "\n",
    "# Calcul du coefficient de corrélation\n",
    "pear = scipy.stats.pearsonr(x,y)[0]\n",
    "\n",
    "# Cacul des paramètres\n",
    "slope, intercept, _, __, ___ = scipy.stats.linregress(x, y)\n",
    "\n",
    "# Droite de régression\n",
    "fitLine = slope * x + intercept\n",
    "\n",
    "# Courbe de Gatsby\n",
    "plt.figure(figsize=(10,10))\n",
    "plt.plot(x, fitLine, c='g')\n",
    "plt.scatter(x, y, c='g')\n",
    "plt.text(0.45, 0.1, f'Coefficient de corrélation: {pear:.2}', color='r', fontsize=18)\n",
    "\n",
    "# Décoration\n",
    "plt.title('Courbe de Gatsby', fontsize=22)\n",
    "plt.ylabel('Incide de Gini', fontsize=18)\n",
    "plt.ylim(0, 1)\n",
    "plt.yticks(fontsize=16)\n",
    "plt.xlabel('Coefficient d\\'élasticité', fontsize=18)\n",
    "plt.xticks(fontsize=16)\n",
    "plt.xlim(0, 1)\n",
    "\n",
    "\n",
    "\n",
    "plt.savefig('graph/courbe_gatsby.png')\n",
    "plt.show()"
   ]
  }
 ],
 "metadata": {
  "kernelspec": {
   "display_name": "Python 3",
   "language": "python",
   "name": "python3"
  },
  "language_info": {
   "codemirror_mode": {
    "name": "ipython",
    "version": 3
   },
   "file_extension": ".py",
   "mimetype": "text/x-python",
   "name": "python",
   "nbconvert_exporter": "python",
   "pygments_lexer": "ipython3",
   "version": "3.7.1"
  }
 },
 "nbformat": 4,
 "nbformat_minor": 2
}
